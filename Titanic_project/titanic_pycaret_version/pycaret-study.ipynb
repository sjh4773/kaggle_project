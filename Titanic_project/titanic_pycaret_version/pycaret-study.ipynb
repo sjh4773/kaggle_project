{
 "cells": [
  {
   "cell_type": "code",
   "execution_count": 1,
   "id": "directed-school",
   "metadata": {
    "_cell_guid": "b1076dfc-b9ad-4769-8c92-a6c4dae69d19",
    "_kg_hide-output": true,
    "_uuid": "8f2839f25d086af736a60e9eeb907d3b93b6e0e5",
    "execution": {
     "iopub.execute_input": "2021-04-28T12:32:33.622177Z",
     "iopub.status.busy": "2021-04-28T12:32:33.621387Z",
     "iopub.status.idle": "2021-04-28T12:32:33.631874Z",
     "shell.execute_reply": "2021-04-28T12:32:33.631164Z"
    },
    "papermill": {
     "duration": 0.068655,
     "end_time": "2021-04-28T12:32:33.632053",
     "exception": false,
     "start_time": "2021-04-28T12:32:33.563398",
     "status": "completed"
    },
    "tags": []
   },
   "outputs": [
    {
     "name": "stdout",
     "output_type": "stream",
     "text": [
      "/kaggle/input/submission-merged3/submission_lightgbm.csv\n",
      "/kaggle/input/submission-merged3/submission_catboost.csv\n",
      "/kaggle/input/submission-merged3/submission_merged3.csv\n",
      "/kaggle/input/submission-merged3/catboost_info/learn_error.tsv\n",
      "/kaggle/input/submission-merged3/catboost_info/catboost_training.json\n",
      "/kaggle/input/submission-merged3/catboost_info/time_left.tsv\n",
      "/kaggle/input/submission-merged3/catboost_info/learn/events.out.tfevents\n",
      "/kaggle/input/tabular-playground-series-apr-2021/sample_submission.csv\n",
      "/kaggle/input/tabular-playground-series-apr-2021/train.csv\n",
      "/kaggle/input/tabular-playground-series-apr-2021/test.csv\n"
     ]
    }
   ],
   "source": [
    "# This Python 3 environment comes with many helpful analytics libraries installed\n",
    "# It is defined by the kaggle/python Docker image: https://github.com/kaggle/docker-python\n",
    "# For example, here's several helpful packages to load\n",
    "\n",
    "import numpy as np # linear algebra\n",
    "import pandas as pd # data processing, CSV file I/O (e.g. pd.read_csv)\n",
    "\n",
    "# Input data files are available in the read-only \"../input/\" directory\n",
    "# For example, running this (by clicking run or pressing Shift+Enter) will list all files under the input directory\n",
    "\n",
    "import os\n",
    "for dirname, _, filenames in os.walk('/kaggle/input'):\n",
    "    for filename in filenames:\n",
    "        print(os.path.join(dirname, filename))\n",
    "\n",
    "# You can write up to 20GB to the current directory (/kaggle/working/) that gets preserved as output when you create a version using \"Save & Run All\" \n",
    "# You can also write temporary files to /kaggle/temp/, but they won't be saved outside of the current session"
   ]
  },
  {
   "cell_type": "code",
   "execution_count": 2,
   "id": "forward-underwear",
   "metadata": {
    "execution": {
     "iopub.execute_input": "2021-04-28T12:32:33.746515Z",
     "iopub.status.busy": "2021-04-28T12:32:33.745831Z",
     "iopub.status.idle": "2021-04-28T12:32:48.651914Z",
     "shell.execute_reply": "2021-04-28T12:32:48.651221Z"
    },
    "papermill": {
     "duration": 14.971176,
     "end_time": "2021-04-28T12:32:48.652059",
     "exception": false,
     "start_time": "2021-04-28T12:32:33.680883",
     "status": "completed"
    },
    "tags": []
   },
   "outputs": [
    {
     "name": "stdout",
     "output_type": "stream",
     "text": [
      "Collecting scikit-learn==0.23.2\r\n",
      "  Downloading scikit_learn-0.23.2-cp37-cp37m-manylinux1_x86_64.whl (6.8 MB)\r\n",
      "\u001b[K     |████████████████████████████████| 6.8 MB 4.8 MB/s \r\n",
      "\u001b[?25hRequirement already satisfied: joblib>=0.11 in /opt/conda/lib/python3.7/site-packages (from scikit-learn==0.23.2) (1.0.1)\r\n",
      "Requirement already satisfied: numpy>=1.13.3 in /opt/conda/lib/python3.7/site-packages (from scikit-learn==0.23.2) (1.19.5)\r\n",
      "Requirement already satisfied: threadpoolctl>=2.0.0 in /opt/conda/lib/python3.7/site-packages (from scikit-learn==0.23.2) (2.1.0)\r\n",
      "Requirement already satisfied: scipy>=0.19.1 in /opt/conda/lib/python3.7/site-packages (from scikit-learn==0.23.2) (1.5.4)\r\n",
      "Installing collected packages: scikit-learn\r\n",
      "  Attempting uninstall: scikit-learn\r\n",
      "    Found existing installation: scikit-learn 0.24.1\r\n",
      "    Uninstalling scikit-learn-0.24.1:\r\n",
      "      Successfully uninstalled scikit-learn-0.24.1\r\n",
      "\u001b[31mERROR: pip's dependency resolver does not currently take into account all the packages that are installed. This behaviour is the source of the following dependency conflicts.\r\n",
      "pyldavis 3.3.1 requires numpy>=1.20.0, but you have numpy 1.19.5 which is incompatible.\r\n",
      "pdpbox 0.2.1 requires matplotlib==3.1.1, but you have matplotlib 3.4.0 which is incompatible.\r\n",
      "imbalanced-learn 0.8.0 requires scikit-learn>=0.24, but you have scikit-learn 0.23.2 which is incompatible.\u001b[0m\r\n",
      "Successfully installed scikit-learn-0.23.2\r\n"
     ]
    }
   ],
   "source": [
    "!pip install scikit-learn==0.23.2"
   ]
  },
  {
   "cell_type": "markdown",
   "id": "cultural-bedroom",
   "metadata": {
    "papermill": {
     "duration": 0.063262,
     "end_time": "2021-04-28T12:32:48.778221",
     "exception": false,
     "start_time": "2021-04-28T12:32:48.714959",
     "status": "completed"
    },
    "tags": []
   },
   "source": [
    "https://www.kaggle.com/udbhavpangotra/tps-apr21-eda-model\n",
    "\n",
    "\n",
    "https://www.kaggle.com/hiro5299834/tps-apr-2021-voting-pseudo-labeling"
   ]
  },
  {
   "cell_type": "code",
   "execution_count": null,
   "id": "meaning-numbers",
   "metadata": {
    "papermill": {
     "duration": 0.061066,
     "end_time": "2021-04-28T12:32:48.901323",
     "exception": false,
     "start_time": "2021-04-28T12:32:48.840257",
     "status": "completed"
    },
    "tags": []
   },
   "outputs": [],
   "source": []
  },
  {
   "cell_type": "markdown",
   "id": "digital-freedom",
   "metadata": {
    "papermill": {
     "duration": 0.061776,
     "end_time": "2021-04-28T12:32:49.024873",
     "exception": false,
     "start_time": "2021-04-28T12:32:48.963097",
     "status": "completed"
    },
    "tags": []
   },
   "source": [
    "# KAGGLE 스터디 "
   ]
  },
  {
   "cell_type": "code",
   "execution_count": 3,
   "id": "general-support",
   "metadata": {
    "_kg_hide-input": true,
    "execution": {
     "iopub.execute_input": "2021-04-28T12:32:49.156122Z",
     "iopub.status.busy": "2021-04-28T12:32:49.155380Z",
     "iopub.status.idle": "2021-04-28T12:32:50.738124Z",
     "shell.execute_reply": "2021-04-28T12:32:50.739081Z"
    },
    "papermill": {
     "duration": 1.652849,
     "end_time": "2021-04-28T12:32:50.739347",
     "exception": false,
     "start_time": "2021-04-28T12:32:49.086498",
     "status": "completed"
    },
    "tags": []
   },
   "outputs": [
    {
     "data": {
      "text/html": [
       "<style type='text/css'>\n",
       ".datatable table.frame { margin-bottom: 0; }\n",
       ".datatable table.frame thead { border-bottom: none; }\n",
       ".datatable table.frame tr.coltypes td {  color: #FFFFFF;  line-height: 6px;  padding: 0 0.5em;}\n",
       ".datatable .bool    { background: #DDDD99; }\n",
       ".datatable .object  { background: #565656; }\n",
       ".datatable .int     { background: #5D9E5D; }\n",
       ".datatable .float   { background: #4040CC; }\n",
       ".datatable .str     { background: #CC4040; }\n",
       ".datatable .row_index {  background: var(--jp-border-color3);  border-right: 1px solid var(--jp-border-color0);  color: var(--jp-ui-font-color3);  font-size: 9px;}\n",
       ".datatable .frame tr.coltypes .row_index {  background: var(--jp-border-color0);}\n",
       ".datatable th:nth-child(2) { padding-left: 12px; }\n",
       ".datatable .hellipsis {  color: var(--jp-cell-editor-border-color);}\n",
       ".datatable .vellipsis {  background: var(--jp-layout-color0);  color: var(--jp-cell-editor-border-color);}\n",
       ".datatable .na {  color: var(--jp-cell-editor-border-color);  font-size: 80%;}\n",
       ".datatable .footer { font-size: 9px; }\n",
       ".datatable .frame_dimensions {  background: var(--jp-border-color3);  border-top: 1px solid var(--jp-border-color0);  color: var(--jp-ui-font-color3);  display: inline-block;  opacity: 0.6;  padding: 1px 10px 1px 5px;}\n",
       "</style>\n"
      ],
      "text/plain": [
       "<IPython.core.display.HTML object>"
      ]
     },
     "metadata": {},
     "output_type": "display_data"
    }
   ],
   "source": [
    "import pandas as pd\n",
    "import numpy as np\n",
    "import random\n",
    "import os\n",
    "\n",
    "from sklearn.metrics import accuracy_score\n",
    "from sklearn.preprocessing import LabelEncoder, StandardScaler\n",
    "from sklearn.model_selection import train_test_split, KFold, StratifiedKFold\n",
    "\n",
    "import lightgbm as lgb\n",
    "import catboost as ctb\n",
    "from sklearn.model_selection import GridSearchCV\n",
    "from sklearn.tree import DecisionTreeClassifier, export_graphviz\n",
    "\n",
    "import graphviz\n",
    "import matplotlib.pyplot as plt\n",
    "import seaborn as sns\n",
    "\n",
    "import warnings\n",
    "warnings.simplefilter('ignore')"
   ]
  },
  {
   "cell_type": "code",
   "execution_count": 4,
   "id": "champion-fellowship",
   "metadata": {
    "_kg_hide-input": true,
    "execution": {
     "iopub.execute_input": "2021-04-28T12:32:50.881298Z",
     "iopub.status.busy": "2021-04-28T12:32:50.880239Z",
     "iopub.status.idle": "2021-04-28T12:32:50.883791Z",
     "shell.execute_reply": "2021-04-28T12:32:50.883225Z"
    },
    "papermill": {
     "duration": 0.074212,
     "end_time": "2021-04-28T12:32:50.883954",
     "exception": false,
     "start_time": "2021-04-28T12:32:50.809742",
     "status": "completed"
    },
    "tags": []
   },
   "outputs": [],
   "source": [
    "TARGET = 'Survived'\n",
    "\n",
    "N_ESTIMATORS = 1000\n",
    "N_SPLITS = 10\n",
    "SEED = 2021\n",
    "EARLY_STOPPING_ROUNDS = 100\n",
    "VERBOSE = 100"
   ]
  },
  {
   "cell_type": "code",
   "execution_count": 5,
   "id": "contrary-mexico",
   "metadata": {
    "_kg_hide-input": true,
    "execution": {
     "iopub.execute_input": "2021-04-28T12:32:51.024978Z",
     "iopub.status.busy": "2021-04-28T12:32:51.023969Z",
     "iopub.status.idle": "2021-04-28T12:32:51.027261Z",
     "shell.execute_reply": "2021-04-28T12:32:51.026755Z"
    },
    "papermill": {
     "duration": 0.075019,
     "end_time": "2021-04-28T12:32:51.027413",
     "exception": false,
     "start_time": "2021-04-28T12:32:50.952394",
     "status": "completed"
    },
    "tags": []
   },
   "outputs": [],
   "source": [
    "# #랜덤 시드 생성\n",
    "def set_seed(seed=42):\n",
    "    random.seed(seed)\n",
    "    os.environ['PYTHONHASHSEED'] = str(seed)\n",
    "    np.random.seed(seed)\n",
    "    \n",
    "set_seed(SEED)"
   ]
  },
  {
   "cell_type": "markdown",
   "id": "lesbian-brake",
   "metadata": {
    "papermill": {
     "duration": 0.065248,
     "end_time": "2021-04-28T12:32:51.158360",
     "exception": false,
     "start_time": "2021-04-28T12:32:51.093112",
     "status": "completed"
    },
    "tags": []
   },
   "source": [
    "## 데이터 전처리"
   ]
  },
  {
   "cell_type": "markdown",
   "id": "oriented-backing",
   "metadata": {
    "papermill": {
     "duration": 0.063449,
     "end_time": "2021-04-28T12:32:51.287342",
     "exception": false,
     "start_time": "2021-04-28T12:32:51.223893",
     "status": "completed"
    },
    "tags": []
   },
   "source": [
    "### lode data"
   ]
  },
  {
   "cell_type": "code",
   "execution_count": 6,
   "id": "brown-addiction",
   "metadata": {
    "_kg_hide-input": true,
    "execution": {
     "iopub.execute_input": "2021-04-28T12:32:51.425475Z",
     "iopub.status.busy": "2021-04-28T12:32:51.424092Z",
     "iopub.status.idle": "2021-04-28T12:32:52.170890Z",
     "shell.execute_reply": "2021-04-28T12:32:52.171379Z"
    },
    "papermill": {
     "duration": 0.818037,
     "end_time": "2021-04-28T12:32:52.171587",
     "exception": false,
     "start_time": "2021-04-28T12:32:51.353550",
     "status": "completed"
    },
    "tags": []
   },
   "outputs": [],
   "source": [
    "train_df = pd.read_csv('../input/tabular-playground-series-apr-2021/train.csv')\n",
    "test_df = pd.read_csv('../input/tabular-playground-series-apr-2021/test.csv')\n",
    "submission = pd.read_csv('../input/tabular-playground-series-apr-2021/sample_submission.csv')\n",
    "#test_df['Survived'] = pd.read_csv(\"../input/submission-merged3/submission_merged3.csv\")['Survived']\n",
    "\n",
    "all_df = pd.concat([train_df, test_df]).reset_index(drop=True)\n",
    "#reset_index : 인덱스를 세팅한다. drop=True를 하면 인덱스를 세팅한걸 삭제함. \n"
   ]
  },
  {
   "cell_type": "code",
   "execution_count": 7,
   "id": "refined-arthritis",
   "metadata": {
    "_kg_hide-input": true,
    "execution": {
     "iopub.execute_input": "2021-04-28T12:32:52.305444Z",
     "iopub.status.busy": "2021-04-28T12:32:52.304802Z",
     "iopub.status.idle": "2021-04-28T12:32:52.311362Z",
     "shell.execute_reply": "2021-04-28T12:32:52.311969Z"
    },
    "papermill": {
     "duration": 0.074307,
     "end_time": "2021-04-28T12:32:52.312136",
     "exception": false,
     "start_time": "2021-04-28T12:32:52.237829",
     "status": "completed"
    },
    "tags": []
   },
   "outputs": [
    {
     "name": "stdout",
     "output_type": "stream",
     "text": [
      "Rows and Columns in train dataset: (100000, 12)\n",
      "Rows and Columns in test dataset: (100000, 11)\n"
     ]
    }
   ],
   "source": [
    "print('Rows and Columns in train dataset:', train_df.shape)\n",
    "print('Rows and Columns in test dataset:', test_df.shape)"
   ]
  },
  {
   "cell_type": "markdown",
   "id": "continental-isaac",
   "metadata": {
    "papermill": {
     "duration": 0.064525,
     "end_time": "2021-04-28T12:32:52.441422",
     "exception": false,
     "start_time": "2021-04-28T12:32:52.376897",
     "status": "completed"
    },
    "tags": []
   },
   "source": [
    "### 결측치 갯수 출력"
   ]
  },
  {
   "cell_type": "code",
   "execution_count": 8,
   "id": "modular-interview",
   "metadata": {
    "_kg_hide-input": true,
    "execution": {
     "iopub.execute_input": "2021-04-28T12:32:52.578488Z",
     "iopub.status.busy": "2021-04-28T12:32:52.577835Z",
     "iopub.status.idle": "2021-04-28T12:32:52.698832Z",
     "shell.execute_reply": "2021-04-28T12:32:52.698180Z"
    },
    "papermill": {
     "duration": 0.192869,
     "end_time": "2021-04-28T12:32:52.699007",
     "exception": false,
     "start_time": "2021-04-28T12:32:52.506138",
     "status": "completed"
    },
    "tags": []
   },
   "outputs": [
    {
     "name": "stdout",
     "output_type": "stream",
     "text": [
      "Missing values per columns in train dataset\n",
      "PassengerId: 0\n",
      "Survived: 0\n",
      "Pclass: 0\n",
      "Name: 0\n",
      "Sex: 0\n",
      "Age: 3292\n",
      "SibSp: 0\n",
      "Parch: 0\n",
      "Ticket: 4623\n",
      "Fare: 134\n",
      "Cabin: 67866\n",
      "Embarked: 250\n",
      "\n",
      "Missing values per columns in test dataset\n",
      "PassengerId: 0\n",
      "Pclass: 0\n",
      "Name: 0\n",
      "Sex: 0\n",
      "Age: 3487\n",
      "SibSp: 0\n",
      "Parch: 0\n",
      "Ticket: 5181\n",
      "Fare: 133\n",
      "Cabin: 70831\n",
      "Embarked: 277\n"
     ]
    }
   ],
   "source": [
    "print('Missing values per columns in train dataset')\n",
    "for col in train_df.columns:\n",
    "    temp_col = train_df[col].isnull().sum()\n",
    "    print(f'{col}: {temp_col}')\n",
    "print()\n",
    "print('Missing values per columns in test dataset')\n",
    "for col in test_df.columns:\n",
    "    temp_col = test_df[col].isnull().sum()\n",
    "    print(f'{col}: {temp_col}')"
   ]
  },
  {
   "cell_type": "markdown",
   "id": "australian-indicator",
   "metadata": {
    "papermill": {
     "duration": 0.067415,
     "end_time": "2021-04-28T12:32:52.832402",
     "exception": false,
     "start_time": "2021-04-28T12:32:52.764987",
     "status": "completed"
    },
    "tags": []
   },
   "source": [
    "### Filling missing values"
   ]
  },
  {
   "cell_type": "code",
   "execution_count": 9,
   "id": "further-stocks",
   "metadata": {
    "_kg_hide-input": true,
    "execution": {
     "iopub.execute_input": "2021-04-28T12:32:52.975755Z",
     "iopub.status.busy": "2021-04-28T12:32:52.975043Z",
     "iopub.status.idle": "2021-04-28T12:32:53.446406Z",
     "shell.execute_reply": "2021-04-28T12:32:53.445686Z"
    },
    "papermill": {
     "duration": 0.547152,
     "end_time": "2021-04-28T12:32:53.446611",
     "exception": false,
     "start_time": "2021-04-28T12:32:52.899459",
     "status": "completed"
    },
    "tags": []
   },
   "outputs": [],
   "source": [
    "#나이는 나이의 평균치로 채운다.\n",
    "all_df['Age'] = all_df['Age'].fillna(all_df['Age'].mean())\n",
    "\n",
    "#cabin은 문자열을 분할하고, 제일 첫번째 글자를 따와서 넣는다. 결측치엔 X를 넣는다.\n",
    "#strip() : 양쪽 공백을 지운다. 여기서느 x[0]외엔 다 지우는듯. \n",
    "all_df['Cabin'] = all_df['Cabin'].fillna('X').map(lambda x: x[0].strip())\n",
    "\n",
    "\n",
    "#print(all_df['Ticket'].head(10))\n",
    "#Ticket, fillna with 'X', split string and take first split \n",
    "#split() : 문자열 나누기. 디폴트는 ' '이고, 문자를 가진 데이터들이 전부 띄워쓰기로 구분되어있기때문에 가능. \n",
    "all_df['Ticket'] = all_df['Ticket'].fillna('X').map(lambda x:str(x).split()[0] if len(str(x).split()) > 1 else 'X')\n",
    "\n",
    "#pclass에 따른 Fare의 평균을 구해서 dictionary형태로 만든다. \n",
    "fare_map = all_df[['Fare', 'Pclass']].dropna().groupby('Pclass').median().to_dict()\n",
    "#fare의 결측치에 본인 행의 pclass 값을 넣고, 그 값을 fare 평균에 맵핑시킨다.  \n",
    "all_df['Fare'] = all_df['Fare'].fillna(all_df['Pclass'].map(fare_map['Fare']))\n",
    "#유독 높은 가격이나 낮은 가격이 있기때문에, 이상치의 영향을 줄이기 위해서 Fare에 log를 취해준다.\n",
    "all_df['Fare'] = np.log1p(all_df['Fare'])\n",
    "\n",
    "\n",
    "#항구의 결측치를 X로 채운다. \n",
    "all_df['Embarked'] = all_df['Embarked'].fillna('X')\n",
    "\n",
    "#이름은 성만 사용한다.\n",
    "all_df['Name'] = all_df['Name'].map(lambda x: x.split(',')[0])\n"
   ]
  },
  {
   "cell_type": "code",
   "execution_count": 10,
   "id": "provincial-heart",
   "metadata": {
    "_kg_hide-input": true,
    "execution": {
     "iopub.execute_input": "2021-04-28T12:32:53.591939Z",
     "iopub.status.busy": "2021-04-28T12:32:53.591189Z",
     "iopub.status.idle": "2021-04-28T12:32:53.674169Z",
     "shell.execute_reply": "2021-04-28T12:32:53.674685Z"
    },
    "papermill": {
     "duration": 0.160058,
     "end_time": "2021-04-28T12:32:53.674865",
     "exception": false,
     "start_time": "2021-04-28T12:32:53.514807",
     "status": "completed"
    },
    "tags": []
   },
   "outputs": [
    {
     "name": "stdout",
     "output_type": "stream",
     "text": [
      "Ticket\n",
      "X             36336\n",
      "PC            16814\n",
      "C.A.            338\n",
      "SC/Paris        334\n",
      "SC/PARIS        260\n",
      "W./C.           206\n",
      "S.O.C.          192\n",
      "S.C./PARIS      191\n",
      "PP              186\n",
      "F.C.            183\n",
      "SC/AH           178\n",
      "F.C.C.          167\n",
      "STON/O          163\n",
      "CA.             161\n",
      "SOTON/O.Q.      123\n",
      "A/4             115\n",
      "A/5.            108\n",
      "W.E.P.           94\n",
      "WE/P             92\n",
      "SOTON/OQ         87\n",
      "CA               81\n",
      "STON/O2.         81\n",
      "A/5              70\n",
      "C                67\n",
      "A/4.             66\n",
      "P/PP             66\n",
      "SC               59\n",
      "SOTON/O2         48\n",
      "A./5.            46\n",
      "S.O./P.P.        40\n",
      "A.5.             33\n",
      "AQ/4             27\n",
      "A/S              23\n",
      "SCO/W            19\n",
      "S.P.             17\n",
      "SC/A4            16\n",
      "SW/PP            16\n",
      "SC/A.3           15\n",
      "S.O.P.           15\n",
      "C.A./SOTON       14\n",
      "A.               14\n",
      "SO/C             14\n",
      "S.C./A.4.        14\n",
      "STON/OQ.         13\n",
      "W/C              13\n",
      "LP               11\n",
      "S.W./PP          11\n",
      "AQ/3.             8\n",
      "Fa                7\n",
      "A4.               6\n",
      "Name: Ticket, dtype: int64\n",
      "\n",
      "Ticket\n",
      "X             31337\n",
      "A.              997\n",
      "C.A.            717\n",
      "SC/PARIS        470\n",
      "STON/O          387\n",
      "PC              330\n",
      "S.O.C.          313\n",
      "PP              308\n",
      "SC/AH           284\n",
      "W./C.           259\n",
      "SOTON/O.Q.      219\n",
      "F.C.C.          203\n",
      "A/5.            200\n",
      "A/4             152\n",
      "SC/Paris        135\n",
      "S.C./PARIS      119\n",
      "SOTON/O2        112\n",
      "CA.             107\n",
      "STON/O2.        106\n",
      "C               104\n",
      "F.C.            100\n",
      "WE/P             92\n",
      "SOTON/OQ         86\n",
      "A/5              82\n",
      "CA               66\n",
      "W.E.P.           60\n",
      "A./5.            60\n",
      "S.O./P.P.        54\n",
      "P/PP             50\n",
      "A/4.             46\n",
      "SCO/W            36\n",
      "SC               33\n",
      "A.5.             29\n",
      "AQ/4             29\n",
      "LP               25\n",
      "SC/A.3           20\n",
      "C.A./SOTON       19\n",
      "A/S              19\n",
      "SC/A4            17\n",
      "Fa               15\n",
      "S.W./PP          13\n",
      "SO/C             13\n",
      "S.C./A.4.        13\n",
      "STON/OQ.         12\n",
      "W/C              11\n",
      "S.P.             10\n",
      "SW/PP             9\n",
      "S.O.P.            9\n",
      "A4.               7\n",
      "AQ/3.             6\n",
      "Name: Ticket, dtype: int64\n",
      "\n",
      "Ticket\n",
      "X             84781\n",
      "A.             6420\n",
      "C.A.           2615\n",
      "STON/O         1508\n",
      "A/5.            918\n",
      "SOTON/O.Q.      719\n",
      "PP              679\n",
      "SC/PARIS        642\n",
      "W./C.           623\n",
      "PC              595\n",
      "F.C.C.          541\n",
      "A/5             420\n",
      "CA.             368\n",
      "STON/O2.        363\n",
      "SC/AH           331\n",
      "A/4             268\n",
      "SOTON/O2        264\n",
      "S.O.C.          231\n",
      "C               227\n",
      "SC/Paris        177\n",
      "S.O./P.P.       177\n",
      "SOTON/OQ        172\n",
      "CA              172\n",
      "W.E.P.          154\n",
      "F.C.            131\n",
      "S.C./PARIS      127\n",
      "A./5.           122\n",
      "WE/P            121\n",
      "SC              106\n",
      "A/4.            104\n",
      "SCO/W            74\n",
      "A.5.             72\n",
      "P/PP             68\n",
      "SC/A4            67\n",
      "AQ/4             56\n",
      "LP               41\n",
      "Fa               37\n",
      "STON/OQ.         37\n",
      "S.W./PP          32\n",
      "SC/A.3           31\n",
      "C.A./SOTON       31\n",
      "SW/PP            30\n",
      "A/S              28\n",
      "SO/C             28\n",
      "AQ/3.            26\n",
      "S.P.             24\n",
      "S.C./A.4.        23\n",
      "S.O.P.           21\n",
      "W/C              20\n",
      "A4.              20\n",
      "Name: Ticket, dtype: int64\n",
      "\n"
     ]
    }
   ],
   "source": [
    "data_1=all_df.loc[all_df['Pclass']==1].groupby('Ticket')['Ticket'].count().sort_values(ascending=False)\n",
    "print(data_1)\n",
    "print()\n",
    "data_2=all_df.loc[all_df['Pclass']==2].groupby('Ticket')['Ticket'].count().sort_values(ascending=False)\n",
    "print(data_2)\n",
    "print()\n",
    "data_3=all_df.loc[all_df['Pclass']==3].groupby('Ticket')['Ticket'].count().sort_values(ascending=False)\n",
    "print(data_3)\n",
    "print()"
   ]
  },
  {
   "cell_type": "markdown",
   "id": "fabulous-thanksgiving",
   "metadata": {
    "papermill": {
     "duration": 0.069467,
     "end_time": "2021-04-28T12:32:53.810645",
     "exception": false,
     "start_time": "2021-04-28T12:32:53.741178",
     "status": "completed"
    },
    "tags": []
   },
   "source": [
    "## 인코딩 "
   ]
  },
  {
   "cell_type": "markdown",
   "id": "induced-stocks",
   "metadata": {
    "papermill": {
     "duration": 0.065806,
     "end_time": "2021-04-28T12:32:53.944094",
     "exception": false,
     "start_time": "2021-04-28T12:32:53.878288",
     "status": "completed"
    },
    "tags": []
   },
   "source": [
    "변수별로 인코딩을 다르게 해준다. "
   ]
  },
  {
   "cell_type": "code",
   "execution_count": 11,
   "id": "approved-stocks",
   "metadata": {
    "_kg_hide-input": true,
    "execution": {
     "iopub.execute_input": "2021-04-28T12:32:54.083977Z",
     "iopub.status.busy": "2021-04-28T12:32:54.083255Z",
     "iopub.status.idle": "2021-04-28T12:32:54.086764Z",
     "shell.execute_reply": "2021-04-28T12:32:54.086095Z"
    },
    "papermill": {
     "duration": 0.075392,
     "end_time": "2021-04-28T12:32:54.086905",
     "exception": false,
     "start_time": "2021-04-28T12:32:54.011513",
     "status": "completed"
    },
    "tags": []
   },
   "outputs": [],
   "source": [
    "label_cols = ['Name', 'Ticket', 'Sex','Pclass','Embarked']\n",
    "onehot_cols = [ 'Cabin',]\n",
    "numerical_cols = [ 'Age', 'SibSp', 'Parch', 'Fare']"
   ]
  },
  {
   "cell_type": "code",
   "execution_count": 12,
   "id": "combined-daily",
   "metadata": {
    "_kg_hide-input": true,
    "execution": {
     "iopub.execute_input": "2021-04-28T12:32:54.224714Z",
     "iopub.status.busy": "2021-04-28T12:32:54.223706Z",
     "iopub.status.idle": "2021-04-28T12:32:54.226903Z",
     "shell.execute_reply": "2021-04-28T12:32:54.226360Z"
    },
    "papermill": {
     "duration": 0.074835,
     "end_time": "2021-04-28T12:32:54.227043",
     "exception": false,
     "start_time": "2021-04-28T12:32:54.152208",
     "status": "completed"
    },
    "tags": []
   },
   "outputs": [],
   "source": [
    "#라벨 인코딩 함수. c라는 매개변수를 받아서 맞게 트렌스폼 해준다. \n",
    "def label_encoder(c):\n",
    "    le = LabelEncoder()\n",
    "    return le.fit_transform(c)"
   ]
  },
  {
   "cell_type": "code",
   "execution_count": 13,
   "id": "gentle-township",
   "metadata": {
    "_kg_hide-input": true,
    "execution": {
     "iopub.execute_input": "2021-04-28T12:32:54.368801Z",
     "iopub.status.busy": "2021-04-28T12:32:54.364127Z",
     "iopub.status.idle": "2021-04-28T12:32:54.800432Z",
     "shell.execute_reply": "2021-04-28T12:32:54.799857Z"
    },
    "papermill": {
     "duration": 0.508401,
     "end_time": "2021-04-28T12:32:54.800598",
     "exception": false,
     "start_time": "2021-04-28T12:32:54.292197",
     "status": "completed"
    },
    "tags": []
   },
   "outputs": [],
   "source": [
    "\n",
    "#StandardScaler(): 평균을 제거하고 데이터를 단위 분산으로 조정한다. \n",
    "#그러나 이상치가 있다면 평균과 표준편차에 영향을 미쳐 변환된 데이터의 확산은 매우 달라지게 되는 함수\n",
    "scaler = StandardScaler()\n",
    "\n",
    "onehot_encoded_df = pd.get_dummies(all_df[onehot_cols])\n",
    "label_encoded_df = all_df[label_cols].apply(label_encoder)\n",
    "numerical_df = pd.DataFrame(scaler.fit_transform(all_df[numerical_cols]), columns=numerical_cols)\n",
    "target_df = all_df[TARGET]\n",
    "\n",
    "all_df = pd.concat([numerical_df, label_encoded_df,onehot_encoded_df, target_df], axis=1)\n",
    "#all_df = pd.concat([numerical_df, label_encoded_df, target_df], axis=1)"
   ]
  },
  {
   "cell_type": "markdown",
   "id": "color-september",
   "metadata": {
    "papermill": {
     "duration": 0.064143,
     "end_time": "2021-04-28T12:32:54.929766",
     "exception": false,
     "start_time": "2021-04-28T12:32:54.865623",
     "status": "completed"
    },
    "tags": []
   },
   "source": [
    "## 모델링"
   ]
  },
  {
   "cell_type": "code",
   "execution_count": 14,
   "id": "supposed-beauty",
   "metadata": {
    "execution": {
     "iopub.execute_input": "2021-04-28T12:32:55.064799Z",
     "iopub.status.busy": "2021-04-28T12:32:55.063969Z",
     "iopub.status.idle": "2021-04-28T12:32:55.067162Z",
     "shell.execute_reply": "2021-04-28T12:32:55.066604Z"
    },
    "papermill": {
     "duration": 0.072304,
     "end_time": "2021-04-28T12:32:55.067307",
     "exception": false,
     "start_time": "2021-04-28T12:32:54.995003",
     "status": "completed"
    },
    "tags": []
   },
   "outputs": [],
   "source": [
    "drop_list=['Survived','Parch']"
   ]
  },
  {
   "cell_type": "markdown",
   "id": "numerous-tsunami",
   "metadata": {
    "papermill": {
     "duration": 0.064848,
     "end_time": "2021-04-28T12:32:55.197119",
     "exception": false,
     "start_time": "2021-04-28T12:32:55.132271",
     "status": "completed"
    },
    "tags": []
   },
   "source": [
    "## not pseudo"
   ]
  },
  {
   "cell_type": "code",
   "execution_count": 15,
   "id": "lined-recognition",
   "metadata": {
    "execution": {
     "iopub.execute_input": "2021-04-28T12:32:55.333919Z",
     "iopub.status.busy": "2021-04-28T12:32:55.333182Z",
     "iopub.status.idle": "2021-04-28T12:32:55.346493Z",
     "shell.execute_reply": "2021-04-28T12:32:55.345796Z"
    },
    "papermill": {
     "duration": 0.084868,
     "end_time": "2021-04-28T12:32:55.346655",
     "exception": false,
     "start_time": "2021-04-28T12:32:55.261787",
     "status": "completed"
    },
    "tags": []
   },
   "outputs": [],
   "source": [
    "train = all_df.iloc[:100000, :]#0개~100000개\n",
    "test = all_df.iloc[100000:, :] #100000개~ \n",
    "#iloc은 정수형 인덱싱\n",
    "test = test.drop('Survived', axis=1) #test에서 종속변수를 드랍한다. \n",
    "model_results = pd.DataFrame()\n",
    "folds = 5"
   ]
  },
  {
   "cell_type": "code",
   "execution_count": null,
   "id": "balanced-reach",
   "metadata": {
    "papermill": {
     "duration": 0.065711,
     "end_time": "2021-04-28T12:32:55.478950",
     "exception": false,
     "start_time": "2021-04-28T12:32:55.413239",
     "status": "completed"
    },
    "tags": []
   },
   "outputs": [],
   "source": []
  },
  {
   "cell_type": "code",
   "execution_count": 16,
   "id": "incorrect-angle",
   "metadata": {
    "_kg_hide-input": false,
    "execution": {
     "iopub.execute_input": "2021-04-28T12:32:55.615692Z",
     "iopub.status.busy": "2021-04-28T12:32:55.615006Z",
     "iopub.status.idle": "2021-04-28T12:32:55.627293Z",
     "shell.execute_reply": "2021-04-28T12:32:55.626725Z"
    },
    "papermill": {
     "duration": 0.082653,
     "end_time": "2021-04-28T12:32:55.627459",
     "exception": false,
     "start_time": "2021-04-28T12:32:55.544806",
     "status": "completed"
    },
    "tags": []
   },
   "outputs": [],
   "source": [
    "y= train.loc[:,'Survived']\n",
    "X= train.drop(drop_list,axis=1)"
   ]
  },
  {
   "cell_type": "markdown",
   "id": "decreased-review",
   "metadata": {
    "papermill": {
     "duration": 0.065297,
     "end_time": "2021-04-28T12:32:55.758716",
     "exception": false,
     "start_time": "2021-04-28T12:32:55.693419",
     "status": "completed"
    },
    "tags": []
   },
   "source": [
    "## pycaret"
   ]
  },
  {
   "cell_type": "code",
   "execution_count": 17,
   "id": "restricted-disposal",
   "metadata": {
    "execution": {
     "iopub.execute_input": "2021-04-28T12:32:55.903513Z",
     "iopub.status.busy": "2021-04-28T12:32:55.902880Z",
     "iopub.status.idle": "2021-04-28T12:32:55.907211Z",
     "shell.execute_reply": "2021-04-28T12:32:55.906685Z"
    },
    "papermill": {
     "duration": 0.080144,
     "end_time": "2021-04-28T12:32:55.907358",
     "exception": false,
     "start_time": "2021-04-28T12:32:55.827214",
     "status": "completed"
    },
    "tags": []
   },
   "outputs": [],
   "source": [
    "caret_train=train.drop('Parch',axis=1)"
   ]
  },
  {
   "cell_type": "code",
   "execution_count": 18,
   "id": "light-bachelor",
   "metadata": {
    "execution": {
     "iopub.execute_input": "2021-04-28T12:32:56.051884Z",
     "iopub.status.busy": "2021-04-28T12:32:56.044629Z",
     "iopub.status.idle": "2021-04-28T12:33:36.755202Z",
     "shell.execute_reply": "2021-04-28T12:33:36.754433Z"
    },
    "papermill": {
     "duration": 40.782322,
     "end_time": "2021-04-28T12:33:36.755359",
     "exception": false,
     "start_time": "2021-04-28T12:32:55.973037",
     "status": "completed"
    },
    "tags": []
   },
   "outputs": [
    {
     "name": "stdout",
     "output_type": "stream",
     "text": [
      "Collecting pycaret==2.2.3\r\n",
      "  Downloading pycaret-2.2.3-py3-none-any.whl (249 kB)\r\n",
      "\u001b[K     |████████████████████████████████| 249 kB 866 kB/s \r\n",
      "\u001b[?25hRequirement already satisfied: scikit-plot in /opt/conda/lib/python3.7/site-packages (from pycaret==2.2.3) (0.3.7)\r\n",
      "Requirement already satisfied: xgboost>=1.1.0 in /opt/conda/lib/python3.7/site-packages (from pycaret==2.2.3) (1.3.3)\r\n",
      "Requirement already satisfied: scikit-learn==0.23.2 in /opt/conda/lib/python3.7/site-packages (from pycaret==2.2.3) (0.23.2)\r\n",
      "Requirement already satisfied: textblob in /opt/conda/lib/python3.7/site-packages (from pycaret==2.2.3) (0.15.3)\r\n",
      "Requirement already satisfied: wordcloud in /opt/conda/lib/python3.7/site-packages (from pycaret==2.2.3) (1.8.1)\r\n",
      "Requirement already satisfied: pyLDAvis in /opt/conda/lib/python3.7/site-packages (from pycaret==2.2.3) (3.3.1)\r\n",
      "Requirement already satisfied: joblib in /opt/conda/lib/python3.7/site-packages (from pycaret==2.2.3) (1.0.1)\r\n",
      "Requirement already satisfied: numpy>=1.17 in /opt/conda/lib/python3.7/site-packages (from pycaret==2.2.3) (1.19.5)\r\n",
      "Requirement already satisfied: plotly>=4.4.1 in /opt/conda/lib/python3.7/site-packages (from pycaret==2.2.3) (4.14.3)\r\n",
      "Requirement already satisfied: mlxtend in /opt/conda/lib/python3.7/site-packages (from pycaret==2.2.3) (0.18.0)\r\n",
      "Requirement already satisfied: IPython in /opt/conda/lib/python3.7/site-packages (from pycaret==2.2.3) (7.20.0)\r\n",
      "Requirement already satisfied: gensim in /opt/conda/lib/python3.7/site-packages (from pycaret==2.2.3) (4.0.0)\r\n",
      "Requirement already satisfied: ipywidgets in /opt/conda/lib/python3.7/site-packages (from pycaret==2.2.3) (7.6.3)\r\n",
      "Requirement already satisfied: imbalanced-learn>=0.7.0 in /opt/conda/lib/python3.7/site-packages (from pycaret==2.2.3) (0.8.0)\r\n",
      "Requirement already satisfied: nltk in /opt/conda/lib/python3.7/site-packages (from pycaret==2.2.3) (3.2.4)\r\n",
      "Requirement already satisfied: catboost>=0.23.2 in /opt/conda/lib/python3.7/site-packages (from pycaret==2.2.3) (0.25)\r\n",
      "Requirement already satisfied: pandas-profiling>=2.8.0 in /opt/conda/lib/python3.7/site-packages (from pycaret==2.2.3) (2.8.0)\r\n",
      "Requirement already satisfied: cufflinks>=0.17.0 in /opt/conda/lib/python3.7/site-packages (from pycaret==2.2.3) (0.17.3)\r\n",
      "Requirement already satisfied: matplotlib in /opt/conda/lib/python3.7/site-packages (from pycaret==2.2.3) (3.4.0)\r\n",
      "Requirement already satisfied: umap-learn in /opt/conda/lib/python3.7/site-packages (from pycaret==2.2.3) (0.5.1)\r\n",
      "Collecting pyod\r\n",
      "  Downloading pyod-0.8.8.tar.gz (102 kB)\r\n",
      "\u001b[K     |████████████████████████████████| 102 kB 7.9 MB/s \r\n",
      "\u001b[?25hRequirement already satisfied: kmodes>=0.10.1 in /opt/conda/lib/python3.7/site-packages (from pycaret==2.2.3) (0.11.0)\r\n",
      "Collecting mlflow\r\n",
      "  Downloading mlflow-1.16.0-py3-none-any.whl (14.2 MB)\r\n",
      "\u001b[K     |████████████████████████████████| 14.2 MB 6.4 MB/s \r\n",
      "\u001b[?25hRequirement already satisfied: seaborn in /opt/conda/lib/python3.7/site-packages (from pycaret==2.2.3) (0.11.1)\r\n",
      "Requirement already satisfied: pandas in /opt/conda/lib/python3.7/site-packages (from pycaret==2.2.3) (1.2.2)\r\n",
      "Requirement already satisfied: yellowbrick>=1.0.1 in /opt/conda/lib/python3.7/site-packages (from pycaret==2.2.3) (1.3.post1)\r\n",
      "Requirement already satisfied: spacy in /opt/conda/lib/python3.7/site-packages (from pycaret==2.2.3) (2.3.5)\r\n",
      "Requirement already satisfied: lightgbm>=2.3.1 in /opt/conda/lib/python3.7/site-packages (from pycaret==2.2.3) (3.1.1)\r\n",
      "Requirement already satisfied: threadpoolctl>=2.0.0 in /opt/conda/lib/python3.7/site-packages (from scikit-learn==0.23.2->pycaret==2.2.3) (2.1.0)\r\n",
      "Requirement already satisfied: scipy>=0.19.1 in /opt/conda/lib/python3.7/site-packages (from scikit-learn==0.23.2->pycaret==2.2.3) (1.5.4)\r\n",
      "Requirement already satisfied: graphviz in /opt/conda/lib/python3.7/site-packages (from catboost>=0.23.2->pycaret==2.2.3) (0.8.4)\r\n",
      "Requirement already satisfied: six in /opt/conda/lib/python3.7/site-packages (from catboost>=0.23.2->pycaret==2.2.3) (1.15.0)\r\n",
      "Requirement already satisfied: setuptools>=34.4.1 in /opt/conda/lib/python3.7/site-packages (from cufflinks>=0.17.0->pycaret==2.2.3) (49.6.0.post20210108)\r\n",
      "Requirement already satisfied: colorlover>=0.2.1 in /opt/conda/lib/python3.7/site-packages (from cufflinks>=0.17.0->pycaret==2.2.3) (0.3.0)\r\n",
      "Collecting imbalanced-learn>=0.7.0\r\n",
      "  Downloading imbalanced_learn-0.7.0-py3-none-any.whl (167 kB)\r\n",
      "\u001b[K     |████████████████████████████████| 167 kB 24.4 MB/s \r\n",
      "\u001b[?25hRequirement already satisfied: pickleshare in /opt/conda/lib/python3.7/site-packages (from IPython->pycaret==2.2.3) (0.7.5)\r\n",
      "Requirement already satisfied: pygments in /opt/conda/lib/python3.7/site-packages (from IPython->pycaret==2.2.3) (2.8.0)\r\n",
      "Requirement already satisfied: decorator in /opt/conda/lib/python3.7/site-packages (from IPython->pycaret==2.2.3) (4.4.2)\r\n",
      "Requirement already satisfied: prompt-toolkit!=3.0.0,!=3.0.1,<3.1.0,>=2.0.0 in /opt/conda/lib/python3.7/site-packages (from IPython->pycaret==2.2.3) (3.0.16)\r\n",
      "Requirement already satisfied: backcall in /opt/conda/lib/python3.7/site-packages (from IPython->pycaret==2.2.3) (0.2.0)\r\n",
      "Requirement already satisfied: traitlets>=4.2 in /opt/conda/lib/python3.7/site-packages (from IPython->pycaret==2.2.3) (5.0.5)\r\n",
      "Requirement already satisfied: pexpect>4.3 in /opt/conda/lib/python3.7/site-packages (from IPython->pycaret==2.2.3) (4.8.0)\r\n",
      "Requirement already satisfied: jedi>=0.16 in /opt/conda/lib/python3.7/site-packages (from IPython->pycaret==2.2.3) (0.17.2)\r\n",
      "Requirement already satisfied: jupyterlab-widgets>=1.0.0 in /opt/conda/lib/python3.7/site-packages (from ipywidgets->pycaret==2.2.3) (1.0.0)\r\n",
      "Requirement already satisfied: widgetsnbextension~=3.5.0 in /opt/conda/lib/python3.7/site-packages (from ipywidgets->pycaret==2.2.3) (3.5.1)\r\n",
      "Requirement already satisfied: ipykernel>=4.5.1 in /opt/conda/lib/python3.7/site-packages (from ipywidgets->pycaret==2.2.3) (5.1.1)\r\n",
      "Requirement already satisfied: nbformat>=4.2.0 in /opt/conda/lib/python3.7/site-packages (from ipywidgets->pycaret==2.2.3) (5.1.2)\r\n",
      "Requirement already satisfied: jupyter-client in /opt/conda/lib/python3.7/site-packages (from ipykernel>=4.5.1->ipywidgets->pycaret==2.2.3) (6.1.11)\r\n",
      "Requirement already satisfied: tornado>=4.2 in /opt/conda/lib/python3.7/site-packages (from ipykernel>=4.5.1->ipywidgets->pycaret==2.2.3) (5.0.2)\r\n",
      "Requirement already satisfied: parso<0.8.0,>=0.7.0 in /opt/conda/lib/python3.7/site-packages (from jedi>=0.16->IPython->pycaret==2.2.3) (0.7.1)\r\n",
      "Requirement already satisfied: wheel in /opt/conda/lib/python3.7/site-packages (from lightgbm>=2.3.1->pycaret==2.2.3) (0.36.2)\r\n",
      "Requirement already satisfied: ipython-genutils in /opt/conda/lib/python3.7/site-packages (from nbformat>=4.2.0->ipywidgets->pycaret==2.2.3) (0.2.0)\r\n",
      "Requirement already satisfied: jsonschema!=2.5.0,>=2.4 in /opt/conda/lib/python3.7/site-packages (from nbformat>=4.2.0->ipywidgets->pycaret==2.2.3) (3.2.0)\r\n",
      "Requirement already satisfied: jupyter-core in /opt/conda/lib/python3.7/site-packages (from nbformat>=4.2.0->ipywidgets->pycaret==2.2.3) (4.7.1)\r\n",
      "Requirement already satisfied: pyrsistent>=0.14.0 in /opt/conda/lib/python3.7/site-packages (from jsonschema!=2.5.0,>=2.4->nbformat>=4.2.0->ipywidgets->pycaret==2.2.3) (0.17.3)\r\n",
      "Requirement already satisfied: importlib-metadata in /opt/conda/lib/python3.7/site-packages (from jsonschema!=2.5.0,>=2.4->nbformat>=4.2.0->ipywidgets->pycaret==2.2.3) (3.4.0)\r\n",
      "Requirement already satisfied: attrs>=17.4.0 in /opt/conda/lib/python3.7/site-packages (from jsonschema!=2.5.0,>=2.4->nbformat>=4.2.0->ipywidgets->pycaret==2.2.3) (20.3.0)\r\n",
      "Requirement already satisfied: python-dateutil>=2.7.3 in /opt/conda/lib/python3.7/site-packages (from pandas->pycaret==2.2.3) (2.8.1)\r\n",
      "Requirement already satisfied: pytz>=2017.3 in /opt/conda/lib/python3.7/site-packages (from pandas->pycaret==2.2.3) (2021.1)\r\n",
      "Requirement already satisfied: visions[type_image_path]==0.4.4 in /opt/conda/lib/python3.7/site-packages (from pandas-profiling>=2.8.0->pycaret==2.2.3) (0.4.4)\r\n",
      "Requirement already satisfied: astropy>=4.0 in /opt/conda/lib/python3.7/site-packages (from pandas-profiling>=2.8.0->pycaret==2.2.3) (4.2)\r\n",
      "Requirement already satisfied: tqdm>=4.43.0 in /opt/conda/lib/python3.7/site-packages (from pandas-profiling>=2.8.0->pycaret==2.2.3) (4.56.2)\r\n",
      "Requirement already satisfied: confuse>=1.0.0 in /opt/conda/lib/python3.7/site-packages (from pandas-profiling>=2.8.0->pycaret==2.2.3) (1.4.0)\r\n",
      "Requirement already satisfied: htmlmin>=0.1.12 in /opt/conda/lib/python3.7/site-packages (from pandas-profiling>=2.8.0->pycaret==2.2.3) (0.1.12)\r\n",
      "Requirement already satisfied: jinja2>=2.11.1 in /opt/conda/lib/python3.7/site-packages (from pandas-profiling>=2.8.0->pycaret==2.2.3) (2.11.3)\r\n",
      "Requirement already satisfied: missingno>=0.4.2 in /opt/conda/lib/python3.7/site-packages (from pandas-profiling>=2.8.0->pycaret==2.2.3) (0.4.2)\r\n",
      "Requirement already satisfied: requests>=2.23.0 in /opt/conda/lib/python3.7/site-packages (from pandas-profiling>=2.8.0->pycaret==2.2.3) (2.25.1)\r\n",
      "Requirement already satisfied: phik>=0.9.10 in /opt/conda/lib/python3.7/site-packages (from pandas-profiling>=2.8.0->pycaret==2.2.3) (0.10.0)\r\n",
      "Requirement already satisfied: tangled-up-in-unicode>=0.0.6 in /opt/conda/lib/python3.7/site-packages (from pandas-profiling>=2.8.0->pycaret==2.2.3) (0.0.6)\r\n",
      "Requirement already satisfied: networkx>=2.4 in /opt/conda/lib/python3.7/site-packages (from visions[type_image_path]==0.4.4->pandas-profiling>=2.8.0->pycaret==2.2.3) (2.5)\r\n",
      "Requirement already satisfied: imagehash in /opt/conda/lib/python3.7/site-packages (from visions[type_image_path]==0.4.4->pandas-profiling>=2.8.0->pycaret==2.2.3) (4.2.0)\r\n",
      "Requirement already satisfied: Pillow in /opt/conda/lib/python3.7/site-packages (from visions[type_image_path]==0.4.4->pandas-profiling>=2.8.0->pycaret==2.2.3) (7.2.0)\r\n",
      "Requirement already satisfied: pyerfa in /opt/conda/lib/python3.7/site-packages (from astropy>=4.0->pandas-profiling>=2.8.0->pycaret==2.2.3) (1.7.1.1)\r\n",
      "Requirement already satisfied: pyyaml in /opt/conda/lib/python3.7/site-packages (from confuse>=1.0.0->pandas-profiling>=2.8.0->pycaret==2.2.3) (5.3.1)\r\n",
      "Requirement already satisfied: MarkupSafe>=0.23 in /opt/conda/lib/python3.7/site-packages (from jinja2>=2.11.1->pandas-profiling>=2.8.0->pycaret==2.2.3) (1.1.1)\r\n",
      "Requirement already satisfied: pyparsing>=2.2.1 in /opt/conda/lib/python3.7/site-packages (from matplotlib->pycaret==2.2.3) (2.4.7)\r\n",
      "Requirement already satisfied: cycler>=0.10 in /opt/conda/lib/python3.7/site-packages (from matplotlib->pycaret==2.2.3) (0.10.0)\r\n",
      "Requirement already satisfied: kiwisolver>=1.0.1 in /opt/conda/lib/python3.7/site-packages (from matplotlib->pycaret==2.2.3) (1.3.1)\r\n",
      "Requirement already satisfied: ptyprocess>=0.5 in /opt/conda/lib/python3.7/site-packages (from pexpect>4.3->IPython->pycaret==2.2.3) (0.7.0)\r\n",
      "Requirement already satisfied: numba>=0.38.1 in /opt/conda/lib/python3.7/site-packages (from phik>=0.9.10->pandas-profiling>=2.8.0->pycaret==2.2.3) (0.52.0)\r\n",
      "Requirement already satisfied: llvmlite<0.36,>=0.35.0 in /opt/conda/lib/python3.7/site-packages (from numba>=0.38.1->phik>=0.9.10->pandas-profiling>=2.8.0->pycaret==2.2.3) (0.35.0)\r\n",
      "Requirement already satisfied: retrying>=1.3.3 in /opt/conda/lib/python3.7/site-packages (from plotly>=4.4.1->pycaret==2.2.3) (1.3.3)\r\n",
      "Requirement already satisfied: wcwidth in /opt/conda/lib/python3.7/site-packages (from prompt-toolkit!=3.0.0,!=3.0.1,<3.1.0,>=2.0.0->IPython->pycaret==2.2.3) (0.2.5)\r\n",
      "Requirement already satisfied: idna<3,>=2.5 in /opt/conda/lib/python3.7/site-packages (from requests>=2.23.0->pandas-profiling>=2.8.0->pycaret==2.2.3) (2.10)\r\n",
      "Requirement already satisfied: certifi>=2017.4.17 in /opt/conda/lib/python3.7/site-packages (from requests>=2.23.0->pandas-profiling>=2.8.0->pycaret==2.2.3) (2020.12.5)\r\n",
      "Requirement already satisfied: urllib3<1.27,>=1.21.1 in /opt/conda/lib/python3.7/site-packages (from requests>=2.23.0->pandas-profiling>=2.8.0->pycaret==2.2.3) (1.26.3)\r\n",
      "Requirement already satisfied: chardet<5,>=3.0.2 in /opt/conda/lib/python3.7/site-packages (from requests>=2.23.0->pandas-profiling>=2.8.0->pycaret==2.2.3) (3.0.4)\r\n",
      "Requirement already satisfied: notebook>=4.4.1 in /opt/conda/lib/python3.7/site-packages (from widgetsnbextension~=3.5.0->ipywidgets->pycaret==2.2.3) (5.5.0)\r\n",
      "Requirement already satisfied: pyzmq>=17 in /opt/conda/lib/python3.7/site-packages (from notebook>=4.4.1->widgetsnbextension~=3.5.0->ipywidgets->pycaret==2.2.3) (22.0.3)\r\n",
      "Requirement already satisfied: terminado>=0.8.1 in /opt/conda/lib/python3.7/site-packages (from notebook>=4.4.1->widgetsnbextension~=3.5.0->ipywidgets->pycaret==2.2.3) (0.9.2)\r\n",
      "Requirement already satisfied: nbconvert in /opt/conda/lib/python3.7/site-packages (from notebook>=4.4.1->widgetsnbextension~=3.5.0->ipywidgets->pycaret==2.2.3) (6.0.7)\r\n",
      "Requirement already satisfied: Send2Trash in /opt/conda/lib/python3.7/site-packages (from notebook>=4.4.1->widgetsnbextension~=3.5.0->ipywidgets->pycaret==2.2.3) (1.5.0)\r\n",
      "Requirement already satisfied: smart-open>=1.8.1 in /opt/conda/lib/python3.7/site-packages (from gensim->pycaret==2.2.3) (5.0.0)\r\n",
      "Requirement already satisfied: PyWavelets in /opt/conda/lib/python3.7/site-packages (from imagehash->visions[type_image_path]==0.4.4->pandas-profiling>=2.8.0->pycaret==2.2.3) (1.1.1)\r\n",
      "Requirement already satisfied: zipp>=0.5 in /opt/conda/lib/python3.7/site-packages (from importlib-metadata->jsonschema!=2.5.0,>=2.4->nbformat>=4.2.0->ipywidgets->pycaret==2.2.3) (3.4.0)\r\n",
      "Requirement already satisfied: typing-extensions>=3.6.4 in /opt/conda/lib/python3.7/site-packages (from importlib-metadata->jsonschema!=2.5.0,>=2.4->nbformat>=4.2.0->ipywidgets->pycaret==2.2.3) (3.7.4.3)\r\n",
      "Requirement already satisfied: sqlparse>=0.3.1 in /opt/conda/lib/python3.7/site-packages (from mlflow->pycaret==2.2.3) (0.4.1)\r\n",
      "Collecting databricks-cli>=0.8.7\r\n",
      "  Downloading databricks-cli-0.14.3.tar.gz (54 kB)\r\n",
      "\u001b[K     |████████████████████████████████| 54 kB 1.6 MB/s \r\n",
      "\u001b[?25hRequirement already satisfied: sqlalchemy in /opt/conda/lib/python3.7/site-packages (from mlflow->pycaret==2.2.3) (1.3.23)\r\n",
      "Requirement already satisfied: click>=7.0 in /opt/conda/lib/python3.7/site-packages (from mlflow->pycaret==2.2.3) (7.1.2)\r\n",
      "Requirement already satisfied: cloudpickle in /opt/conda/lib/python3.7/site-packages (from mlflow->pycaret==2.2.3) (1.6.0)\r\n",
      "Requirement already satisfied: entrypoints in /opt/conda/lib/python3.7/site-packages (from mlflow->pycaret==2.2.3) (0.3)\r\n",
      "Requirement already satisfied: gitpython>=2.1.0 in /opt/conda/lib/python3.7/site-packages (from mlflow->pycaret==2.2.3) (3.1.13)\r\n",
      "Collecting querystring-parser\r\n",
      "  Downloading querystring_parser-1.2.4-py2.py3-none-any.whl (7.9 kB)\r\n",
      "Collecting gunicorn\r\n",
      "  Downloading gunicorn-20.1.0-py3-none-any.whl (79 kB)\r\n",
      "\u001b[K     |████████████████████████████████| 79 kB 4.8 MB/s \r\n",
      "\u001b[?25hRequirement already satisfied: Flask in /opt/conda/lib/python3.7/site-packages (from mlflow->pycaret==2.2.3) (1.1.2)\r\n",
      "Collecting alembic<=1.4.1\r\n",
      "  Downloading alembic-1.4.1.tar.gz (1.1 MB)\r\n",
      "\u001b[K     |████████████████████████████████| 1.1 MB 25.7 MB/s \r\n",
      "\u001b[?25hRequirement already satisfied: protobuf>=3.6.0 in /opt/conda/lib/python3.7/site-packages (from mlflow->pycaret==2.2.3) (3.15.6)\r\n",
      "Requirement already satisfied: docker>=4.0.0 in /opt/conda/lib/python3.7/site-packages (from mlflow->pycaret==2.2.3) (4.4.1)\r\n",
      "Collecting prometheus-flask-exporter\r\n",
      "  Downloading prometheus_flask_exporter-0.18.1.tar.gz (21 kB)\r\n",
      "Requirement already satisfied: Mako in /opt/conda/lib/python3.7/site-packages (from alembic<=1.4.1->mlflow->pycaret==2.2.3) (1.1.4)\r\n",
      "Requirement already satisfied: python-editor>=0.3 in /opt/conda/lib/python3.7/site-packages (from alembic<=1.4.1->mlflow->pycaret==2.2.3) (1.0.4)\r\n",
      "Requirement already satisfied: tabulate>=0.7.7 in /opt/conda/lib/python3.7/site-packages (from databricks-cli>=0.8.7->mlflow->pycaret==2.2.3) (0.8.9)\r\n",
      "Requirement already satisfied: websocket-client>=0.32.0 in /opt/conda/lib/python3.7/site-packages (from docker>=4.0.0->mlflow->pycaret==2.2.3) (0.57.0)\r\n",
      "Requirement already satisfied: gitdb<5,>=4.0.1 in /opt/conda/lib/python3.7/site-packages (from gitpython>=2.1.0->mlflow->pycaret==2.2.3) (4.0.5)\r\n",
      "Requirement already satisfied: smmap<4,>=3.0.1 in /opt/conda/lib/python3.7/site-packages (from gitdb<5,>=4.0.1->gitpython>=2.1.0->mlflow->pycaret==2.2.3) (3.0.5)\r\n",
      "Requirement already satisfied: Werkzeug>=0.15 in /opt/conda/lib/python3.7/site-packages (from Flask->mlflow->pycaret==2.2.3) (1.0.1)\r\n",
      "Requirement already satisfied: itsdangerous>=0.24 in /opt/conda/lib/python3.7/site-packages (from Flask->mlflow->pycaret==2.2.3) (1.1.0)\r\n",
      "Requirement already satisfied: defusedxml in /opt/conda/lib/python3.7/site-packages (from nbconvert->notebook>=4.4.1->widgetsnbextension~=3.5.0->ipywidgets->pycaret==2.2.3) (0.6.0)\r\n",
      "Requirement already satisfied: pandocfilters>=1.4.1 in /opt/conda/lib/python3.7/site-packages (from nbconvert->notebook>=4.4.1->widgetsnbextension~=3.5.0->ipywidgets->pycaret==2.2.3) (1.4.2)\r\n",
      "Requirement already satisfied: bleach in /opt/conda/lib/python3.7/site-packages (from nbconvert->notebook>=4.4.1->widgetsnbextension~=3.5.0->ipywidgets->pycaret==2.2.3) (3.3.0)\r\n",
      "Requirement already satisfied: jupyterlab-pygments in /opt/conda/lib/python3.7/site-packages (from nbconvert->notebook>=4.4.1->widgetsnbextension~=3.5.0->ipywidgets->pycaret==2.2.3) (0.1.2)\r\n",
      "Requirement already satisfied: mistune<2,>=0.8.1 in /opt/conda/lib/python3.7/site-packages (from nbconvert->notebook>=4.4.1->widgetsnbextension~=3.5.0->ipywidgets->pycaret==2.2.3) (0.8.4)\r\n",
      "Requirement already satisfied: nbclient<0.6.0,>=0.5.0 in /opt/conda/lib/python3.7/site-packages (from nbconvert->notebook>=4.4.1->widgetsnbextension~=3.5.0->ipywidgets->pycaret==2.2.3) (0.5.2)\r\n",
      "Requirement already satisfied: testpath in /opt/conda/lib/python3.7/site-packages (from nbconvert->notebook>=4.4.1->widgetsnbextension~=3.5.0->ipywidgets->pycaret==2.2.3) (0.4.4)\r\n",
      "Requirement already satisfied: nest-asyncio in /opt/conda/lib/python3.7/site-packages (from nbclient<0.6.0,>=0.5.0->nbconvert->notebook>=4.4.1->widgetsnbextension~=3.5.0->ipywidgets->pycaret==2.2.3) (1.4.3)\r\n",
      "Requirement already satisfied: async-generator in /opt/conda/lib/python3.7/site-packages (from nbclient<0.6.0,>=0.5.0->nbconvert->notebook>=4.4.1->widgetsnbextension~=3.5.0->ipywidgets->pycaret==2.2.3) (1.10)\r\n",
      "Requirement already satisfied: webencodings in /opt/conda/lib/python3.7/site-packages (from bleach->nbconvert->notebook>=4.4.1->widgetsnbextension~=3.5.0->ipywidgets->pycaret==2.2.3) (0.5.1)\r\n",
      "Requirement already satisfied: packaging in /opt/conda/lib/python3.7/site-packages (from bleach->nbconvert->notebook>=4.4.1->widgetsnbextension~=3.5.0->ipywidgets->pycaret==2.2.3) (20.9)\r\n",
      "Requirement already satisfied: prometheus_client in /opt/conda/lib/python3.7/site-packages (from prometheus-flask-exporter->mlflow->pycaret==2.2.3) (0.9.0)\r\n",
      "Requirement already satisfied: future in /opt/conda/lib/python3.7/site-packages (from pyLDAvis->pycaret==2.2.3) (0.18.2)\r\n",
      "Requirement already satisfied: funcy in /opt/conda/lib/python3.7/site-packages (from pyLDAvis->pycaret==2.2.3) (1.15)\r\n",
      "Requirement already satisfied: numexpr in /opt/conda/lib/python3.7/site-packages (from pyLDAvis->pycaret==2.2.3) (2.7.3)\r\n",
      "Requirement already satisfied: sklearn in /opt/conda/lib/python3.7/site-packages (from pyLDAvis->pycaret==2.2.3) (0.0)\r\n",
      "Collecting pyLDAvis\r\n",
      "  Downloading pyLDAvis-3.3.0.tar.gz (1.7 MB)\r\n",
      "\u001b[K     |████████████████████████████████| 1.7 MB 26.5 MB/s \r\n",
      "\u001b[?25h  Installing build dependencies ... \u001b[?25l-\b \b\\\b \b|\b \b/\b \bdone\r\n",
      "\u001b[?25h  Getting requirements to build wheel ... \u001b[?25l-\b \bdone\r\n",
      "\u001b[?25h  Installing backend dependencies ... \u001b[?25l-\b \b\\\b \b|\b \bdone\r\n",
      "\u001b[?25h    Preparing wheel metadata ... \u001b[?25l-\b \bdone\r\n",
      "\u001b[?25h  Downloading pyLDAvis-3.2.2.tar.gz (1.7 MB)\r\n",
      "\u001b[K     |████████████████████████████████| 1.7 MB 29.0 MB/s \r\n",
      "\u001b[?25hRequirement already satisfied: statsmodels in /opt/conda/lib/python3.7/site-packages (from pyod->pycaret==2.2.3) (0.12.2)\r\n",
      "Requirement already satisfied: plac<1.2.0,>=0.9.6 in /opt/conda/lib/python3.7/site-packages (from spacy->pycaret==2.2.3) (1.1.3)\r\n",
      "Requirement already satisfied: cymem<2.1.0,>=2.0.2 in /opt/conda/lib/python3.7/site-packages (from spacy->pycaret==2.2.3) (2.0.5)\r\n",
      "Requirement already satisfied: blis<0.8.0,>=0.4.0 in /opt/conda/lib/python3.7/site-packages (from spacy->pycaret==2.2.3) (0.7.4)\r\n",
      "Requirement already satisfied: murmurhash<1.1.0,>=0.28.0 in /opt/conda/lib/python3.7/site-packages (from spacy->pycaret==2.2.3) (1.0.5)\r\n",
      "Requirement already satisfied: catalogue<1.1.0,>=0.0.7 in /opt/conda/lib/python3.7/site-packages (from spacy->pycaret==2.2.3) (1.0.0)\r\n",
      "Requirement already satisfied: wasabi<1.1.0,>=0.4.0 in /opt/conda/lib/python3.7/site-packages (from spacy->pycaret==2.2.3) (0.8.2)\r\n",
      "Requirement already satisfied: thinc<7.5.0,>=7.4.1 in /opt/conda/lib/python3.7/site-packages (from spacy->pycaret==2.2.3) (7.4.5)\r\n",
      "Requirement already satisfied: srsly<1.1.0,>=1.0.2 in /opt/conda/lib/python3.7/site-packages (from spacy->pycaret==2.2.3) (1.0.5)\r\n",
      "Requirement already satisfied: preshed<3.1.0,>=3.0.2 in /opt/conda/lib/python3.7/site-packages (from spacy->pycaret==2.2.3) (3.0.5)\r\n",
      "Requirement already satisfied: patsy>=0.5 in /opt/conda/lib/python3.7/site-packages (from statsmodels->pyod->pycaret==2.2.3) (0.5.1)\r\n",
      "Requirement already satisfied: pynndescent>=0.5 in /opt/conda/lib/python3.7/site-packages (from umap-learn->pycaret==2.2.3) (0.5.2)\r\n",
      "Building wheels for collected packages: alembic, databricks-cli, prometheus-flask-exporter, pyLDAvis, pyod\r\n",
      "  Building wheel for alembic (setup.py) ... \u001b[?25l-\b \b\\\b \b|\b \bdone\r\n",
      "\u001b[?25h  Created wheel for alembic: filename=alembic-1.4.1-py2.py3-none-any.whl size=158155 sha256=55daa34dfb9c7fe908c10616a504151353f0d3887f013d26df1568c88f0bc50d\r\n",
      "  Stored in directory: /root/.cache/pip/wheels/be/5d/0a/9e13f53f4f5dfb67cd8d245bb7cdffe12f135846f491a283e3\r\n",
      "  Building wheel for databricks-cli (setup.py) ... \u001b[?25l-\b \b\\\b \b|\b \bdone\r\n",
      "\u001b[?25h  Created wheel for databricks-cli: filename=databricks_cli-0.14.3-py3-none-any.whl size=100555 sha256=dfe6619cdad683bfbceeb0786caaadf0def3f63aa100981f4d22f0715b929cff\r\n",
      "  Stored in directory: /root/.cache/pip/wheels/3b/60/14/6930445b08959fbdf4e3029bac7e1f2cccb2e94df8afa00b29\r\n",
      "  Building wheel for prometheus-flask-exporter (setup.py) ... \u001b[?25l-\b \b\\\b \bdone\r\n",
      "\u001b[?25h  Created wheel for prometheus-flask-exporter: filename=prometheus_flask_exporter-0.18.1-py3-none-any.whl size=17158 sha256=08b30dcc428cea315abdbc2d8dddb2604e2a4119225790fe82203708dc97b352\r\n",
      "  Stored in directory: /root/.cache/pip/wheels/c4/b6/b5/e76659f3b2a3a226565e27f0a7eb7a3ac93c3f4d68acfbe617\r\n",
      "  Building wheel for pyLDAvis (setup.py) ... \u001b[?25l-\b \b\\\b \bdone\r\n",
      "\u001b[?25h  Created wheel for pyLDAvis: filename=pyLDAvis-3.2.2-py2.py3-none-any.whl size=135593 sha256=1e4860a74e5bf04e219fa4afa575c76fc2304d1db9c04e489a3c23b2319990af\r\n",
      "  Stored in directory: /root/.cache/pip/wheels/f8/b1/9b/560ac1931796b7303f7b517b949d2d31a4fbc512aad3b9f284\r\n",
      "  Building wheel for pyod (setup.py) ... \u001b[?25l-\b \b\\\b \bdone\r\n",
      "\u001b[?25h  Created wheel for pyod: filename=pyod-0.8.8-py3-none-any.whl size=116965 sha256=a90ea8674e2e607405fa92ab9e38b46ea8e9d5cd1de3f140ddac7ca94e2beed7\r\n",
      "  Stored in directory: /root/.cache/pip/wheels/77/59/4c/18e7ef198e2c737674b0bd8b6fa0fb1163c83ecc4e622fbda4\r\n",
      "Successfully built alembic databricks-cli prometheus-flask-exporter pyLDAvis pyod\r\n",
      "Installing collected packages: querystring-parser, prometheus-flask-exporter, gunicorn, databricks-cli, alembic, pyod, pyLDAvis, mlflow, imbalanced-learn, pycaret\r\n",
      "  Attempting uninstall: alembic\r\n",
      "    Found existing installation: alembic 1.5.8\r\n",
      "    Uninstalling alembic-1.5.8:\r\n",
      "      Successfully uninstalled alembic-1.5.8\r\n",
      "  Attempting uninstall: pyLDAvis\r\n",
      "    Found existing installation: pyLDAvis 3.3.1\r\n",
      "    Uninstalling pyLDAvis-3.3.1:\r\n",
      "      Successfully uninstalled pyLDAvis-3.3.1\r\n",
      "  Attempting uninstall: imbalanced-learn\r\n",
      "    Found existing installation: imbalanced-learn 0.8.0\r\n",
      "    Uninstalling imbalanced-learn-0.8.0:\r\n",
      "      Successfully uninstalled imbalanced-learn-0.8.0\r\n",
      "Successfully installed alembic-1.4.1 databricks-cli-0.14.3 gunicorn-20.1.0 imbalanced-learn-0.7.0 mlflow-1.16.0 prometheus-flask-exporter-0.18.1 pyLDAvis-3.2.2 pycaret-2.2.3 pyod-0.8.8 querystring-parser-1.2.4\r\n"
     ]
    }
   ],
   "source": [
    "\n",
    "\n",
    "!pip install pycaret==2.2.3"
   ]
  },
  {
   "cell_type": "code",
   "execution_count": 19,
   "id": "patient-register",
   "metadata": {
    "execution": {
     "iopub.execute_input": "2021-04-28T12:33:36.988983Z",
     "iopub.status.busy": "2021-04-28T12:33:36.988056Z",
     "iopub.status.idle": "2021-04-28T12:33:36.997959Z",
     "shell.execute_reply": "2021-04-28T12:33:36.997142Z"
    },
    "papermill": {
     "duration": 0.128654,
     "end_time": "2021-04-28T12:33:36.998166",
     "exception": false,
     "start_time": "2021-04-28T12:33:36.869512",
     "status": "completed"
    },
    "tags": []
   },
   "outputs": [
    {
     "name": "stdout",
     "output_type": "stream",
     "text": [
      "pycaret version: 2.2.3\n",
      "sklearn version: 0.23.2\n"
     ]
    }
   ],
   "source": [
    "from pycaret.utils import version\n",
    "import sklearn\n",
    "print(\"pycaret version:\", version())\n",
    "print(\"sklearn version:\", sklearn.__version__)"
   ]
  },
  {
   "cell_type": "code",
   "execution_count": 20,
   "id": "veterinary-award",
   "metadata": {
    "execution": {
     "iopub.execute_input": "2021-04-28T12:33:37.235405Z",
     "iopub.status.busy": "2021-04-28T12:33:37.234747Z",
     "iopub.status.idle": "2021-04-28T12:33:39.500082Z",
     "shell.execute_reply": "2021-04-28T12:33:39.499421Z"
    },
    "papermill": {
     "duration": 2.386139,
     "end_time": "2021-04-28T12:33:39.500224",
     "exception": false,
     "start_time": "2021-04-28T12:33:37.114085",
     "status": "completed"
    },
    "tags": []
   },
   "outputs": [],
   "source": [
    "import pycaret.classification \n",
    "# from pycaret.regression import *\n",
    "# reg1 = setup(data = train,target = 'Survived')\n",
    "from pycaret.classification import *"
   ]
  },
  {
   "cell_type": "code",
   "execution_count": 21,
   "id": "minor-allah",
   "metadata": {
    "execution": {
     "iopub.execute_input": "2021-04-28T12:33:39.733843Z",
     "iopub.status.busy": "2021-04-28T12:33:39.733161Z",
     "iopub.status.idle": "2021-04-28T12:33:39.741327Z",
     "shell.execute_reply": "2021-04-28T12:33:39.740719Z"
    },
    "papermill": {
     "duration": 0.127283,
     "end_time": "2021-04-28T12:33:39.741473",
     "exception": false,
     "start_time": "2021-04-28T12:33:39.614190",
     "status": "completed"
    },
    "tags": []
   },
   "outputs": [
    {
     "data": {
      "text/plain": [
       "array([1, 0])"
      ]
     },
     "execution_count": 21,
     "metadata": {},
     "output_type": "execute_result"
    }
   ],
   "source": [
    "caret_train.loc[:,'Embarked'].unique()\n",
    "caret_train.loc[:,'Pclass'].unique()\n",
    "caret_train.loc[:,'Sex'].unique()\n"
   ]
  },
  {
   "cell_type": "code",
   "execution_count": 22,
   "id": "clear-ministry",
   "metadata": {
    "execution": {
     "iopub.execute_input": "2021-04-28T12:33:39.979990Z",
     "iopub.status.busy": "2021-04-28T12:33:39.979292Z",
     "iopub.status.idle": "2021-04-28T12:33:39.982419Z",
     "shell.execute_reply": "2021-04-28T12:33:39.981810Z"
    },
    "papermill": {
     "duration": 0.122743,
     "end_time": "2021-04-28T12:33:39.982550",
     "exception": false,
     "start_time": "2021-04-28T12:33:39.859807",
     "status": "completed"
    },
    "tags": []
   },
   "outputs": [],
   "source": [
    "category_caret={'Sex':['0','1'],'Pclass':['0','1','2'], 'Embarked':['0','1','2','3']}"
   ]
  },
  {
   "cell_type": "code",
   "execution_count": 23,
   "id": "hawaiian-behavior",
   "metadata": {
    "execution": {
     "iopub.execute_input": "2021-04-28T12:33:40.219637Z",
     "iopub.status.busy": "2021-04-28T12:33:40.218913Z",
     "iopub.status.idle": "2021-04-28T12:33:43.745387Z",
     "shell.execute_reply": "2021-04-28T12:33:43.745925Z"
    },
    "papermill": {
     "duration": 3.646586,
     "end_time": "2021-04-28T12:33:43.746104",
     "exception": false,
     "start_time": "2021-04-28T12:33:40.099518",
     "status": "completed"
    },
    "tags": []
   },
   "outputs": [
    {
     "data": {
      "text/html": [
       "<style  type=\"text/css\" >\n",
       "#T_97ebb_row0_col1,#T_97ebb_row8_col1{\n",
       "            background-color:  lightgreen;\n",
       "        }</style><table id=\"T_97ebb_\" ><thead>    <tr>        <th class=\"blank level0\" ></th>        <th class=\"col_heading level0 col0\" >Description</th>        <th class=\"col_heading level0 col1\" >Value</th>    </tr></thead><tbody>\n",
       "                <tr>\n",
       "                        <th id=\"T_97ebb_level0_row0\" class=\"row_heading level0 row0\" >0</th>\n",
       "                        <td id=\"T_97ebb_row0_col0\" class=\"data row0 col0\" >session_id</td>\n",
       "                        <td id=\"T_97ebb_row0_col1\" class=\"data row0 col1\" >1</td>\n",
       "            </tr>\n",
       "            <tr>\n",
       "                        <th id=\"T_97ebb_level0_row1\" class=\"row_heading level0 row1\" >1</th>\n",
       "                        <td id=\"T_97ebb_row1_col0\" class=\"data row1 col0\" >Target</td>\n",
       "                        <td id=\"T_97ebb_row1_col1\" class=\"data row1 col1\" >Survived</td>\n",
       "            </tr>\n",
       "            <tr>\n",
       "                        <th id=\"T_97ebb_level0_row2\" class=\"row_heading level0 row2\" >2</th>\n",
       "                        <td id=\"T_97ebb_row2_col0\" class=\"data row2 col0\" >Target Type</td>\n",
       "                        <td id=\"T_97ebb_row2_col1\" class=\"data row2 col1\" >Binary</td>\n",
       "            </tr>\n",
       "            <tr>\n",
       "                        <th id=\"T_97ebb_level0_row3\" class=\"row_heading level0 row3\" >3</th>\n",
       "                        <td id=\"T_97ebb_row3_col0\" class=\"data row3 col0\" >Label Encoded</td>\n",
       "                        <td id=\"T_97ebb_row3_col1\" class=\"data row3 col1\" >0.0: 0, 1.0: 1</td>\n",
       "            </tr>\n",
       "            <tr>\n",
       "                        <th id=\"T_97ebb_level0_row4\" class=\"row_heading level0 row4\" >4</th>\n",
       "                        <td id=\"T_97ebb_row4_col0\" class=\"data row4 col0\" >Original Data</td>\n",
       "                        <td id=\"T_97ebb_row4_col1\" class=\"data row4 col1\" >(100000, 18)</td>\n",
       "            </tr>\n",
       "            <tr>\n",
       "                        <th id=\"T_97ebb_level0_row5\" class=\"row_heading level0 row5\" >5</th>\n",
       "                        <td id=\"T_97ebb_row5_col0\" class=\"data row5 col0\" >Missing Values</td>\n",
       "                        <td id=\"T_97ebb_row5_col1\" class=\"data row5 col1\" >False</td>\n",
       "            </tr>\n",
       "            <tr>\n",
       "                        <th id=\"T_97ebb_level0_row6\" class=\"row_heading level0 row6\" >6</th>\n",
       "                        <td id=\"T_97ebb_row6_col0\" class=\"data row6 col0\" >Numeric Features</td>\n",
       "                        <td id=\"T_97ebb_row6_col1\" class=\"data row6 col1\" >14</td>\n",
       "            </tr>\n",
       "            <tr>\n",
       "                        <th id=\"T_97ebb_level0_row7\" class=\"row_heading level0 row7\" >7</th>\n",
       "                        <td id=\"T_97ebb_row7_col0\" class=\"data row7 col0\" >Categorical Features</td>\n",
       "                        <td id=\"T_97ebb_row7_col1\" class=\"data row7 col1\" >3</td>\n",
       "            </tr>\n",
       "            <tr>\n",
       "                        <th id=\"T_97ebb_level0_row8\" class=\"row_heading level0 row8\" >8</th>\n",
       "                        <td id=\"T_97ebb_row8_col0\" class=\"data row8 col0\" >Ordinal Features</td>\n",
       "                        <td id=\"T_97ebb_row8_col1\" class=\"data row8 col1\" >True</td>\n",
       "            </tr>\n",
       "            <tr>\n",
       "                        <th id=\"T_97ebb_level0_row9\" class=\"row_heading level0 row9\" >9</th>\n",
       "                        <td id=\"T_97ebb_row9_col0\" class=\"data row9 col0\" >High Cardinality Features</td>\n",
       "                        <td id=\"T_97ebb_row9_col1\" class=\"data row9 col1\" >False</td>\n",
       "            </tr>\n",
       "            <tr>\n",
       "                        <th id=\"T_97ebb_level0_row10\" class=\"row_heading level0 row10\" >10</th>\n",
       "                        <td id=\"T_97ebb_row10_col0\" class=\"data row10 col0\" >High Cardinality Method</td>\n",
       "                        <td id=\"T_97ebb_row10_col1\" class=\"data row10 col1\" >None</td>\n",
       "            </tr>\n",
       "            <tr>\n",
       "                        <th id=\"T_97ebb_level0_row11\" class=\"row_heading level0 row11\" >11</th>\n",
       "                        <td id=\"T_97ebb_row11_col0\" class=\"data row11 col0\" >Transformed Train Set</td>\n",
       "                        <td id=\"T_97ebb_row11_col1\" class=\"data row11 col1\" >(69999, 17)</td>\n",
       "            </tr>\n",
       "            <tr>\n",
       "                        <th id=\"T_97ebb_level0_row12\" class=\"row_heading level0 row12\" >12</th>\n",
       "                        <td id=\"T_97ebb_row12_col0\" class=\"data row12 col0\" >Transformed Test Set</td>\n",
       "                        <td id=\"T_97ebb_row12_col1\" class=\"data row12 col1\" >(30001, 17)</td>\n",
       "            </tr>\n",
       "            <tr>\n",
       "                        <th id=\"T_97ebb_level0_row13\" class=\"row_heading level0 row13\" >13</th>\n",
       "                        <td id=\"T_97ebb_row13_col0\" class=\"data row13 col0\" >Shuffle Train-Test</td>\n",
       "                        <td id=\"T_97ebb_row13_col1\" class=\"data row13 col1\" >True</td>\n",
       "            </tr>\n",
       "            <tr>\n",
       "                        <th id=\"T_97ebb_level0_row14\" class=\"row_heading level0 row14\" >14</th>\n",
       "                        <td id=\"T_97ebb_row14_col0\" class=\"data row14 col0\" >Stratify Train-Test</td>\n",
       "                        <td id=\"T_97ebb_row14_col1\" class=\"data row14 col1\" >False</td>\n",
       "            </tr>\n",
       "            <tr>\n",
       "                        <th id=\"T_97ebb_level0_row15\" class=\"row_heading level0 row15\" >15</th>\n",
       "                        <td id=\"T_97ebb_row15_col0\" class=\"data row15 col0\" >Fold Generator</td>\n",
       "                        <td id=\"T_97ebb_row15_col1\" class=\"data row15 col1\" >StratifiedKFold</td>\n",
       "            </tr>\n",
       "            <tr>\n",
       "                        <th id=\"T_97ebb_level0_row16\" class=\"row_heading level0 row16\" >16</th>\n",
       "                        <td id=\"T_97ebb_row16_col0\" class=\"data row16 col0\" >Fold Number</td>\n",
       "                        <td id=\"T_97ebb_row16_col1\" class=\"data row16 col1\" >5</td>\n",
       "            </tr>\n",
       "            <tr>\n",
       "                        <th id=\"T_97ebb_level0_row17\" class=\"row_heading level0 row17\" >17</th>\n",
       "                        <td id=\"T_97ebb_row17_col0\" class=\"data row17 col0\" >CPU Jobs</td>\n",
       "                        <td id=\"T_97ebb_row17_col1\" class=\"data row17 col1\" >-1</td>\n",
       "            </tr>\n",
       "            <tr>\n",
       "                        <th id=\"T_97ebb_level0_row18\" class=\"row_heading level0 row18\" >18</th>\n",
       "                        <td id=\"T_97ebb_row18_col0\" class=\"data row18 col0\" >Use GPU</td>\n",
       "                        <td id=\"T_97ebb_row18_col1\" class=\"data row18 col1\" >False</td>\n",
       "            </tr>\n",
       "            <tr>\n",
       "                        <th id=\"T_97ebb_level0_row19\" class=\"row_heading level0 row19\" >19</th>\n",
       "                        <td id=\"T_97ebb_row19_col0\" class=\"data row19 col0\" >Log Experiment</td>\n",
       "                        <td id=\"T_97ebb_row19_col1\" class=\"data row19 col1\" >False</td>\n",
       "            </tr>\n",
       "            <tr>\n",
       "                        <th id=\"T_97ebb_level0_row20\" class=\"row_heading level0 row20\" >20</th>\n",
       "                        <td id=\"T_97ebb_row20_col0\" class=\"data row20 col0\" >Experiment Name</td>\n",
       "                        <td id=\"T_97ebb_row20_col1\" class=\"data row20 col1\" >clf-default-name</td>\n",
       "            </tr>\n",
       "            <tr>\n",
       "                        <th id=\"T_97ebb_level0_row21\" class=\"row_heading level0 row21\" >21</th>\n",
       "                        <td id=\"T_97ebb_row21_col0\" class=\"data row21 col0\" >USI</td>\n",
       "                        <td id=\"T_97ebb_row21_col1\" class=\"data row21 col1\" >80a2</td>\n",
       "            </tr>\n",
       "            <tr>\n",
       "                        <th id=\"T_97ebb_level0_row22\" class=\"row_heading level0 row22\" >22</th>\n",
       "                        <td id=\"T_97ebb_row22_col0\" class=\"data row22 col0\" >Imputation Type</td>\n",
       "                        <td id=\"T_97ebb_row22_col1\" class=\"data row22 col1\" >simple</td>\n",
       "            </tr>\n",
       "            <tr>\n",
       "                        <th id=\"T_97ebb_level0_row23\" class=\"row_heading level0 row23\" >23</th>\n",
       "                        <td id=\"T_97ebb_row23_col0\" class=\"data row23 col0\" >Iterative Imputation Iteration</td>\n",
       "                        <td id=\"T_97ebb_row23_col1\" class=\"data row23 col1\" >None</td>\n",
       "            </tr>\n",
       "            <tr>\n",
       "                        <th id=\"T_97ebb_level0_row24\" class=\"row_heading level0 row24\" >24</th>\n",
       "                        <td id=\"T_97ebb_row24_col0\" class=\"data row24 col0\" >Numeric Imputer</td>\n",
       "                        <td id=\"T_97ebb_row24_col1\" class=\"data row24 col1\" >mean</td>\n",
       "            </tr>\n",
       "            <tr>\n",
       "                        <th id=\"T_97ebb_level0_row25\" class=\"row_heading level0 row25\" >25</th>\n",
       "                        <td id=\"T_97ebb_row25_col0\" class=\"data row25 col0\" >Iterative Imputation Numeric Model</td>\n",
       "                        <td id=\"T_97ebb_row25_col1\" class=\"data row25 col1\" >None</td>\n",
       "            </tr>\n",
       "            <tr>\n",
       "                        <th id=\"T_97ebb_level0_row26\" class=\"row_heading level0 row26\" >26</th>\n",
       "                        <td id=\"T_97ebb_row26_col0\" class=\"data row26 col0\" >Categorical Imputer</td>\n",
       "                        <td id=\"T_97ebb_row26_col1\" class=\"data row26 col1\" >constant</td>\n",
       "            </tr>\n",
       "            <tr>\n",
       "                        <th id=\"T_97ebb_level0_row27\" class=\"row_heading level0 row27\" >27</th>\n",
       "                        <td id=\"T_97ebb_row27_col0\" class=\"data row27 col0\" >Iterative Imputation Categorical Model</td>\n",
       "                        <td id=\"T_97ebb_row27_col1\" class=\"data row27 col1\" >None</td>\n",
       "            </tr>\n",
       "            <tr>\n",
       "                        <th id=\"T_97ebb_level0_row28\" class=\"row_heading level0 row28\" >28</th>\n",
       "                        <td id=\"T_97ebb_row28_col0\" class=\"data row28 col0\" >Unknown Categoricals Handling</td>\n",
       "                        <td id=\"T_97ebb_row28_col1\" class=\"data row28 col1\" >least_frequent</td>\n",
       "            </tr>\n",
       "            <tr>\n",
       "                        <th id=\"T_97ebb_level0_row29\" class=\"row_heading level0 row29\" >29</th>\n",
       "                        <td id=\"T_97ebb_row29_col0\" class=\"data row29 col0\" >Normalize</td>\n",
       "                        <td id=\"T_97ebb_row29_col1\" class=\"data row29 col1\" >False</td>\n",
       "            </tr>\n",
       "            <tr>\n",
       "                        <th id=\"T_97ebb_level0_row30\" class=\"row_heading level0 row30\" >30</th>\n",
       "                        <td id=\"T_97ebb_row30_col0\" class=\"data row30 col0\" >Normalize Method</td>\n",
       "                        <td id=\"T_97ebb_row30_col1\" class=\"data row30 col1\" >None</td>\n",
       "            </tr>\n",
       "            <tr>\n",
       "                        <th id=\"T_97ebb_level0_row31\" class=\"row_heading level0 row31\" >31</th>\n",
       "                        <td id=\"T_97ebb_row31_col0\" class=\"data row31 col0\" >Transformation</td>\n",
       "                        <td id=\"T_97ebb_row31_col1\" class=\"data row31 col1\" >False</td>\n",
       "            </tr>\n",
       "            <tr>\n",
       "                        <th id=\"T_97ebb_level0_row32\" class=\"row_heading level0 row32\" >32</th>\n",
       "                        <td id=\"T_97ebb_row32_col0\" class=\"data row32 col0\" >Transformation Method</td>\n",
       "                        <td id=\"T_97ebb_row32_col1\" class=\"data row32 col1\" >None</td>\n",
       "            </tr>\n",
       "            <tr>\n",
       "                        <th id=\"T_97ebb_level0_row33\" class=\"row_heading level0 row33\" >33</th>\n",
       "                        <td id=\"T_97ebb_row33_col0\" class=\"data row33 col0\" >PCA</td>\n",
       "                        <td id=\"T_97ebb_row33_col1\" class=\"data row33 col1\" >False</td>\n",
       "            </tr>\n",
       "            <tr>\n",
       "                        <th id=\"T_97ebb_level0_row34\" class=\"row_heading level0 row34\" >34</th>\n",
       "                        <td id=\"T_97ebb_row34_col0\" class=\"data row34 col0\" >PCA Method</td>\n",
       "                        <td id=\"T_97ebb_row34_col1\" class=\"data row34 col1\" >None</td>\n",
       "            </tr>\n",
       "            <tr>\n",
       "                        <th id=\"T_97ebb_level0_row35\" class=\"row_heading level0 row35\" >35</th>\n",
       "                        <td id=\"T_97ebb_row35_col0\" class=\"data row35 col0\" >PCA Components</td>\n",
       "                        <td id=\"T_97ebb_row35_col1\" class=\"data row35 col1\" >None</td>\n",
       "            </tr>\n",
       "            <tr>\n",
       "                        <th id=\"T_97ebb_level0_row36\" class=\"row_heading level0 row36\" >36</th>\n",
       "                        <td id=\"T_97ebb_row36_col0\" class=\"data row36 col0\" >Ignore Low Variance</td>\n",
       "                        <td id=\"T_97ebb_row36_col1\" class=\"data row36 col1\" >False</td>\n",
       "            </tr>\n",
       "            <tr>\n",
       "                        <th id=\"T_97ebb_level0_row37\" class=\"row_heading level0 row37\" >37</th>\n",
       "                        <td id=\"T_97ebb_row37_col0\" class=\"data row37 col0\" >Combine Rare Levels</td>\n",
       "                        <td id=\"T_97ebb_row37_col1\" class=\"data row37 col1\" >False</td>\n",
       "            </tr>\n",
       "            <tr>\n",
       "                        <th id=\"T_97ebb_level0_row38\" class=\"row_heading level0 row38\" >38</th>\n",
       "                        <td id=\"T_97ebb_row38_col0\" class=\"data row38 col0\" >Rare Level Threshold</td>\n",
       "                        <td id=\"T_97ebb_row38_col1\" class=\"data row38 col1\" >None</td>\n",
       "            </tr>\n",
       "            <tr>\n",
       "                        <th id=\"T_97ebb_level0_row39\" class=\"row_heading level0 row39\" >39</th>\n",
       "                        <td id=\"T_97ebb_row39_col0\" class=\"data row39 col0\" >Numeric Binning</td>\n",
       "                        <td id=\"T_97ebb_row39_col1\" class=\"data row39 col1\" >False</td>\n",
       "            </tr>\n",
       "            <tr>\n",
       "                        <th id=\"T_97ebb_level0_row40\" class=\"row_heading level0 row40\" >40</th>\n",
       "                        <td id=\"T_97ebb_row40_col0\" class=\"data row40 col0\" >Remove Outliers</td>\n",
       "                        <td id=\"T_97ebb_row40_col1\" class=\"data row40 col1\" >False</td>\n",
       "            </tr>\n",
       "            <tr>\n",
       "                        <th id=\"T_97ebb_level0_row41\" class=\"row_heading level0 row41\" >41</th>\n",
       "                        <td id=\"T_97ebb_row41_col0\" class=\"data row41 col0\" >Outliers Threshold</td>\n",
       "                        <td id=\"T_97ebb_row41_col1\" class=\"data row41 col1\" >None</td>\n",
       "            </tr>\n",
       "            <tr>\n",
       "                        <th id=\"T_97ebb_level0_row42\" class=\"row_heading level0 row42\" >42</th>\n",
       "                        <td id=\"T_97ebb_row42_col0\" class=\"data row42 col0\" >Remove Multicollinearity</td>\n",
       "                        <td id=\"T_97ebb_row42_col1\" class=\"data row42 col1\" >False</td>\n",
       "            </tr>\n",
       "            <tr>\n",
       "                        <th id=\"T_97ebb_level0_row43\" class=\"row_heading level0 row43\" >43</th>\n",
       "                        <td id=\"T_97ebb_row43_col0\" class=\"data row43 col0\" >Multicollinearity Threshold</td>\n",
       "                        <td id=\"T_97ebb_row43_col1\" class=\"data row43 col1\" >None</td>\n",
       "            </tr>\n",
       "            <tr>\n",
       "                        <th id=\"T_97ebb_level0_row44\" class=\"row_heading level0 row44\" >44</th>\n",
       "                        <td id=\"T_97ebb_row44_col0\" class=\"data row44 col0\" >Clustering</td>\n",
       "                        <td id=\"T_97ebb_row44_col1\" class=\"data row44 col1\" >False</td>\n",
       "            </tr>\n",
       "            <tr>\n",
       "                        <th id=\"T_97ebb_level0_row45\" class=\"row_heading level0 row45\" >45</th>\n",
       "                        <td id=\"T_97ebb_row45_col0\" class=\"data row45 col0\" >Clustering Iteration</td>\n",
       "                        <td id=\"T_97ebb_row45_col1\" class=\"data row45 col1\" >None</td>\n",
       "            </tr>\n",
       "            <tr>\n",
       "                        <th id=\"T_97ebb_level0_row46\" class=\"row_heading level0 row46\" >46</th>\n",
       "                        <td id=\"T_97ebb_row46_col0\" class=\"data row46 col0\" >Polynomial Features</td>\n",
       "                        <td id=\"T_97ebb_row46_col1\" class=\"data row46 col1\" >False</td>\n",
       "            </tr>\n",
       "            <tr>\n",
       "                        <th id=\"T_97ebb_level0_row47\" class=\"row_heading level0 row47\" >47</th>\n",
       "                        <td id=\"T_97ebb_row47_col0\" class=\"data row47 col0\" >Polynomial Degree</td>\n",
       "                        <td id=\"T_97ebb_row47_col1\" class=\"data row47 col1\" >None</td>\n",
       "            </tr>\n",
       "            <tr>\n",
       "                        <th id=\"T_97ebb_level0_row48\" class=\"row_heading level0 row48\" >48</th>\n",
       "                        <td id=\"T_97ebb_row48_col0\" class=\"data row48 col0\" >Trignometry Features</td>\n",
       "                        <td id=\"T_97ebb_row48_col1\" class=\"data row48 col1\" >False</td>\n",
       "            </tr>\n",
       "            <tr>\n",
       "                        <th id=\"T_97ebb_level0_row49\" class=\"row_heading level0 row49\" >49</th>\n",
       "                        <td id=\"T_97ebb_row49_col0\" class=\"data row49 col0\" >Polynomial Threshold</td>\n",
       "                        <td id=\"T_97ebb_row49_col1\" class=\"data row49 col1\" >None</td>\n",
       "            </tr>\n",
       "            <tr>\n",
       "                        <th id=\"T_97ebb_level0_row50\" class=\"row_heading level0 row50\" >50</th>\n",
       "                        <td id=\"T_97ebb_row50_col0\" class=\"data row50 col0\" >Group Features</td>\n",
       "                        <td id=\"T_97ebb_row50_col1\" class=\"data row50 col1\" >False</td>\n",
       "            </tr>\n",
       "            <tr>\n",
       "                        <th id=\"T_97ebb_level0_row51\" class=\"row_heading level0 row51\" >51</th>\n",
       "                        <td id=\"T_97ebb_row51_col0\" class=\"data row51 col0\" >Feature Selection</td>\n",
       "                        <td id=\"T_97ebb_row51_col1\" class=\"data row51 col1\" >False</td>\n",
       "            </tr>\n",
       "            <tr>\n",
       "                        <th id=\"T_97ebb_level0_row52\" class=\"row_heading level0 row52\" >52</th>\n",
       "                        <td id=\"T_97ebb_row52_col0\" class=\"data row52 col0\" >Features Selection Threshold</td>\n",
       "                        <td id=\"T_97ebb_row52_col1\" class=\"data row52 col1\" >None</td>\n",
       "            </tr>\n",
       "            <tr>\n",
       "                        <th id=\"T_97ebb_level0_row53\" class=\"row_heading level0 row53\" >53</th>\n",
       "                        <td id=\"T_97ebb_row53_col0\" class=\"data row53 col0\" >Feature Interaction</td>\n",
       "                        <td id=\"T_97ebb_row53_col1\" class=\"data row53 col1\" >False</td>\n",
       "            </tr>\n",
       "            <tr>\n",
       "                        <th id=\"T_97ebb_level0_row54\" class=\"row_heading level0 row54\" >54</th>\n",
       "                        <td id=\"T_97ebb_row54_col0\" class=\"data row54 col0\" >Feature Ratio</td>\n",
       "                        <td id=\"T_97ebb_row54_col1\" class=\"data row54 col1\" >False</td>\n",
       "            </tr>\n",
       "            <tr>\n",
       "                        <th id=\"T_97ebb_level0_row55\" class=\"row_heading level0 row55\" >55</th>\n",
       "                        <td id=\"T_97ebb_row55_col0\" class=\"data row55 col0\" >Interaction Threshold</td>\n",
       "                        <td id=\"T_97ebb_row55_col1\" class=\"data row55 col1\" >None</td>\n",
       "            </tr>\n",
       "            <tr>\n",
       "                        <th id=\"T_97ebb_level0_row56\" class=\"row_heading level0 row56\" >56</th>\n",
       "                        <td id=\"T_97ebb_row56_col0\" class=\"data row56 col0\" >Fix Imbalance</td>\n",
       "                        <td id=\"T_97ebb_row56_col1\" class=\"data row56 col1\" >False</td>\n",
       "            </tr>\n",
       "            <tr>\n",
       "                        <th id=\"T_97ebb_level0_row57\" class=\"row_heading level0 row57\" >57</th>\n",
       "                        <td id=\"T_97ebb_row57_col0\" class=\"data row57 col0\" >Fix Imbalance Method</td>\n",
       "                        <td id=\"T_97ebb_row57_col1\" class=\"data row57 col1\" >SMOTE</td>\n",
       "            </tr>\n",
       "    </tbody></table>"
      ],
      "text/plain": [
       "<pandas.io.formats.style.Styler at 0x7f1bf4376fd0>"
      ]
     },
     "metadata": {},
     "output_type": "display_data"
    },
    {
     "data": {
      "text/plain": [
       "('80a2',\n",
       " {'acc': <pycaret.containers.metrics.classification.AccuracyMetricContainer at 0x7f1bf4376690>,\n",
       "  'auc': <pycaret.containers.metrics.classification.ROCAUCMetricContainer at 0x7f1bf43766d0>,\n",
       "  'recall': <pycaret.containers.metrics.classification.RecallMetricContainer at 0x7f1bf4376750>,\n",
       "  'precision': <pycaret.containers.metrics.classification.PrecisionMetricContainer at 0x7f1bf43768d0>,\n",
       "  'f1': <pycaret.containers.metrics.classification.F1MetricContainer at 0x7f1bf4376a50>,\n",
       "  'kappa': <pycaret.containers.metrics.classification.KappaMetricContainer at 0x7f1bf4376c10>,\n",
       "  'mcc': <pycaret.containers.metrics.classification.MCCMetricContainer at 0x7f1bf4376c50>},\n",
       " StratifiedKFold(n_splits=5, random_state=1, shuffle=True),\n",
       " 5,\n",
       " 'Survived',\n",
       " 'lightgbm',\n",
       " None,\n",
       " {'USI',\n",
       "  'X',\n",
       "  'X_test',\n",
       "  'X_train',\n",
       "  '_all_metrics',\n",
       "  '_all_models',\n",
       "  '_all_models_internal',\n",
       "  '_available_plots',\n",
       "  '_gpu_n_jobs_param',\n",
       "  '_internal_pipeline',\n",
       "  '_ml_usecase',\n",
       "  'create_model_container',\n",
       "  'data_before_preprocess',\n",
       "  'display_container',\n",
       "  'exp_name_log',\n",
       "  'experiment__',\n",
       "  'fix_imbalance_method_param',\n",
       "  'fix_imbalance_param',\n",
       "  'fold_generator',\n",
       "  'fold_groups_param',\n",
       "  'fold_param',\n",
       "  'fold_shuffle_param',\n",
       "  'gpu_param',\n",
       "  'html_param',\n",
       "  'imputation_classifier',\n",
       "  'imputation_regressor',\n",
       "  'iterative_imputation_iters_param',\n",
       "  'log_plots_param',\n",
       "  'logging_param',\n",
       "  'master_model_container',\n",
       "  'n_jobs_param',\n",
       "  'prep_pipe',\n",
       "  'pycaret_globals',\n",
       "  'seed',\n",
       "  'stratify_param',\n",
       "  'target_param',\n",
       "  'transform_target_method_param',\n",
       "  'transform_target_param',\n",
       "  'y',\n",
       "  'y_test',\n",
       "  'y_train'},\n",
       " 62017    0\n",
       " 5005     0\n",
       " 56849    1\n",
       " 42434    1\n",
       " 54712    0\n",
       "         ..\n",
       " 50057    1\n",
       " 98047    0\n",
       " 5192     0\n",
       " 77708    0\n",
       " 98539    1\n",
       " Name: Survived, Length: 69999, dtype: int64,\n",
       " 'box-cox',\n",
       " False,\n",
       "                 Age     SibSp      Fare   Name  Ticket  Sex  Pclass  Embarked  \\\n",
       " 0     -8.614253e-16  1.901268  0.134351  17441      49    1       0         2   \n",
       " 1     -8.614253e-16 -0.539572 -0.533837   3063      49    1       2         2   \n",
       " 2     -2.069149e+00  0.680848  1.070483  17798      14    1       2         2   \n",
       " 3     -9.374220e-01 -0.539572 -0.555506  12742       0    1       2         2   \n",
       " 4     -5.737175e-01 -0.539572 -1.023540   2335      49    1       2         2   \n",
       " ...             ...       ...       ...    ...     ...  ...     ...       ...   \n",
       " 99995  1.669127e+00 -0.539572 -0.434567   1590      21    0       1         0   \n",
       " 99996  1.911597e+00 -0.539572 -0.698959   2992      49    1       1         2   \n",
       " 99997  1.536915e-01 -0.539572 -0.802137   4219      49    1       2         2   \n",
       " 99998  1.002335e+00 -0.539572  0.259408   3941      49    1       2         2   \n",
       " 99999  1.244805e+00 -0.539572 -0.492531   7055      49    1       2         2   \n",
       " \n",
       "        Cabin_A  Cabin_B  Cabin_C  Cabin_D  Cabin_E  Cabin_F  Cabin_G  Cabin_T  \\\n",
       " 0            0        0        1        0        0        0        0        0   \n",
       " 1            0        0        0        0        0        0        0        0   \n",
       " 2            0        0        0        0        0        0        0        0   \n",
       " 3            0        0        0        0        0        0        0        0   \n",
       " 4            0        0        0        0        0        0        0        0   \n",
       " ...        ...      ...      ...      ...      ...      ...      ...      ...   \n",
       " 99995        0        0        0        1        0        0        0        0   \n",
       " 99996        0        0        0        0        0        0        0        0   \n",
       " 99997        0        0        0        0        0        0        0        0   \n",
       " 99998        0        0        0        0        0        0        0        0   \n",
       " 99999        0        0        0        0        0        0        0        0   \n",
       " \n",
       "        Cabin_X  Survived  \n",
       " 0            0       1.0  \n",
       " 1            1       0.0  \n",
       " 2            1       0.0  \n",
       " 3            1       0.0  \n",
       " 4            1       1.0  \n",
       " ...        ...       ...  \n",
       " 99995        0       1.0  \n",
       " 99996        1       0.0  \n",
       " 99997        1       0.0  \n",
       " 99998        1       0.0  \n",
       " 99999        1       0.0  \n",
       " \n",
       " [100000 rows x 18 columns],\n",
       " [<pandas.io.formats.style.Styler at 0x7f1bf4376fd0>],\n",
       "             Age     SibSp      Fare     Name  Ticket  Sex  Pclass  Embarked  \\\n",
       " 43660  1.244805 -0.539572  0.820679  25313.0    49.0  0.0     0.0       2.0   \n",
       " 87278 -0.210013 -0.539572 -0.555506   3156.0    49.0  1.0     0.0       0.0   \n",
       " 14317  0.941718  0.680848  1.561942  11588.0    49.0  1.0     0.0       2.0   \n",
       " 81932  0.638631 -0.539572  0.050516  16175.0    21.0  1.0     0.0       0.0   \n",
       " 95321 -0.694952  0.680848  0.063476  10196.0    49.0  1.0     0.0       2.0   \n",
       " ...         ...       ...       ...      ...     ...  ...     ...       ...   \n",
       " 42287 -1.179892 -0.539572 -0.463126  11629.0    49.0  1.0     2.0       2.0   \n",
       " 4967  -0.452483 -0.539572  0.265297   3394.0    49.0  1.0     1.0       0.0   \n",
       " 47725  1.244805 -0.539572 -0.364529  19040.0    49.0  1.0     1.0       2.0   \n",
       " 42348 -0.694952 -0.539572 -1.197666  15816.0    49.0  1.0     2.0       2.0   \n",
       " 80630 -0.452483 -0.539572 -0.900153  24505.0    49.0  1.0     2.0       2.0   \n",
       " \n",
       "        Cabin_A  Cabin_B  Cabin_C  Cabin_D  Cabin_E  Cabin_F  Cabin_G  Cabin_T  \\\n",
       " 43660        0        0        1        0        0        0        0        0   \n",
       " 87278        0        0        1        0        0        0        0        0   \n",
       " 14317        1        0        0        0        0        0        0        0   \n",
       " 81932        1        0        0        0        0        0        0        0   \n",
       " 95321        0        0        1        0        0        0        0        0   \n",
       " ...        ...      ...      ...      ...      ...      ...      ...      ...   \n",
       " 42287        0        0        0        0        0        0        0        0   \n",
       " 4967         0        0        0        0        0        0        0        0   \n",
       " 47725        0        0        0        0        0        0        0        0   \n",
       " 42348        0        0        0        0        0        0        0        0   \n",
       " 80630        0        0        0        0        0        0        0        0   \n",
       " \n",
       "        Cabin_X  \n",
       " 43660        0  \n",
       " 87278        0  \n",
       " 14317        0  \n",
       " 81932        0  \n",
       " 95321        0  \n",
       " ...        ...  \n",
       " 42287        1  \n",
       " 4967         1  \n",
       " 47725        1  \n",
       " 42348        1  \n",
       " 80630        1  \n",
       " \n",
       " [30001 rows x 17 columns],\n",
       " <MLUsecase.CLASSIFICATION: 1>,\n",
       " Pipeline(memory=None, steps=[('empty_step', 'passthrough')], verbose=False),\n",
       " [('Setup Config',\n",
       "                                  Description             Value\n",
       "   0                               session_id                 1\n",
       "   1                                   Target          Survived\n",
       "   2                              Target Type            Binary\n",
       "   3                            Label Encoded    0.0: 0, 1.0: 1\n",
       "   4                            Original Data      (100000, 18)\n",
       "   5                           Missing Values             False\n",
       "   6                         Numeric Features                14\n",
       "   7                     Categorical Features                 3\n",
       "   8                         Ordinal Features              True\n",
       "   9                High Cardinality Features             False\n",
       "   10                 High Cardinality Method              None\n",
       "   11                   Transformed Train Set       (69999, 17)\n",
       "   12                    Transformed Test Set       (30001, 17)\n",
       "   13                      Shuffle Train-Test              True\n",
       "   14                     Stratify Train-Test             False\n",
       "   15                          Fold Generator   StratifiedKFold\n",
       "   16                             Fold Number                 5\n",
       "   17                                CPU Jobs                -1\n",
       "   18                                 Use GPU             False\n",
       "   19                          Log Experiment             False\n",
       "   20                         Experiment Name  clf-default-name\n",
       "   21                                     USI              80a2\n",
       "   22                         Imputation Type            simple\n",
       "   23          Iterative Imputation Iteration              None\n",
       "   24                         Numeric Imputer              mean\n",
       "   25      Iterative Imputation Numeric Model              None\n",
       "   26                     Categorical Imputer          constant\n",
       "   27  Iterative Imputation Categorical Model              None\n",
       "   28           Unknown Categoricals Handling    least_frequent\n",
       "   29                               Normalize             False\n",
       "   30                        Normalize Method              None\n",
       "   31                          Transformation             False\n",
       "   32                   Transformation Method              None\n",
       "   33                                     PCA             False\n",
       "   34                              PCA Method              None\n",
       "   35                          PCA Components              None\n",
       "   36                     Ignore Low Variance             False\n",
       "   37                     Combine Rare Levels             False\n",
       "   38                    Rare Level Threshold              None\n",
       "   39                         Numeric Binning             False\n",
       "   40                         Remove Outliers             False\n",
       "   41                      Outliers Threshold              None\n",
       "   42                Remove Multicollinearity             False\n",
       "   43             Multicollinearity Threshold              None\n",
       "   44                              Clustering             False\n",
       "   45                    Clustering Iteration              None\n",
       "   46                     Polynomial Features             False\n",
       "   47                       Polynomial Degree              None\n",
       "   48                    Trignometry Features             False\n",
       "   49                    Polynomial Threshold              None\n",
       "   50                          Group Features             False\n",
       "   51                       Feature Selection             False\n",
       "   52            Features Selection Threshold              None\n",
       "   53                     Feature Interaction             False\n",
       "   54                           Feature Ratio             False\n",
       "   55                   Interaction Threshold              None\n",
       "   56                           Fix Imbalance             False\n",
       "   57                    Fix Imbalance Method             SMOTE),\n",
       "  ('X_training Set',\n",
       "               Age     SibSp      Fare     Name  Ticket  Sex  Pclass  Embarked  \\\n",
       "   62017 -1.786066 -0.539572 -0.425227  23058.0    38.0  0.0     1.0       2.0   \n",
       "   5005   0.274926 -0.539572  0.041264   9979.0    49.0  1.0     1.0       2.0   \n",
       "   56849 -1.361744 -0.539572  0.215883  14486.0    49.0  0.0     1.0       2.0   \n",
       "   42434  1.426657 -0.539572  1.209948   8350.0    21.0  0.0     0.0       0.0   \n",
       "   54712 -1.725448 -0.539572 -0.906172  18642.0     0.0  0.0     2.0       2.0   \n",
       "   ...         ...       ...       ...      ...     ...  ...     ...       ...   \n",
       "   50057  1.608510 -0.539572  1.938114   4224.0    49.0  1.0     0.0       2.0   \n",
       "   98047 -0.149396  0.680848 -0.914255  21294.0    49.0  1.0     2.0       2.0   \n",
       "   5192  -0.634335 -0.539572 -1.037225  24329.0    49.0  1.0     1.0       2.0   \n",
       "   77708  0.820483 -0.539572  2.156857   5150.0    49.0  0.0     0.0       0.0   \n",
       "   98539  0.396161 -0.539572  2.729733  25222.0    49.0  1.0     0.0       1.0   \n",
       "   \n",
       "          Cabin_A  Cabin_B  Cabin_C  Cabin_D  Cabin_E  Cabin_F  Cabin_G  Cabin_T  \\\n",
       "   62017        0        0        0        0        0        0        0        0   \n",
       "   5005         0        0        0        0        0        0        0        0   \n",
       "   56849        0        0        0        0        0        0        0        0   \n",
       "   42434        0        0        1        0        0        0        0        0   \n",
       "   54712        0        0        0        0        0        0        0        0   \n",
       "   ...        ...      ...      ...      ...      ...      ...      ...      ...   \n",
       "   50057        1        0        0        0        0        0        0        0   \n",
       "   98047        0        0        0        0        0        0        0        0   \n",
       "   5192         0        0        0        0        0        0        0        0   \n",
       "   77708        0        1        0        0        0        0        0        0   \n",
       "   98539        1        0        0        0        0        0        0        0   \n",
       "   \n",
       "          Cabin_X  \n",
       "   62017        1  \n",
       "   5005         1  \n",
       "   56849        1  \n",
       "   42434        0  \n",
       "   54712        1  \n",
       "   ...        ...  \n",
       "   50057        0  \n",
       "   98047        1  \n",
       "   5192         1  \n",
       "   77708        0  \n",
       "   98539        0  \n",
       "   \n",
       "   [69999 rows x 17 columns]),\n",
       "  ('y_training Set',\n",
       "   62017    0\n",
       "   5005     0\n",
       "   56849    1\n",
       "   42434    1\n",
       "   54712    0\n",
       "           ..\n",
       "   50057    1\n",
       "   98047    0\n",
       "   5192     0\n",
       "   77708    0\n",
       "   98539    1\n",
       "   Name: Survived, Length: 69999, dtype: int64),\n",
       "  ('X_test Set',\n",
       "               Age     SibSp      Fare     Name  Ticket  Sex  Pclass  Embarked  \\\n",
       "   43660  1.244805 -0.539572  0.820679  25313.0    49.0  0.0     0.0       2.0   \n",
       "   87278 -0.210013 -0.539572 -0.555506   3156.0    49.0  1.0     0.0       0.0   \n",
       "   14317  0.941718  0.680848  1.561942  11588.0    49.0  1.0     0.0       2.0   \n",
       "   81932  0.638631 -0.539572  0.050516  16175.0    21.0  1.0     0.0       0.0   \n",
       "   95321 -0.694952  0.680848  0.063476  10196.0    49.0  1.0     0.0       2.0   \n",
       "   ...         ...       ...       ...      ...     ...  ...     ...       ...   \n",
       "   42287 -1.179892 -0.539572 -0.463126  11629.0    49.0  1.0     2.0       2.0   \n",
       "   4967  -0.452483 -0.539572  0.265297   3394.0    49.0  1.0     1.0       0.0   \n",
       "   47725  1.244805 -0.539572 -0.364529  19040.0    49.0  1.0     1.0       2.0   \n",
       "   42348 -0.694952 -0.539572 -1.197666  15816.0    49.0  1.0     2.0       2.0   \n",
       "   80630 -0.452483 -0.539572 -0.900153  24505.0    49.0  1.0     2.0       2.0   \n",
       "   \n",
       "          Cabin_A  Cabin_B  Cabin_C  Cabin_D  Cabin_E  Cabin_F  Cabin_G  Cabin_T  \\\n",
       "   43660        0        0        1        0        0        0        0        0   \n",
       "   87278        0        0        1        0        0        0        0        0   \n",
       "   14317        1        0        0        0        0        0        0        0   \n",
       "   81932        1        0        0        0        0        0        0        0   \n",
       "   95321        0        0        1        0        0        0        0        0   \n",
       "   ...        ...      ...      ...      ...      ...      ...      ...      ...   \n",
       "   42287        0        0        0        0        0        0        0        0   \n",
       "   4967         0        0        0        0        0        0        0        0   \n",
       "   47725        0        0        0        0        0        0        0        0   \n",
       "   42348        0        0        0        0        0        0        0        0   \n",
       "   80630        0        0        0        0        0        0        0        0   \n",
       "   \n",
       "          Cabin_X  \n",
       "   43660        0  \n",
       "   87278        0  \n",
       "   14317        0  \n",
       "   81932        0  \n",
       "   95321        0  \n",
       "   ...        ...  \n",
       "   42287        1  \n",
       "   4967         1  \n",
       "   47725        1  \n",
       "   42348        1  \n",
       "   80630        1  \n",
       "   \n",
       "   [30001 rows x 17 columns]),\n",
       "  ('y_test Set',\n",
       "   43660    1\n",
       "   87278    0\n",
       "   14317    0\n",
       "   81932    1\n",
       "   95321    0\n",
       "           ..\n",
       "   42287    0\n",
       "   4967     1\n",
       "   47725    0\n",
       "   42348    0\n",
       "   80630    0\n",
       "   Name: Survived, Length: 30001, dtype: int64),\n",
       "  ('Transformation Pipeline',\n",
       "   Pipeline(memory=None,\n",
       "            steps=[('dtypes',\n",
       "                    DataTypes_Auto_infer(categorical_features=[],\n",
       "                                         display_types=False, features_todrop=[],\n",
       "                                         id_columns=[],\n",
       "                                         ml_usecase='classification',\n",
       "                                         numerical_features=[], target='Survived',\n",
       "                                         time_features=[])),\n",
       "                   ('imputer',\n",
       "                    Simple_Imputer(categorical_strategy='not_available',\n",
       "                                   fill_value_categorical=None,\n",
       "                                   fill_value_numerical=None,\n",
       "                                   numeric_st...\n",
       "                   ('scaling', 'passthrough'), ('P_transform', 'passthrough'),\n",
       "                   ('binn', 'passthrough'), ('rem_outliers', 'passthrough'),\n",
       "                   ('cluster_all', 'passthrough'),\n",
       "                   ('dummy', Dummify(target='Survived')),\n",
       "                   ('fix_perfect', Remove_100(target='Survived')),\n",
       "                   ('clean_names', Clean_Colum_Names()),\n",
       "                   ('feature_select', 'passthrough'), ('fix_multi', 'passthrough'),\n",
       "                   ('dfs', 'passthrough'), ('pca', 'passthrough')],\n",
       "            verbose=False))],\n",
       " 'lightgbm',\n",
       " False,\n",
       " 43660    1\n",
       " 87278    0\n",
       " 14317    0\n",
       " 81932    1\n",
       " 95321    0\n",
       "         ..\n",
       " 42287    0\n",
       " 4967     1\n",
       " 47725    0\n",
       " 42348    0\n",
       " 80630    0\n",
       " Name: Survived, Length: 30001, dtype: int64,\n",
       " True,\n",
       " 'clf-default-name',\n",
       " -1,\n",
       " {'lr': <pycaret.containers.models.classification.LogisticRegressionClassifierContainer at 0x7f1bf4382990>,\n",
       "  'knn': <pycaret.containers.models.classification.KNeighborsClassifierContainer at 0x7f1bf4382ed0>,\n",
       "  'nb': <pycaret.containers.models.classification.GaussianNBClassifierContainer at 0x7f1bf4382790>,\n",
       "  'dt': <pycaret.containers.models.classification.DecisionTreeClassifierContainer at 0x7f1bf43827d0>,\n",
       "  'svm': <pycaret.containers.models.classification.SGDClassifierContainer at 0x7f1bf4e6d8d0>,\n",
       "  'rbfsvm': <pycaret.containers.models.classification.SVCClassifierContainer at 0x7f1bf4e6d610>,\n",
       "  'gpc': <pycaret.containers.models.classification.GaussianProcessClassifierContainer at 0x7f1bf4e6d850>,\n",
       "  'mlp': <pycaret.containers.models.classification.MLPClassifierContainer at 0x7f1bf4e6d450>,\n",
       "  'ridge': <pycaret.containers.models.classification.RidgeClassifierContainer at 0x7f1bf4e6d550>,\n",
       "  'rf': <pycaret.containers.models.classification.RandomForestClassifierContainer at 0x7f1bf43826d0>,\n",
       "  'qda': <pycaret.containers.models.classification.QuadraticDiscriminantAnalysisContainer at 0x7f1bf3c9cbd0>,\n",
       "  'ada': <pycaret.containers.models.classification.AdaBoostClassifierContainer at 0x7f1bf3c9cb10>,\n",
       "  'gbc': <pycaret.containers.models.classification.GradientBoostingClassifierContainer at 0x7f1bf400d1d0>,\n",
       "  'lda': <pycaret.containers.models.classification.LinearDiscriminantAnalysisContainer at 0x7f1bf3c9cfd0>,\n",
       "  'et': <pycaret.containers.models.classification.ExtraTreesClassifierContainer at 0x7f1bf4001290>,\n",
       "  'xgboost': <pycaret.containers.models.classification.XGBClassifierContainer at 0x7f1bf4001190>,\n",
       "  'lightgbm': <pycaret.containers.models.classification.LGBMClassifierContainer at 0x7f1bf4001910>,\n",
       "  'catboost': <pycaret.containers.models.classification.CatBoostClassifierContainer at 0x7f1bf4001950>},\n",
       " None,\n",
       " False,\n",
       " 5,\n",
       " True,\n",
       " False,\n",
       " Pipeline(memory=None,\n",
       "          steps=[('dtypes',\n",
       "                  DataTypes_Auto_infer(categorical_features=[],\n",
       "                                       display_types=False, features_todrop=[],\n",
       "                                       id_columns=[],\n",
       "                                       ml_usecase='classification',\n",
       "                                       numerical_features=[], target='Survived',\n",
       "                                       time_features=[])),\n",
       "                 ('imputer',\n",
       "                  Simple_Imputer(categorical_strategy='not_available',\n",
       "                                 fill_value_categorical=None,\n",
       "                                 fill_value_numerical=None,\n",
       "                                 numeric_st...\n",
       "                 ('scaling', 'passthrough'), ('P_transform', 'passthrough'),\n",
       "                 ('binn', 'passthrough'), ('rem_outliers', 'passthrough'),\n",
       "                 ('cluster_all', 'passthrough'),\n",
       "                 ('dummy', Dummify(target='Survived')),\n",
       "                 ('fix_perfect', Remove_100(target='Survived')),\n",
       "                 ('clean_names', Clean_Colum_Names()),\n",
       "                 ('feature_select', 'passthrough'), ('fix_multi', 'passthrough'),\n",
       "                 ('dfs', 'passthrough'), ('pca', 'passthrough')],\n",
       "          verbose=False),\n",
       " {'lr': <pycaret.containers.models.classification.LogisticRegressionClassifierContainer at 0x7f1bf3fe2150>,\n",
       "  'knn': <pycaret.containers.models.classification.KNeighborsClassifierContainer at 0x7f1bf3fe2290>,\n",
       "  'nb': <pycaret.containers.models.classification.GaussianNBClassifierContainer at 0x7f1bf3fe23d0>,\n",
       "  'dt': <pycaret.containers.models.classification.DecisionTreeClassifierContainer at 0x7f1bf3fe2490>,\n",
       "  'svm': <pycaret.containers.models.classification.SGDClassifierContainer at 0x7f1bf3fe2710>,\n",
       "  'rbfsvm': <pycaret.containers.models.classification.SVCClassifierContainer at 0x7f1bf3fe29d0>,\n",
       "  'gpc': <pycaret.containers.models.classification.GaussianProcessClassifierContainer at 0x7f1bf3fe2250>,\n",
       "  'mlp': <pycaret.containers.models.classification.MLPClassifierContainer at 0x7f1bf3fe2b90>,\n",
       "  'ridge': <pycaret.containers.models.classification.RidgeClassifierContainer at 0x7f1bf3fe2e10>,\n",
       "  'rf': <pycaret.containers.models.classification.RandomForestClassifierContainer at 0x7f1bf3fe2790>,\n",
       "  'qda': <pycaret.containers.models.classification.QuadraticDiscriminantAnalysisContainer at 0x7f1bf49f8310>,\n",
       "  'ada': <pycaret.containers.models.classification.AdaBoostClassifierContainer at 0x7f1bf49f8350>,\n",
       "  'gbc': <pycaret.containers.models.classification.GradientBoostingClassifierContainer at 0x7f1bf49f85d0>,\n",
       "  'lda': <pycaret.containers.models.classification.LinearDiscriminantAnalysisContainer at 0x7f1bf49f88d0>,\n",
       "  'et': <pycaret.containers.models.classification.ExtraTreesClassifierContainer at 0x7f1bf49f89d0>,\n",
       "  'xgboost': <pycaret.containers.models.classification.XGBClassifierContainer at 0x7f1bf49f8d10>,\n",
       "  'lightgbm': <pycaret.containers.models.classification.LGBMClassifierContainer at 0x7f1bf4376190>,\n",
       "  'catboost': <pycaret.containers.models.classification.CatBoostClassifierContainer at 0x7f1bf3fe20d0>,\n",
       "  'Bagging': <pycaret.containers.models.classification.BaggingClassifierContainer at 0x7f1bf4001f90>,\n",
       "  'Stacking': <pycaret.containers.models.classification.StackingClassifierContainer at 0x7f1bf4001fd0>,\n",
       "  'Voting': <pycaret.containers.models.classification.VotingClassifierContainer at 0x7f1bf4376290>,\n",
       "  'CalibratedCV': <pycaret.containers.models.classification.CalibratedClassifierCVContainer at 0x7f1bf43765d0>},\n",
       "                 Age     SibSp      Fare     Name  Ticket  Sex  Pclass  \\\n",
       " 0     -8.614253e-16  1.901268  0.134351  17441.0    49.0  1.0     0.0   \n",
       " 1     -8.614253e-16 -0.539572 -0.533837   3063.0    49.0  1.0     2.0   \n",
       " 2     -2.069149e+00  0.680848  1.070483  17798.0    14.0  1.0     2.0   \n",
       " 3     -9.374220e-01 -0.539572 -0.555506  12742.0     0.0  1.0     2.0   \n",
       " 4     -5.737175e-01 -0.539572 -1.023540   2335.0    49.0  1.0     2.0   \n",
       " ...             ...       ...       ...      ...     ...  ...     ...   \n",
       " 99995  1.669127e+00 -0.539572 -0.434567   1590.0    21.0  0.0     1.0   \n",
       " 99996  1.911597e+00 -0.539572 -0.698959   2992.0    49.0  1.0     1.0   \n",
       " 99997  1.536915e-01 -0.539572 -0.802137   4219.0    49.0  1.0     2.0   \n",
       " 99998  1.002335e+00 -0.539572  0.259408   3941.0    49.0  1.0     2.0   \n",
       " 99999  1.244805e+00 -0.539572 -0.492531   7055.0    49.0  1.0     2.0   \n",
       " \n",
       "        Embarked  Cabin_A  Cabin_B  Cabin_C  Cabin_D  Cabin_E  Cabin_F  \\\n",
       " 0           2.0        0        0        1        0        0        0   \n",
       " 1           2.0        0        0        0        0        0        0   \n",
       " 2           2.0        0        0        0        0        0        0   \n",
       " 3           2.0        0        0        0        0        0        0   \n",
       " 4           2.0        0        0        0        0        0        0   \n",
       " ...         ...      ...      ...      ...      ...      ...      ...   \n",
       " 99995       0.0        0        0        0        1        0        0   \n",
       " 99996       2.0        0        0        0        0        0        0   \n",
       " 99997       2.0        0        0        0        0        0        0   \n",
       " 99998       2.0        0        0        0        0        0        0   \n",
       " 99999       2.0        0        0        0        0        0        0   \n",
       " \n",
       "        Cabin_G  Cabin_T  Cabin_X  \n",
       " 0            0        0        0  \n",
       " 1            0        0        1  \n",
       " 2            0        0        1  \n",
       " 3            0        0        1  \n",
       " 4            0        0        1  \n",
       " ...        ...      ...      ...  \n",
       " 99995        0        0        0  \n",
       " 99996        0        0        1  \n",
       " 99997        0        0        1  \n",
       " 99998        0        0        1  \n",
       " 99999        0        0        1  \n",
       " \n",
       " [100000 rows x 17 columns],\n",
       " False,\n",
       "             Age     SibSp      Fare     Name  Ticket  Sex  Pclass  Embarked  \\\n",
       " 62017 -1.786066 -0.539572 -0.425227  23058.0    38.0  0.0     1.0       2.0   \n",
       " 5005   0.274926 -0.539572  0.041264   9979.0    49.0  1.0     1.0       2.0   \n",
       " 56849 -1.361744 -0.539572  0.215883  14486.0    49.0  0.0     1.0       2.0   \n",
       " 42434  1.426657 -0.539572  1.209948   8350.0    21.0  0.0     0.0       0.0   \n",
       " 54712 -1.725448 -0.539572 -0.906172  18642.0     0.0  0.0     2.0       2.0   \n",
       " ...         ...       ...       ...      ...     ...  ...     ...       ...   \n",
       " 50057  1.608510 -0.539572  1.938114   4224.0    49.0  1.0     0.0       2.0   \n",
       " 98047 -0.149396  0.680848 -0.914255  21294.0    49.0  1.0     2.0       2.0   \n",
       " 5192  -0.634335 -0.539572 -1.037225  24329.0    49.0  1.0     1.0       2.0   \n",
       " 77708  0.820483 -0.539572  2.156857   5150.0    49.0  0.0     0.0       0.0   \n",
       " 98539  0.396161 -0.539572  2.729733  25222.0    49.0  1.0     0.0       1.0   \n",
       " \n",
       "        Cabin_A  Cabin_B  Cabin_C  Cabin_D  Cabin_E  Cabin_F  Cabin_G  Cabin_T  \\\n",
       " 62017        0        0        0        0        0        0        0        0   \n",
       " 5005         0        0        0        0        0        0        0        0   \n",
       " 56849        0        0        0        0        0        0        0        0   \n",
       " 42434        0        0        1        0        0        0        0        0   \n",
       " 54712        0        0        0        0        0        0        0        0   \n",
       " ...        ...      ...      ...      ...      ...      ...      ...      ...   \n",
       " 50057        1        0        0        0        0        0        0        0   \n",
       " 98047        0        0        0        0        0        0        0        0   \n",
       " 5192         0        0        0        0        0        0        0        0   \n",
       " 77708        0        1        0        0        0        0        0        0   \n",
       " 98539        1        0        0        0        0        0        0        0   \n",
       " \n",
       "        Cabin_X  \n",
       " 62017        1  \n",
       " 5005         1  \n",
       " 56849        1  \n",
       " 42434        0  \n",
       " 54712        1  \n",
       " ...        ...  \n",
       " 50057        0  \n",
       " 98047        1  \n",
       " 5192         1  \n",
       " 77708        0  \n",
       " 98539        0  \n",
       " \n",
       " [69999 rows x 17 columns],\n",
       " [],\n",
       " False,\n",
       " -1,\n",
       " 0        1\n",
       " 1        0\n",
       " 2        0\n",
       " 3        0\n",
       " 4        1\n",
       "         ..\n",
       " 99995    1\n",
       " 99996    0\n",
       " 99997    0\n",
       " 99998    0\n",
       " 99999    0\n",
       " Name: Survived, Length: 100000, dtype: int64,\n",
       " 1,\n",
       " [],\n",
       " {'parameter': 'Hyperparameters',\n",
       "  'auc': 'AUC',\n",
       "  'confusion_matrix': 'Confusion Matrix',\n",
       "  'threshold': 'Threshold',\n",
       "  'pr': 'Precision Recall',\n",
       "  'error': 'Prediction Error',\n",
       "  'class_report': 'Class Report',\n",
       "  'rfe': 'Feature Selection',\n",
       "  'learning': 'Learning Curve',\n",
       "  'manifold': 'Manifold Learning',\n",
       "  'calibration': 'Calibration Curve',\n",
       "  'vc': 'Validation Curve',\n",
       "  'dimension': 'Dimensions',\n",
       "  'feature': 'Feature Importance',\n",
       "  'feature_all': 'Feature Importance (All)',\n",
       "  'boundary': 'Decision Boundary',\n",
       "  'lift': 'Lift Chart',\n",
       "  'gain': 'Gain Chart',\n",
       "  'tree': 'Decision Tree'})"
      ]
     },
     "execution_count": 23,
     "metadata": {},
     "output_type": "execute_result"
    }
   ],
   "source": [
    "setup(data = caret_train, \n",
    "      target = 'Survived',\n",
    "      ordinal_features= category_caret,\n",
    "      #numeric_imputation = 'Age','SibSp','Name','Ticket','Fare',\n",
    "      fold=5,\n",
    "      silent = True,\n",
    "      session_id=1,\n",
    "      #data_split_shuffle=True\n",
    "      fold_shuffle=True\n",
    "\n",
    "     )"
   ]
  },
  {
   "cell_type": "code",
   "execution_count": null,
   "id": "chief-robin",
   "metadata": {
    "papermill": {
     "duration": 0.119293,
     "end_time": "2021-04-28T12:33:43.985500",
     "exception": false,
     "start_time": "2021-04-28T12:33:43.866207",
     "status": "completed"
    },
    "tags": []
   },
   "outputs": [],
   "source": []
  },
  {
   "cell_type": "code",
   "execution_count": 24,
   "id": "acoustic-roulette",
   "metadata": {
    "execution": {
     "iopub.execute_input": "2021-04-28T12:33:44.229442Z",
     "iopub.status.busy": "2021-04-28T12:33:44.228781Z",
     "iopub.status.idle": "2021-04-28T12:33:44.232575Z",
     "shell.execute_reply": "2021-04-28T12:33:44.231825Z"
    },
    "papermill": {
     "duration": 0.124952,
     "end_time": "2021-04-28T12:33:44.232728",
     "exception": false,
     "start_time": "2021-04-28T12:33:44.107776",
     "status": "completed"
    },
    "tags": []
   },
   "outputs": [],
   "source": [
    "#best_model = compare_models(sort = 'Accuracy', n_select = 4)"
   ]
  },
  {
   "cell_type": "code",
   "execution_count": 25,
   "id": "federal-vegetable",
   "metadata": {
    "execution": {
     "iopub.execute_input": "2021-04-28T12:33:44.474797Z",
     "iopub.status.busy": "2021-04-28T12:33:44.474021Z",
     "iopub.status.idle": "2021-04-28T12:33:44.477632Z",
     "shell.execute_reply": "2021-04-28T12:33:44.476968Z"
    },
    "papermill": {
     "duration": 0.125435,
     "end_time": "2021-04-28T12:33:44.477798",
     "exception": false,
     "start_time": "2021-04-28T12:33:44.352363",
     "status": "completed"
    },
    "tags": []
   },
   "outputs": [],
   "source": [
    "# gbc=create_model('gbc')"
   ]
  },
  {
   "cell_type": "code",
   "execution_count": 26,
   "id": "executive-yugoslavia",
   "metadata": {
    "execution": {
     "iopub.execute_input": "2021-04-28T12:33:44.718968Z",
     "iopub.status.busy": "2021-04-28T12:33:44.718295Z",
     "iopub.status.idle": "2021-04-28T12:33:44.721405Z",
     "shell.execute_reply": "2021-04-28T12:33:44.720811Z"
    },
    "papermill": {
     "duration": 0.125635,
     "end_time": "2021-04-28T12:33:44.721534",
     "exception": false,
     "start_time": "2021-04-28T12:33:44.595899",
     "status": "completed"
    },
    "tags": []
   },
   "outputs": [],
   "source": [
    "# gbc=tune_model(gbc\n",
    "#               , optimize='AUC')"
   ]
  },
  {
   "cell_type": "code",
   "execution_count": 27,
   "id": "palestinian-bronze",
   "metadata": {
    "execution": {
     "iopub.execute_input": "2021-04-28T12:33:44.962135Z",
     "iopub.status.busy": "2021-04-28T12:33:44.961188Z",
     "iopub.status.idle": "2021-04-28T12:33:44.964678Z",
     "shell.execute_reply": "2021-04-28T12:33:44.964033Z"
    },
    "papermill": {
     "duration": 0.125355,
     "end_time": "2021-04-28T12:33:44.964834",
     "exception": false,
     "start_time": "2021-04-28T12:33:44.839479",
     "status": "completed"
    },
    "tags": []
   },
   "outputs": [],
   "source": [
    "# print(gbc)"
   ]
  },
  {
   "cell_type": "code",
   "execution_count": 28,
   "id": "opposite-contractor",
   "metadata": {
    "execution": {
     "iopub.execute_input": "2021-04-28T12:33:45.221874Z",
     "iopub.status.busy": "2021-04-28T12:33:45.220840Z",
     "iopub.status.idle": "2021-04-28T12:33:51.440743Z",
     "shell.execute_reply": "2021-04-28T12:33:51.441307Z"
    },
    "papermill": {
     "duration": 6.359011,
     "end_time": "2021-04-28T12:33:51.441484",
     "exception": false,
     "start_time": "2021-04-28T12:33:45.082473",
     "status": "completed"
    },
    "tags": []
   },
   "outputs": [
    {
     "data": {
      "text/html": [
       "<style  type=\"text/css\" >\n",
       "#T_ef218_row5_col0,#T_ef218_row5_col1,#T_ef218_row5_col2,#T_ef218_row5_col3,#T_ef218_row5_col4,#T_ef218_row5_col5,#T_ef218_row5_col6{\n",
       "            background:  yellow;\n",
       "        }</style><table id=\"T_ef218_\" ><thead>    <tr>        <th class=\"blank level0\" ></th>        <th class=\"col_heading level0 col0\" >Accuracy</th>        <th class=\"col_heading level0 col1\" >AUC</th>        <th class=\"col_heading level0 col2\" >Recall</th>        <th class=\"col_heading level0 col3\" >Prec.</th>        <th class=\"col_heading level0 col4\" >F1</th>        <th class=\"col_heading level0 col5\" >Kappa</th>        <th class=\"col_heading level0 col6\" >MCC</th>    </tr></thead><tbody>\n",
       "                <tr>\n",
       "                        <th id=\"T_ef218_level0_row0\" class=\"row_heading level0 row0\" >0</th>\n",
       "                        <td id=\"T_ef218_row0_col0\" class=\"data row0 col0\" >0.7793</td>\n",
       "                        <td id=\"T_ef218_row0_col1\" class=\"data row0 col1\" >0.8496</td>\n",
       "                        <td id=\"T_ef218_row0_col2\" class=\"data row0 col2\" >0.7382</td>\n",
       "                        <td id=\"T_ef218_row0_col3\" class=\"data row0 col3\" >0.7444</td>\n",
       "                        <td id=\"T_ef218_row0_col4\" class=\"data row0 col4\" >0.7413</td>\n",
       "                        <td id=\"T_ef218_row0_col5\" class=\"data row0 col5\" >0.5488</td>\n",
       "                        <td id=\"T_ef218_row0_col6\" class=\"data row0 col6\" >0.5489</td>\n",
       "            </tr>\n",
       "            <tr>\n",
       "                        <th id=\"T_ef218_level0_row1\" class=\"row_heading level0 row1\" >1</th>\n",
       "                        <td id=\"T_ef218_row1_col0\" class=\"data row1 col0\" >0.7797</td>\n",
       "                        <td id=\"T_ef218_row1_col1\" class=\"data row1 col1\" >0.8492</td>\n",
       "                        <td id=\"T_ef218_row1_col2\" class=\"data row1 col2\" >0.7439</td>\n",
       "                        <td id=\"T_ef218_row1_col3\" class=\"data row1 col3\" >0.7424</td>\n",
       "                        <td id=\"T_ef218_row1_col4\" class=\"data row1 col4\" >0.7431</td>\n",
       "                        <td id=\"T_ef218_row1_col5\" class=\"data row1 col5\" >0.5503</td>\n",
       "                        <td id=\"T_ef218_row1_col6\" class=\"data row1 col6\" >0.5503</td>\n",
       "            </tr>\n",
       "            <tr>\n",
       "                        <th id=\"T_ef218_level0_row2\" class=\"row_heading level0 row2\" >2</th>\n",
       "                        <td id=\"T_ef218_row2_col0\" class=\"data row2 col0\" >0.7858</td>\n",
       "                        <td id=\"T_ef218_row2_col1\" class=\"data row2 col1\" >0.8547</td>\n",
       "                        <td id=\"T_ef218_row2_col2\" class=\"data row2 col2\" >0.7489</td>\n",
       "                        <td id=\"T_ef218_row2_col3\" class=\"data row2 col3\" >0.7505</td>\n",
       "                        <td id=\"T_ef218_row2_col4\" class=\"data row2 col4\" >0.7497</td>\n",
       "                        <td id=\"T_ef218_row2_col5\" class=\"data row2 col5\" >0.5625</td>\n",
       "                        <td id=\"T_ef218_row2_col6\" class=\"data row2 col6\" >0.5625</td>\n",
       "            </tr>\n",
       "            <tr>\n",
       "                        <th id=\"T_ef218_level0_row3\" class=\"row_heading level0 row3\" >3</th>\n",
       "                        <td id=\"T_ef218_row3_col0\" class=\"data row3 col0\" >0.7777</td>\n",
       "                        <td id=\"T_ef218_row3_col1\" class=\"data row3 col1\" >0.8493</td>\n",
       "                        <td id=\"T_ef218_row3_col2\" class=\"data row3 col2\" >0.7467</td>\n",
       "                        <td id=\"T_ef218_row3_col3\" class=\"data row3 col3\" >0.7376</td>\n",
       "                        <td id=\"T_ef218_row3_col4\" class=\"data row3 col4\" >0.7422</td>\n",
       "                        <td id=\"T_ef218_row3_col5\" class=\"data row3 col5\" >0.5468</td>\n",
       "                        <td id=\"T_ef218_row3_col6\" class=\"data row3 col6\" >0.5469</td>\n",
       "            </tr>\n",
       "            <tr>\n",
       "                        <th id=\"T_ef218_level0_row4\" class=\"row_heading level0 row4\" >4</th>\n",
       "                        <td id=\"T_ef218_row4_col0\" class=\"data row4 col0\" >0.7825</td>\n",
       "                        <td id=\"T_ef218_row4_col1\" class=\"data row4 col1\" >0.8508</td>\n",
       "                        <td id=\"T_ef218_row4_col2\" class=\"data row4 col2\" >0.7429</td>\n",
       "                        <td id=\"T_ef218_row4_col3\" class=\"data row4 col3\" >0.7477</td>\n",
       "                        <td id=\"T_ef218_row4_col4\" class=\"data row4 col4\" >0.7453</td>\n",
       "                        <td id=\"T_ef218_row4_col5\" class=\"data row4 col5\" >0.5555</td>\n",
       "                        <td id=\"T_ef218_row4_col6\" class=\"data row4 col6\" >0.5555</td>\n",
       "            </tr>\n",
       "            <tr>\n",
       "                        <th id=\"T_ef218_level0_row5\" class=\"row_heading level0 row5\" >Mean</th>\n",
       "                        <td id=\"T_ef218_row5_col0\" class=\"data row5 col0\" >0.7810</td>\n",
       "                        <td id=\"T_ef218_row5_col1\" class=\"data row5 col1\" >0.8507</td>\n",
       "                        <td id=\"T_ef218_row5_col2\" class=\"data row5 col2\" >0.7441</td>\n",
       "                        <td id=\"T_ef218_row5_col3\" class=\"data row5 col3\" >0.7445</td>\n",
       "                        <td id=\"T_ef218_row5_col4\" class=\"data row5 col4\" >0.7443</td>\n",
       "                        <td id=\"T_ef218_row5_col5\" class=\"data row5 col5\" >0.5528</td>\n",
       "                        <td id=\"T_ef218_row5_col6\" class=\"data row5 col6\" >0.5528</td>\n",
       "            </tr>\n",
       "            <tr>\n",
       "                        <th id=\"T_ef218_level0_row6\" class=\"row_heading level0 row6\" >SD</th>\n",
       "                        <td id=\"T_ef218_row6_col0\" class=\"data row6 col0\" >0.0028</td>\n",
       "                        <td id=\"T_ef218_row6_col1\" class=\"data row6 col1\" >0.0021</td>\n",
       "                        <td id=\"T_ef218_row6_col2\" class=\"data row6 col2\" >0.0036</td>\n",
       "                        <td id=\"T_ef218_row6_col3\" class=\"data row6 col3\" >0.0044</td>\n",
       "                        <td id=\"T_ef218_row6_col4\" class=\"data row6 col4\" >0.0030</td>\n",
       "                        <td id=\"T_ef218_row6_col5\" class=\"data row6 col5\" >0.0056</td>\n",
       "                        <td id=\"T_ef218_row6_col6\" class=\"data row6 col6\" >0.0056</td>\n",
       "            </tr>\n",
       "    </tbody></table>"
      ],
      "text/plain": [
       "<pandas.io.formats.style.Styler at 0x7f1bf4f8db10>"
      ]
     },
     "metadata": {},
     "output_type": "display_data"
    }
   ],
   "source": [
    "lightgbm=create_model('lightgbm',bagging_fraction=0.8, bagging_freq=5, boosting_type='gbdt',\n",
    "               class_weight=None, colsample_bytree=1.0, feature_fraction=0.9,\n",
    "               importance_type='split', learning_rate=0.103, max_depth=-1,\n",
    "               min_child_samples=30, min_child_weight=0.001, min_split_gain=0.4,\n",
    "               n_estimators=40, n_jobs=-1, num_leaves=30, objective=None,\n",
    "               random_state=1, reg_alpha=2, reg_lambda=0.2, silent=True,\n",
    "               subsample=1.0, subsample_for_bin=200000, subsample_freq=0\n",
    ")"
   ]
  },
  {
   "cell_type": "code",
   "execution_count": 29,
   "id": "shared-personal",
   "metadata": {
    "execution": {
     "iopub.execute_input": "2021-04-28T12:33:51.687923Z",
     "iopub.status.busy": "2021-04-28T12:33:51.687221Z",
     "iopub.status.idle": "2021-04-28T12:33:51.690292Z",
     "shell.execute_reply": "2021-04-28T12:33:51.689645Z"
    },
    "papermill": {
     "duration": 0.125661,
     "end_time": "2021-04-28T12:33:51.690431",
     "exception": false,
     "start_time": "2021-04-28T12:33:51.564770",
     "status": "completed"
    },
    "tags": []
   },
   "outputs": [],
   "source": [
    "# lightgbm = tune_model(lightgbm\n",
    "#                      , optimize='AUC' \n",
    "#                      )"
   ]
  },
  {
   "cell_type": "code",
   "execution_count": 30,
   "id": "collective-bridge",
   "metadata": {
    "execution": {
     "iopub.execute_input": "2021-04-28T12:33:51.936706Z",
     "iopub.status.busy": "2021-04-28T12:33:51.936009Z",
     "iopub.status.idle": "2021-04-28T12:33:51.940231Z",
     "shell.execute_reply": "2021-04-28T12:33:51.940795Z"
    },
    "papermill": {
     "duration": 0.132124,
     "end_time": "2021-04-28T12:33:51.940982",
     "exception": false,
     "start_time": "2021-04-28T12:33:51.808858",
     "status": "completed"
    },
    "tags": []
   },
   "outputs": [
    {
     "name": "stdout",
     "output_type": "stream",
     "text": [
      "LGBMClassifier(bagging_fraction=0.8, bagging_freq=5, boosting_type='gbdt',\n",
      "               class_weight=None, colsample_bytree=1.0, feature_fraction=0.9,\n",
      "               importance_type='split', learning_rate=0.103, max_depth=-1,\n",
      "               min_child_samples=30, min_child_weight=0.001, min_split_gain=0.4,\n",
      "               n_estimators=40, n_jobs=-1, num_leaves=30, objective=None,\n",
      "               random_state=1, reg_alpha=2, reg_lambda=0.2, silent=True,\n",
      "               subsample=1.0, subsample_for_bin=200000, subsample_freq=0)\n"
     ]
    }
   ],
   "source": [
    "print(lightgbm)"
   ]
  },
  {
   "cell_type": "code",
   "execution_count": 31,
   "id": "behavioral-novel",
   "metadata": {
    "execution": {
     "iopub.execute_input": "2021-04-28T12:33:52.185044Z",
     "iopub.status.busy": "2021-04-28T12:33:52.184402Z",
     "iopub.status.idle": "2021-04-28T12:33:52.189673Z",
     "shell.execute_reply": "2021-04-28T12:33:52.189138Z"
    },
    "papermill": {
     "duration": 0.127272,
     "end_time": "2021-04-28T12:33:52.189817",
     "exception": false,
     "start_time": "2021-04-28T12:33:52.062545",
     "status": "completed"
    },
    "tags": []
   },
   "outputs": [],
   "source": [
    "cat_params={'depth': 9, 'l2_leaf_reg': 2, 'border_count': 254, 'verbose': False,\n",
    "            'random_strength': 0.8, 'task_type': 'CPU', 'n_estimators': 270, 'random_state': 1}"
   ]
  },
  {
   "cell_type": "code",
   "execution_count": 32,
   "id": "missing-treasurer",
   "metadata": {
    "execution": {
     "iopub.execute_input": "2021-04-28T12:33:52.431104Z",
     "iopub.status.busy": "2021-04-28T12:33:52.430462Z",
     "iopub.status.idle": "2021-04-28T12:34:50.408874Z",
     "shell.execute_reply": "2021-04-28T12:34:50.408250Z"
    },
    "papermill": {
     "duration": 58.100139,
     "end_time": "2021-04-28T12:34:50.409044",
     "exception": false,
     "start_time": "2021-04-28T12:33:52.308905",
     "status": "completed"
    },
    "tags": []
   },
   "outputs": [],
   "source": [
    "catboost=create_model('catboost',**cat_params\n",
    "                     )"
   ]
  },
  {
   "cell_type": "code",
   "execution_count": 33,
   "id": "cultural-declaration",
   "metadata": {
    "execution": {
     "iopub.execute_input": "2021-04-28T12:34:50.653382Z",
     "iopub.status.busy": "2021-04-28T12:34:50.652433Z",
     "iopub.status.idle": "2021-04-28T12:34:50.654866Z",
     "shell.execute_reply": "2021-04-28T12:34:50.656194Z"
    },
    "papermill": {
     "duration": 0.128027,
     "end_time": "2021-04-28T12:34:50.656372",
     "exception": false,
     "start_time": "2021-04-28T12:34:50.528345",
     "status": "completed"
    },
    "tags": []
   },
   "outputs": [],
   "source": [
    "# catboost = tune_model(catboost\n",
    "#                      , optimize='AUC' \n",
    "#                      )"
   ]
  },
  {
   "cell_type": "code",
   "execution_count": null,
   "id": "becoming-enemy",
   "metadata": {
    "papermill": {
     "duration": 0.12088,
     "end_time": "2021-04-28T12:34:50.896609",
     "exception": false,
     "start_time": "2021-04-28T12:34:50.775729",
     "status": "completed"
    },
    "tags": []
   },
   "outputs": [],
   "source": []
  },
  {
   "cell_type": "code",
   "execution_count": 34,
   "id": "banned-words",
   "metadata": {
    "execution": {
     "iopub.execute_input": "2021-04-28T12:34:51.143308Z",
     "iopub.status.busy": "2021-04-28T12:34:51.142452Z",
     "iopub.status.idle": "2021-04-28T12:34:51.146204Z",
     "shell.execute_reply": "2021-04-28T12:34:51.145655Z"
    },
    "papermill": {
     "duration": 0.129488,
     "end_time": "2021-04-28T12:34:51.146333",
     "exception": false,
     "start_time": "2021-04-28T12:34:51.016845",
     "status": "completed"
    },
    "tags": []
   },
   "outputs": [
    {
     "name": "stdout",
     "output_type": "stream",
     "text": [
      "{'depth': 9, 'l2_leaf_reg': 2, 'border_count': 254, 'verbose': False, 'random_strength': 0.8, 'task_type': 'CPU', 'n_estimators': 270, 'random_state': 1}\n"
     ]
    }
   ],
   "source": [
    "print(catboost.get_params())"
   ]
  },
  {
   "cell_type": "code",
   "execution_count": 35,
   "id": "adjusted-greene",
   "metadata": {
    "execution": {
     "iopub.execute_input": "2021-04-28T12:34:51.393142Z",
     "iopub.status.busy": "2021-04-28T12:34:51.392294Z",
     "iopub.status.idle": "2021-04-28T12:34:51.396271Z",
     "shell.execute_reply": "2021-04-28T12:34:51.395734Z"
    },
    "papermill": {
     "duration": 0.12912,
     "end_time": "2021-04-28T12:34:51.396423",
     "exception": false,
     "start_time": "2021-04-28T12:34:51.267303",
     "status": "completed"
    },
    "tags": []
   },
   "outputs": [],
   "source": [
    "#ada=create_model('ada')"
   ]
  },
  {
   "cell_type": "code",
   "execution_count": 36,
   "id": "about-racing",
   "metadata": {
    "execution": {
     "iopub.execute_input": "2021-04-28T12:34:51.641096Z",
     "iopub.status.busy": "2021-04-28T12:34:51.640186Z",
     "iopub.status.idle": "2021-04-28T12:34:51.643372Z",
     "shell.execute_reply": "2021-04-28T12:34:51.643896Z"
    },
    "papermill": {
     "duration": 0.127199,
     "end_time": "2021-04-28T12:34:51.644068",
     "exception": false,
     "start_time": "2021-04-28T12:34:51.516869",
     "status": "completed"
    },
    "tags": []
   },
   "outputs": [],
   "source": [
    "#ada=tune_model(ada,optimize='AUC')"
   ]
  },
  {
   "cell_type": "code",
   "execution_count": 37,
   "id": "short-particular",
   "metadata": {
    "execution": {
     "iopub.execute_input": "2021-04-28T12:34:51.892819Z",
     "iopub.status.busy": "2021-04-28T12:34:51.892007Z",
     "iopub.status.idle": "2021-04-28T12:34:51.918191Z",
     "shell.execute_reply": "2021-04-28T12:34:51.917627Z"
    },
    "papermill": {
     "duration": 0.153889,
     "end_time": "2021-04-28T12:34:51.918338",
     "exception": false,
     "start_time": "2021-04-28T12:34:51.764449",
     "status": "completed"
    },
    "tags": []
   },
   "outputs": [
    {
     "data": {
      "text/html": [
       "<div>\n",
       "<style scoped>\n",
       "    .dataframe tbody tr th:only-of-type {\n",
       "        vertical-align: middle;\n",
       "    }\n",
       "\n",
       "    .dataframe tbody tr th {\n",
       "        vertical-align: top;\n",
       "    }\n",
       "\n",
       "    .dataframe thead th {\n",
       "        text-align: right;\n",
       "    }\n",
       "</style>\n",
       "<table border=\"1\" class=\"dataframe\">\n",
       "  <thead>\n",
       "    <tr style=\"text-align: right;\">\n",
       "      <th></th>\n",
       "      <th>Age</th>\n",
       "      <th>SibSp</th>\n",
       "      <th>Fare</th>\n",
       "      <th>Name</th>\n",
       "      <th>Ticket</th>\n",
       "      <th>Sex</th>\n",
       "      <th>Pclass</th>\n",
       "      <th>Embarked</th>\n",
       "      <th>Cabin_A</th>\n",
       "      <th>Cabin_B</th>\n",
       "      <th>Cabin_C</th>\n",
       "      <th>Cabin_D</th>\n",
       "      <th>Cabin_E</th>\n",
       "      <th>Cabin_F</th>\n",
       "      <th>Cabin_G</th>\n",
       "      <th>Cabin_T</th>\n",
       "      <th>Cabin_X</th>\n",
       "    </tr>\n",
       "  </thead>\n",
       "  <tbody>\n",
       "    <tr>\n",
       "      <th>100000</th>\n",
       "      <td>-0.937422</td>\n",
       "      <td>-0.539572</td>\n",
       "      <td>0.949786</td>\n",
       "      <td>10830</td>\n",
       "      <td>49</td>\n",
       "      <td>1</td>\n",
       "      <td>2</td>\n",
       "      <td>2</td>\n",
       "      <td>0</td>\n",
       "      <td>0</td>\n",
       "      <td>0</td>\n",
       "      <td>0</td>\n",
       "      <td>0</td>\n",
       "      <td>0</td>\n",
       "      <td>0</td>\n",
       "      <td>0</td>\n",
       "      <td>1</td>\n",
       "    </tr>\n",
       "    <tr>\n",
       "      <th>100001</th>\n",
       "      <td>1.123570</td>\n",
       "      <td>-0.539572</td>\n",
       "      <td>-1.273379</td>\n",
       "      <td>17134</td>\n",
       "      <td>49</td>\n",
       "      <td>0</td>\n",
       "      <td>2</td>\n",
       "      <td>2</td>\n",
       "      <td>0</td>\n",
       "      <td>0</td>\n",
       "      <td>0</td>\n",
       "      <td>0</td>\n",
       "      <td>0</td>\n",
       "      <td>0</td>\n",
       "      <td>0</td>\n",
       "      <td>0</td>\n",
       "      <td>1</td>\n",
       "    </tr>\n",
       "    <tr>\n",
       "      <th>100002</th>\n",
       "      <td>-0.937422</td>\n",
       "      <td>-0.539572</td>\n",
       "      <td>0.481059</td>\n",
       "      <td>9978</td>\n",
       "      <td>49</td>\n",
       "      <td>0</td>\n",
       "      <td>0</td>\n",
       "      <td>0</td>\n",
       "      <td>0</td>\n",
       "      <td>1</td>\n",
       "      <td>0</td>\n",
       "      <td>0</td>\n",
       "      <td>0</td>\n",
       "      <td>0</td>\n",
       "      <td>0</td>\n",
       "      <td>0</td>\n",
       "      <td>0</td>\n",
       "    </tr>\n",
       "    <tr>\n",
       "      <th>100003</th>\n",
       "      <td>-0.573717</td>\n",
       "      <td>-0.539572</td>\n",
       "      <td>-0.563310</td>\n",
       "      <td>13303</td>\n",
       "      <td>49</td>\n",
       "      <td>1</td>\n",
       "      <td>1</td>\n",
       "      <td>2</td>\n",
       "      <td>0</td>\n",
       "      <td>0</td>\n",
       "      <td>0</td>\n",
       "      <td>0</td>\n",
       "      <td>0</td>\n",
       "      <td>0</td>\n",
       "      <td>0</td>\n",
       "      <td>0</td>\n",
       "      <td>1</td>\n",
       "    </tr>\n",
       "    <tr>\n",
       "      <th>100004</th>\n",
       "      <td>-1.058657</td>\n",
       "      <td>-0.539572</td>\n",
       "      <td>0.125497</td>\n",
       "      <td>4406</td>\n",
       "      <td>49</td>\n",
       "      <td>0</td>\n",
       "      <td>0</td>\n",
       "      <td>0</td>\n",
       "      <td>0</td>\n",
       "      <td>1</td>\n",
       "      <td>0</td>\n",
       "      <td>0</td>\n",
       "      <td>0</td>\n",
       "      <td>0</td>\n",
       "      <td>0</td>\n",
       "      <td>0</td>\n",
       "      <td>0</td>\n",
       "    </tr>\n",
       "  </tbody>\n",
       "</table>\n",
       "</div>"
      ],
      "text/plain": [
       "             Age     SibSp      Fare   Name  Ticket  Sex  Pclass  Embarked  \\\n",
       "100000 -0.937422 -0.539572  0.949786  10830      49    1       2         2   \n",
       "100001  1.123570 -0.539572 -1.273379  17134      49    0       2         2   \n",
       "100002 -0.937422 -0.539572  0.481059   9978      49    0       0         0   \n",
       "100003 -0.573717 -0.539572 -0.563310  13303      49    1       1         2   \n",
       "100004 -1.058657 -0.539572  0.125497   4406      49    0       0         0   \n",
       "\n",
       "        Cabin_A  Cabin_B  Cabin_C  Cabin_D  Cabin_E  Cabin_F  Cabin_G  \\\n",
       "100000        0        0        0        0        0        0        0   \n",
       "100001        0        0        0        0        0        0        0   \n",
       "100002        0        1        0        0        0        0        0   \n",
       "100003        0        0        0        0        0        0        0   \n",
       "100004        0        1        0        0        0        0        0   \n",
       "\n",
       "        Cabin_T  Cabin_X  \n",
       "100000        0        1  \n",
       "100001        0        1  \n",
       "100002        0        0  \n",
       "100003        0        1  \n",
       "100004        0        0  "
      ]
     },
     "execution_count": 37,
     "metadata": {},
     "output_type": "execute_result"
    }
   ],
   "source": [
    "test = all_df.iloc[100000:, :] #100000개~ \n",
    "X_test=test.drop(drop_list,axis=1)\n",
    "X_test.head()"
   ]
  },
  {
   "cell_type": "markdown",
   "id": "monthly-graduation",
   "metadata": {
    "papermill": {
     "duration": 0.121274,
     "end_time": "2021-04-28T12:34:52.163194",
     "exception": false,
     "start_time": "2021-04-28T12:34:52.041920",
     "status": "completed"
    },
    "tags": []
   },
   "source": [
    "### pycaret blending"
   ]
  },
  {
   "cell_type": "code",
   "execution_count": 38,
   "id": "secure-capability",
   "metadata": {
    "execution": {
     "iopub.execute_input": "2021-04-28T12:34:52.410971Z",
     "iopub.status.busy": "2021-04-28T12:34:52.410000Z",
     "iopub.status.idle": "2021-04-28T12:35:53.382281Z",
     "shell.execute_reply": "2021-04-28T12:35:53.382858Z"
    },
    "papermill": {
     "duration": 61.09912,
     "end_time": "2021-04-28T12:35:53.383051",
     "exception": false,
     "start_time": "2021-04-28T12:34:52.283931",
     "status": "completed"
    },
    "tags": []
   },
   "outputs": [
    {
     "data": {
      "text/html": [
       "<style  type=\"text/css\" >\n",
       "#T_bdee9_row5_col0,#T_bdee9_row5_col1,#T_bdee9_row5_col2,#T_bdee9_row5_col3,#T_bdee9_row5_col4,#T_bdee9_row5_col5,#T_bdee9_row5_col6{\n",
       "            background:  yellow;\n",
       "        }</style><table id=\"T_bdee9_\" ><thead>    <tr>        <th class=\"blank level0\" ></th>        <th class=\"col_heading level0 col0\" >Accuracy</th>        <th class=\"col_heading level0 col1\" >AUC</th>        <th class=\"col_heading level0 col2\" >Recall</th>        <th class=\"col_heading level0 col3\" >Prec.</th>        <th class=\"col_heading level0 col4\" >F1</th>        <th class=\"col_heading level0 col5\" >Kappa</th>        <th class=\"col_heading level0 col6\" >MCC</th>    </tr></thead><tbody>\n",
       "                <tr>\n",
       "                        <th id=\"T_bdee9_level0_row0\" class=\"row_heading level0 row0\" >0</th>\n",
       "                        <td id=\"T_bdee9_row0_col0\" class=\"data row0 col0\" >0.7809</td>\n",
       "                        <td id=\"T_bdee9_row0_col1\" class=\"data row0 col1\" >0.8504</td>\n",
       "                        <td id=\"T_bdee9_row0_col2\" class=\"data row0 col2\" >0.7439</td>\n",
       "                        <td id=\"T_bdee9_row0_col3\" class=\"data row0 col3\" >0.7445</td>\n",
       "                        <td id=\"T_bdee9_row0_col4\" class=\"data row0 col4\" >0.7442</td>\n",
       "                        <td id=\"T_bdee9_row0_col5\" class=\"data row0 col5\" >0.5526</td>\n",
       "                        <td id=\"T_bdee9_row0_col6\" class=\"data row0 col6\" >0.5526</td>\n",
       "            </tr>\n",
       "            <tr>\n",
       "                        <th id=\"T_bdee9_level0_row1\" class=\"row_heading level0 row1\" >1</th>\n",
       "                        <td id=\"T_bdee9_row1_col0\" class=\"data row1 col0\" >0.7809</td>\n",
       "                        <td id=\"T_bdee9_row1_col1\" class=\"data row1 col1\" >0.8496</td>\n",
       "                        <td id=\"T_bdee9_row1_col2\" class=\"data row1 col2\" >0.7494</td>\n",
       "                        <td id=\"T_bdee9_row1_col3\" class=\"data row1 col3\" >0.7417</td>\n",
       "                        <td id=\"T_bdee9_row1_col4\" class=\"data row1 col4\" >0.7455</td>\n",
       "                        <td id=\"T_bdee9_row1_col5\" class=\"data row1 col5\" >0.5531</td>\n",
       "                        <td id=\"T_bdee9_row1_col6\" class=\"data row1 col6\" >0.5531</td>\n",
       "            </tr>\n",
       "            <tr>\n",
       "                        <th id=\"T_bdee9_level0_row2\" class=\"row_heading level0 row2\" >2</th>\n",
       "                        <td id=\"T_bdee9_row2_col0\" class=\"data row2 col0\" >0.7856</td>\n",
       "                        <td id=\"T_bdee9_row2_col1\" class=\"data row2 col1\" >0.8556</td>\n",
       "                        <td id=\"T_bdee9_row2_col2\" class=\"data row2 col2\" >0.7514</td>\n",
       "                        <td id=\"T_bdee9_row2_col3\" class=\"data row2 col3\" >0.7489</td>\n",
       "                        <td id=\"T_bdee9_row2_col4\" class=\"data row2 col4\" >0.7502</td>\n",
       "                        <td id=\"T_bdee9_row2_col5\" class=\"data row2 col5\" >0.5624</td>\n",
       "                        <td id=\"T_bdee9_row2_col6\" class=\"data row2 col6\" >0.5624</td>\n",
       "            </tr>\n",
       "            <tr>\n",
       "                        <th id=\"T_bdee9_level0_row3\" class=\"row_heading level0 row3\" >3</th>\n",
       "                        <td id=\"T_bdee9_row3_col0\" class=\"data row3 col0\" >0.7789</td>\n",
       "                        <td id=\"T_bdee9_row3_col1\" class=\"data row3 col1\" >0.8499</td>\n",
       "                        <td id=\"T_bdee9_row3_col2\" class=\"data row3 col2\" >0.7492</td>\n",
       "                        <td id=\"T_bdee9_row3_col3\" class=\"data row3 col3\" >0.7385</td>\n",
       "                        <td id=\"T_bdee9_row3_col4\" class=\"data row3 col4\" >0.7439</td>\n",
       "                        <td id=\"T_bdee9_row3_col5\" class=\"data row3 col5\" >0.5494</td>\n",
       "                        <td id=\"T_bdee9_row3_col6\" class=\"data row3 col6\" >0.5495</td>\n",
       "            </tr>\n",
       "            <tr>\n",
       "                        <th id=\"T_bdee9_level0_row4\" class=\"row_heading level0 row4\" >4</th>\n",
       "                        <td id=\"T_bdee9_row4_col0\" class=\"data row4 col0\" >0.7831</td>\n",
       "                        <td id=\"T_bdee9_row4_col1\" class=\"data row4 col1\" >0.8514</td>\n",
       "                        <td id=\"T_bdee9_row4_col2\" class=\"data row4 col2\" >0.7467</td>\n",
       "                        <td id=\"T_bdee9_row4_col3\" class=\"data row4 col3\" >0.7468</td>\n",
       "                        <td id=\"T_bdee9_row4_col4\" class=\"data row4 col4\" >0.7468</td>\n",
       "                        <td id=\"T_bdee9_row4_col5\" class=\"data row4 col5\" >0.5570</td>\n",
       "                        <td id=\"T_bdee9_row4_col6\" class=\"data row4 col6\" >0.5570</td>\n",
       "            </tr>\n",
       "            <tr>\n",
       "                        <th id=\"T_bdee9_level0_row5\" class=\"row_heading level0 row5\" >Mean</th>\n",
       "                        <td id=\"T_bdee9_row5_col0\" class=\"data row5 col0\" >0.7819</td>\n",
       "                        <td id=\"T_bdee9_row5_col1\" class=\"data row5 col1\" >0.8514</td>\n",
       "                        <td id=\"T_bdee9_row5_col2\" class=\"data row5 col2\" >0.7481</td>\n",
       "                        <td id=\"T_bdee9_row5_col3\" class=\"data row5 col3\" >0.7441</td>\n",
       "                        <td id=\"T_bdee9_row5_col4\" class=\"data row5 col4\" >0.7461</td>\n",
       "                        <td id=\"T_bdee9_row5_col5\" class=\"data row5 col5\" >0.5549</td>\n",
       "                        <td id=\"T_bdee9_row5_col6\" class=\"data row5 col6\" >0.5549</td>\n",
       "            </tr>\n",
       "            <tr>\n",
       "                        <th id=\"T_bdee9_level0_row6\" class=\"row_heading level0 row6\" >SD</th>\n",
       "                        <td id=\"T_bdee9_row6_col0\" class=\"data row6 col0\" >0.0023</td>\n",
       "                        <td id=\"T_bdee9_row6_col1\" class=\"data row6 col1\" >0.0022</td>\n",
       "                        <td id=\"T_bdee9_row6_col2\" class=\"data row6 col2\" >0.0026</td>\n",
       "                        <td id=\"T_bdee9_row6_col3\" class=\"data row6 col3\" >0.0037</td>\n",
       "                        <td id=\"T_bdee9_row6_col4\" class=\"data row6 col4\" >0.0023</td>\n",
       "                        <td id=\"T_bdee9_row6_col5\" class=\"data row6 col5\" >0.0044</td>\n",
       "                        <td id=\"T_bdee9_row6_col6\" class=\"data row6 col6\" >0.0044</td>\n",
       "            </tr>\n",
       "    </tbody></table>"
      ],
      "text/plain": [
       "<pandas.io.formats.style.Styler at 0x7f1c570a7290>"
      ]
     },
     "metadata": {},
     "output_type": "display_data"
    }
   ],
   "source": [
    "blender_soft=blend_models(estimator_list=[lightgbm,catboost],\n",
    "                          method='soft')"
   ]
  },
  {
   "cell_type": "code",
   "execution_count": 39,
   "id": "metropolitan-bride",
   "metadata": {
    "execution": {
     "iopub.execute_input": "2021-04-28T12:35:53.659860Z",
     "iopub.status.busy": "2021-04-28T12:35:53.658864Z",
     "iopub.status.idle": "2021-04-28T12:36:54.945247Z",
     "shell.execute_reply": "2021-04-28T12:36:54.944600Z"
    },
    "papermill": {
     "duration": 61.440248,
     "end_time": "2021-04-28T12:36:54.945390",
     "exception": false,
     "start_time": "2021-04-28T12:35:53.505142",
     "status": "completed"
    },
    "tags": []
   },
   "outputs": [
    {
     "data": {
      "text/html": [
       "<style  type=\"text/css\" >\n",
       "#T_10c7d_row5_col0,#T_10c7d_row5_col1,#T_10c7d_row5_col2,#T_10c7d_row5_col3,#T_10c7d_row5_col4,#T_10c7d_row5_col5,#T_10c7d_row5_col6{\n",
       "            background:  yellow;\n",
       "        }</style><table id=\"T_10c7d_\" ><thead>    <tr>        <th class=\"blank level0\" ></th>        <th class=\"col_heading level0 col0\" >Accuracy</th>        <th class=\"col_heading level0 col1\" >AUC</th>        <th class=\"col_heading level0 col2\" >Recall</th>        <th class=\"col_heading level0 col3\" >Prec.</th>        <th class=\"col_heading level0 col4\" >F1</th>        <th class=\"col_heading level0 col5\" >Kappa</th>        <th class=\"col_heading level0 col6\" >MCC</th>    </tr></thead><tbody>\n",
       "                <tr>\n",
       "                        <th id=\"T_10c7d_level0_row0\" class=\"row_heading level0 row0\" >0</th>\n",
       "                        <td id=\"T_10c7d_row0_col0\" class=\"data row0 col0\" >0.7801</td>\n",
       "                        <td id=\"T_10c7d_row0_col1\" class=\"data row0 col1\" >0.0000</td>\n",
       "                        <td id=\"T_10c7d_row0_col2\" class=\"data row0 col2\" >0.7282</td>\n",
       "                        <td id=\"T_10c7d_row0_col3\" class=\"data row0 col3\" >0.7509</td>\n",
       "                        <td id=\"T_10c7d_row0_col4\" class=\"data row0 col4\" >0.7394</td>\n",
       "                        <td id=\"T_10c7d_row0_col5\" class=\"data row0 col5\" >0.5492</td>\n",
       "                        <td id=\"T_10c7d_row0_col6\" class=\"data row0 col6\" >0.5494</td>\n",
       "            </tr>\n",
       "            <tr>\n",
       "                        <th id=\"T_10c7d_level0_row1\" class=\"row_heading level0 row1\" >1</th>\n",
       "                        <td id=\"T_10c7d_row1_col0\" class=\"data row1 col0\" >0.7796</td>\n",
       "                        <td id=\"T_10c7d_row1_col1\" class=\"data row1 col1\" >0.0000</td>\n",
       "                        <td id=\"T_10c7d_row1_col2\" class=\"data row1 col2\" >0.7334</td>\n",
       "                        <td id=\"T_10c7d_row1_col3\" class=\"data row1 col3\" >0.7475</td>\n",
       "                        <td id=\"T_10c7d_row1_col4\" class=\"data row1 col4\" >0.7403</td>\n",
       "                        <td id=\"T_10c7d_row1_col5\" class=\"data row1 col5\" >0.5490</td>\n",
       "                        <td id=\"T_10c7d_row1_col6\" class=\"data row1 col6\" >0.5491</td>\n",
       "            </tr>\n",
       "            <tr>\n",
       "                        <th id=\"T_10c7d_level0_row2\" class=\"row_heading level0 row2\" >2</th>\n",
       "                        <td id=\"T_10c7d_row2_col0\" class=\"data row2 col0\" >0.7856</td>\n",
       "                        <td id=\"T_10c7d_row2_col1\" class=\"data row2 col1\" >0.0000</td>\n",
       "                        <td id=\"T_10c7d_row2_col2\" class=\"data row2 col2\" >0.7362</td>\n",
       "                        <td id=\"T_10c7d_row2_col3\" class=\"data row2 col3\" >0.7568</td>\n",
       "                        <td id=\"T_10c7d_row2_col4\" class=\"data row2 col4\" >0.7464</td>\n",
       "                        <td id=\"T_10c7d_row2_col5\" class=\"data row2 col5\" >0.5608</td>\n",
       "                        <td id=\"T_10c7d_row2_col6\" class=\"data row2 col6\" >0.5610</td>\n",
       "            </tr>\n",
       "            <tr>\n",
       "                        <th id=\"T_10c7d_level0_row3\" class=\"row_heading level0 row3\" >3</th>\n",
       "                        <td id=\"T_10c7d_row3_col0\" class=\"data row3 col0\" >0.7773</td>\n",
       "                        <td id=\"T_10c7d_row3_col1\" class=\"data row3 col1\" >0.0000</td>\n",
       "                        <td id=\"T_10c7d_row3_col2\" class=\"data row3 col2\" >0.7309</td>\n",
       "                        <td id=\"T_10c7d_row3_col3\" class=\"data row3 col3\" >0.7446</td>\n",
       "                        <td id=\"T_10c7d_row3_col4\" class=\"data row3 col4\" >0.7377</td>\n",
       "                        <td id=\"T_10c7d_row3_col5\" class=\"data row3 col5\" >0.5442</td>\n",
       "                        <td id=\"T_10c7d_row3_col6\" class=\"data row3 col6\" >0.5443</td>\n",
       "            </tr>\n",
       "            <tr>\n",
       "                        <th id=\"T_10c7d_level0_row4\" class=\"row_heading level0 row4\" >4</th>\n",
       "                        <td id=\"T_10c7d_row4_col0\" class=\"data row4 col0\" >0.7831</td>\n",
       "                        <td id=\"T_10c7d_row4_col1\" class=\"data row4 col1\" >0.0000</td>\n",
       "                        <td id=\"T_10c7d_row4_col2\" class=\"data row4 col2\" >0.7332</td>\n",
       "                        <td id=\"T_10c7d_row4_col3\" class=\"data row4 col3\" >0.7537</td>\n",
       "                        <td id=\"T_10c7d_row4_col4\" class=\"data row4 col4\" >0.7433</td>\n",
       "                        <td id=\"T_10c7d_row4_col5\" class=\"data row4 col5\" >0.5555</td>\n",
       "                        <td id=\"T_10c7d_row4_col6\" class=\"data row4 col6\" >0.5557</td>\n",
       "            </tr>\n",
       "            <tr>\n",
       "                        <th id=\"T_10c7d_level0_row5\" class=\"row_heading level0 row5\" >Mean</th>\n",
       "                        <td id=\"T_10c7d_row5_col0\" class=\"data row5 col0\" >0.7811</td>\n",
       "                        <td id=\"T_10c7d_row5_col1\" class=\"data row5 col1\" >0.0000</td>\n",
       "                        <td id=\"T_10c7d_row5_col2\" class=\"data row5 col2\" >0.7324</td>\n",
       "                        <td id=\"T_10c7d_row5_col3\" class=\"data row5 col3\" >0.7507</td>\n",
       "                        <td id=\"T_10c7d_row5_col4\" class=\"data row5 col4\" >0.7414</td>\n",
       "                        <td id=\"T_10c7d_row5_col5\" class=\"data row5 col5\" >0.5517</td>\n",
       "                        <td id=\"T_10c7d_row5_col6\" class=\"data row5 col6\" >0.5519</td>\n",
       "            </tr>\n",
       "            <tr>\n",
       "                        <th id=\"T_10c7d_level0_row6\" class=\"row_heading level0 row6\" >SD</th>\n",
       "                        <td id=\"T_10c7d_row6_col0\" class=\"data row6 col0\" >0.0029</td>\n",
       "                        <td id=\"T_10c7d_row6_col1\" class=\"data row6 col1\" >0.0000</td>\n",
       "                        <td id=\"T_10c7d_row6_col2\" class=\"data row6 col2\" >0.0027</td>\n",
       "                        <td id=\"T_10c7d_row6_col3\" class=\"data row6 col3\" >0.0043</td>\n",
       "                        <td id=\"T_10c7d_row6_col4\" class=\"data row6 col4\" >0.0031</td>\n",
       "                        <td id=\"T_10c7d_row6_col5\" class=\"data row6 col5\" >0.0058</td>\n",
       "                        <td id=\"T_10c7d_row6_col6\" class=\"data row6 col6\" >0.0058</td>\n",
       "            </tr>\n",
       "    </tbody></table>"
      ],
      "text/plain": [
       "<pandas.io.formats.style.Styler at 0x7f1bf4c52e90>"
      ]
     },
     "metadata": {},
     "output_type": "display_data"
    }
   ],
   "source": [
    "blender_hard=blend_models(estimator_list=[lightgbm,catboost],\n",
    "                          method='hard')"
   ]
  },
  {
   "cell_type": "markdown",
   "id": "hybrid-lighting",
   "metadata": {
    "papermill": {
     "duration": 0.124221,
     "end_time": "2021-04-28T12:36:55.192795",
     "exception": false,
     "start_time": "2021-04-28T12:36:55.068574",
     "status": "completed"
    },
    "tags": []
   },
   "source": [
    "### pycaret stacking"
   ]
  },
  {
   "cell_type": "code",
   "execution_count": 40,
   "id": "focal-server",
   "metadata": {
    "execution": {
     "iopub.execute_input": "2021-04-28T12:36:55.447930Z",
     "iopub.status.busy": "2021-04-28T12:36:55.447169Z",
     "iopub.status.idle": "2021-04-28T12:42:11.513387Z",
     "shell.execute_reply": "2021-04-28T12:42:11.512681Z"
    },
    "papermill": {
     "duration": 316.196953,
     "end_time": "2021-04-28T12:42:11.513539",
     "exception": false,
     "start_time": "2021-04-28T12:36:55.316586",
     "status": "completed"
    },
    "tags": []
   },
   "outputs": [
    {
     "data": {
      "text/html": [
       "<style  type=\"text/css\" >\n",
       "#T_8a557_row5_col0,#T_8a557_row5_col1,#T_8a557_row5_col2,#T_8a557_row5_col3,#T_8a557_row5_col4,#T_8a557_row5_col5,#T_8a557_row5_col6{\n",
       "            background:  yellow;\n",
       "        }</style><table id=\"T_8a557_\" ><thead>    <tr>        <th class=\"blank level0\" ></th>        <th class=\"col_heading level0 col0\" >Accuracy</th>        <th class=\"col_heading level0 col1\" >AUC</th>        <th class=\"col_heading level0 col2\" >Recall</th>        <th class=\"col_heading level0 col3\" >Prec.</th>        <th class=\"col_heading level0 col4\" >F1</th>        <th class=\"col_heading level0 col5\" >Kappa</th>        <th class=\"col_heading level0 col6\" >MCC</th>    </tr></thead><tbody>\n",
       "                <tr>\n",
       "                        <th id=\"T_8a557_level0_row0\" class=\"row_heading level0 row0\" >0</th>\n",
       "                        <td id=\"T_8a557_row0_col0\" class=\"data row0 col0\" >0.7809</td>\n",
       "                        <td id=\"T_8a557_row0_col1\" class=\"data row0 col1\" >0.8500</td>\n",
       "                        <td id=\"T_8a557_row0_col2\" class=\"data row0 col2\" >0.7464</td>\n",
       "                        <td id=\"T_8a557_row0_col3\" class=\"data row0 col3\" >0.7433</td>\n",
       "                        <td id=\"T_8a557_row0_col4\" class=\"data row0 col4\" >0.7448</td>\n",
       "                        <td id=\"T_8a557_row0_col5\" class=\"data row0 col5\" >0.5529</td>\n",
       "                        <td id=\"T_8a557_row0_col6\" class=\"data row0 col6\" >0.5529</td>\n",
       "            </tr>\n",
       "            <tr>\n",
       "                        <th id=\"T_8a557_level0_row1\" class=\"row_heading level0 row1\" >1</th>\n",
       "                        <td id=\"T_8a557_row1_col0\" class=\"data row1 col0\" >0.7789</td>\n",
       "                        <td id=\"T_8a557_row1_col1\" class=\"data row1 col1\" >0.8489</td>\n",
       "                        <td id=\"T_8a557_row1_col2\" class=\"data row1 col2\" >0.7442</td>\n",
       "                        <td id=\"T_8a557_row1_col3\" class=\"data row1 col3\" >0.7409</td>\n",
       "                        <td id=\"T_8a557_row1_col4\" class=\"data row1 col4\" >0.7425</td>\n",
       "                        <td id=\"T_8a557_row1_col5\" class=\"data row1 col5\" >0.5488</td>\n",
       "                        <td id=\"T_8a557_row1_col6\" class=\"data row1 col6\" >0.5488</td>\n",
       "            </tr>\n",
       "            <tr>\n",
       "                        <th id=\"T_8a557_level0_row2\" class=\"row_heading level0 row2\" >2</th>\n",
       "                        <td id=\"T_8a557_row2_col0\" class=\"data row2 col0\" >0.7854</td>\n",
       "                        <td id=\"T_8a557_row2_col1\" class=\"data row2 col1\" >0.8550</td>\n",
       "                        <td id=\"T_8a557_row2_col2\" class=\"data row2 col2\" >0.7477</td>\n",
       "                        <td id=\"T_8a557_row2_col3\" class=\"data row2 col3\" >0.7505</td>\n",
       "                        <td id=\"T_8a557_row2_col4\" class=\"data row2 col4\" >0.7491</td>\n",
       "                        <td id=\"T_8a557_row2_col5\" class=\"data row2 col5\" >0.5617</td>\n",
       "                        <td id=\"T_8a557_row2_col6\" class=\"data row2 col6\" >0.5617</td>\n",
       "            </tr>\n",
       "            <tr>\n",
       "                        <th id=\"T_8a557_level0_row3\" class=\"row_heading level0 row3\" >3</th>\n",
       "                        <td id=\"T_8a557_row3_col0\" class=\"data row3 col0\" >0.7781</td>\n",
       "                        <td id=\"T_8a557_row3_col1\" class=\"data row3 col1\" >0.8497</td>\n",
       "                        <td id=\"T_8a557_row3_col2\" class=\"data row3 col2\" >0.7534</td>\n",
       "                        <td id=\"T_8a557_row3_col3\" class=\"data row3 col3\" >0.7352</td>\n",
       "                        <td id=\"T_8a557_row3_col4\" class=\"data row3 col4\" >0.7442</td>\n",
       "                        <td id=\"T_8a557_row3_col5\" class=\"data row3 col5\" >0.5483</td>\n",
       "                        <td id=\"T_8a557_row3_col6\" class=\"data row3 col6\" >0.5484</td>\n",
       "            </tr>\n",
       "            <tr>\n",
       "                        <th id=\"T_8a557_level0_row4\" class=\"row_heading level0 row4\" >4</th>\n",
       "                        <td id=\"T_8a557_row4_col0\" class=\"data row4 col0\" >0.7843</td>\n",
       "                        <td id=\"T_8a557_row4_col1\" class=\"data row4 col1\" >0.8514</td>\n",
       "                        <td id=\"T_8a557_row4_col2\" class=\"data row4 col2\" >0.7384</td>\n",
       "                        <td id=\"T_8a557_row4_col3\" class=\"data row4 col3\" >0.7532</td>\n",
       "                        <td id=\"T_8a557_row4_col4\" class=\"data row4 col4\" >0.7457</td>\n",
       "                        <td id=\"T_8a557_row4_col5\" class=\"data row4 col5\" >0.5584</td>\n",
       "                        <td id=\"T_8a557_row4_col6\" class=\"data row4 col6\" >0.5585</td>\n",
       "            </tr>\n",
       "            <tr>\n",
       "                        <th id=\"T_8a557_level0_row5\" class=\"row_heading level0 row5\" >Mean</th>\n",
       "                        <td id=\"T_8a557_row5_col0\" class=\"data row5 col0\" >0.7815</td>\n",
       "                        <td id=\"T_8a557_row5_col1\" class=\"data row5 col1\" >0.8510</td>\n",
       "                        <td id=\"T_8a557_row5_col2\" class=\"data row5 col2\" >0.7460</td>\n",
       "                        <td id=\"T_8a557_row5_col3\" class=\"data row5 col3\" >0.7446</td>\n",
       "                        <td id=\"T_8a557_row5_col4\" class=\"data row5 col4\" >0.7453</td>\n",
       "                        <td id=\"T_8a557_row5_col5\" class=\"data row5 col5\" >0.5540</td>\n",
       "                        <td id=\"T_8a557_row5_col6\" class=\"data row5 col6\" >0.5541</td>\n",
       "            </tr>\n",
       "            <tr>\n",
       "                        <th id=\"T_8a557_level0_row6\" class=\"row_heading level0 row6\" >SD</th>\n",
       "                        <td id=\"T_8a557_row6_col0\" class=\"data row6 col0\" >0.0029</td>\n",
       "                        <td id=\"T_8a557_row6_col1\" class=\"data row6 col1\" >0.0021</td>\n",
       "                        <td id=\"T_8a557_row6_col2\" class=\"data row6 col2\" >0.0049</td>\n",
       "                        <td id=\"T_8a557_row6_col3\" class=\"data row6 col3\" >0.0065</td>\n",
       "                        <td id=\"T_8a557_row6_col4\" class=\"data row6 col4\" >0.0022</td>\n",
       "                        <td id=\"T_8a557_row6_col5\" class=\"data row6 col5\" >0.0053</td>\n",
       "                        <td id=\"T_8a557_row6_col6\" class=\"data row6 col6\" >0.0053</td>\n",
       "            </tr>\n",
       "    </tbody></table>"
      ],
      "text/plain": [
       "<pandas.io.formats.style.Styler at 0x7f1bf4358e10>"
      ]
     },
     "metadata": {},
     "output_type": "display_data"
    }
   ],
   "source": [
    "stacker=stack_models(estimator_list=[lightgbm,catboost],meta_model=lightgbm)"
   ]
  },
  {
   "cell_type": "code",
   "execution_count": 41,
   "id": "efficient-dividend",
   "metadata": {
    "execution": {
     "iopub.execute_input": "2021-04-28T12:42:11.770324Z",
     "iopub.status.busy": "2021-04-28T12:42:11.769599Z",
     "iopub.status.idle": "2021-04-28T12:46:51.758794Z",
     "shell.execute_reply": "2021-04-28T12:46:51.758203Z"
    },
    "papermill": {
     "duration": 280.121308,
     "end_time": "2021-04-28T12:46:51.758972",
     "exception": false,
     "start_time": "2021-04-28T12:42:11.637664",
     "status": "completed"
    },
    "tags": []
   },
   "outputs": [
    {
     "data": {
      "text/html": [
       "<style  type=\"text/css\" >\n",
       "#T_ed510_row5_col0,#T_ed510_row5_col1,#T_ed510_row5_col2,#T_ed510_row5_col3,#T_ed510_row5_col4,#T_ed510_row5_col5,#T_ed510_row5_col6{\n",
       "            background:  yellow;\n",
       "        }</style><table id=\"T_ed510_\" ><thead>    <tr>        <th class=\"blank level0\" ></th>        <th class=\"col_heading level0 col0\" >Accuracy</th>        <th class=\"col_heading level0 col1\" >AUC</th>        <th class=\"col_heading level0 col2\" >Recall</th>        <th class=\"col_heading level0 col3\" >Prec.</th>        <th class=\"col_heading level0 col4\" >F1</th>        <th class=\"col_heading level0 col5\" >Kappa</th>        <th class=\"col_heading level0 col6\" >MCC</th>    </tr></thead><tbody>\n",
       "                <tr>\n",
       "                        <th id=\"T_ed510_level0_row0\" class=\"row_heading level0 row0\" >0</th>\n",
       "                        <td id=\"T_ed510_row0_col0\" class=\"data row0 col0\" >0.7804</td>\n",
       "                        <td id=\"T_ed510_row0_col1\" class=\"data row0 col1\" >0.8504</td>\n",
       "                        <td id=\"T_ed510_row0_col2\" class=\"data row0 col2\" >0.7385</td>\n",
       "                        <td id=\"T_ed510_row0_col3\" class=\"data row0 col3\" >0.7463</td>\n",
       "                        <td id=\"T_ed510_row0_col4\" class=\"data row0 col4\" >0.7424</td>\n",
       "                        <td id=\"T_ed510_row0_col5\" class=\"data row0 col5\" >0.5511</td>\n",
       "                        <td id=\"T_ed510_row0_col6\" class=\"data row0 col6\" >0.5511</td>\n",
       "            </tr>\n",
       "            <tr>\n",
       "                        <th id=\"T_ed510_level0_row1\" class=\"row_heading level0 row1\" >1</th>\n",
       "                        <td id=\"T_ed510_row1_col0\" class=\"data row1 col0\" >0.7804</td>\n",
       "                        <td id=\"T_ed510_row1_col1\" class=\"data row1 col1\" >0.8496</td>\n",
       "                        <td id=\"T_ed510_row1_col2\" class=\"data row1 col2\" >0.7440</td>\n",
       "                        <td id=\"T_ed510_row1_col3\" class=\"data row1 col3\" >0.7435</td>\n",
       "                        <td id=\"T_ed510_row1_col4\" class=\"data row1 col4\" >0.7438</td>\n",
       "                        <td id=\"T_ed510_row1_col5\" class=\"data row1 col5\" >0.5517</td>\n",
       "                        <td id=\"T_ed510_row1_col6\" class=\"data row1 col6\" >0.5517</td>\n",
       "            </tr>\n",
       "            <tr>\n",
       "                        <th id=\"T_ed510_level0_row2\" class=\"row_heading level0 row2\" >2</th>\n",
       "                        <td id=\"T_ed510_row2_col0\" class=\"data row2 col0\" >0.7856</td>\n",
       "                        <td id=\"T_ed510_row2_col1\" class=\"data row2 col1\" >0.8557</td>\n",
       "                        <td id=\"T_ed510_row2_col2\" class=\"data row2 col2\" >0.7474</td>\n",
       "                        <td id=\"T_ed510_row2_col3\" class=\"data row2 col3\" >0.7510</td>\n",
       "                        <td id=\"T_ed510_row2_col4\" class=\"data row2 col4\" >0.7492</td>\n",
       "                        <td id=\"T_ed510_row2_col5\" class=\"data row2 col5\" >0.5621</td>\n",
       "                        <td id=\"T_ed510_row2_col6\" class=\"data row2 col6\" >0.5621</td>\n",
       "            </tr>\n",
       "            <tr>\n",
       "                        <th id=\"T_ed510_level0_row3\" class=\"row_heading level0 row3\" >3</th>\n",
       "                        <td id=\"T_ed510_row3_col0\" class=\"data row3 col0\" >0.7788</td>\n",
       "                        <td id=\"T_ed510_row3_col1\" class=\"data row3 col1\" >0.8500</td>\n",
       "                        <td id=\"T_ed510_row3_col2\" class=\"data row3 col2\" >0.7421</td>\n",
       "                        <td id=\"T_ed510_row3_col3\" class=\"data row3 col3\" >0.7417</td>\n",
       "                        <td id=\"T_ed510_row3_col4\" class=\"data row3 col4\" >0.7419</td>\n",
       "                        <td id=\"T_ed510_row3_col5\" class=\"data row3 col5\" >0.5483</td>\n",
       "                        <td id=\"T_ed510_row3_col6\" class=\"data row3 col6\" >0.5483</td>\n",
       "            </tr>\n",
       "            <tr>\n",
       "                        <th id=\"T_ed510_level0_row4\" class=\"row_heading level0 row4\" >4</th>\n",
       "                        <td id=\"T_ed510_row4_col0\" class=\"data row4 col0\" >0.7836</td>\n",
       "                        <td id=\"T_ed510_row4_col1\" class=\"data row4 col1\" >0.8515</td>\n",
       "                        <td id=\"T_ed510_row4_col2\" class=\"data row4 col2\" >0.7440</td>\n",
       "                        <td id=\"T_ed510_row4_col3\" class=\"data row4 col3\" >0.7490</td>\n",
       "                        <td id=\"T_ed510_row4_col4\" class=\"data row4 col4\" >0.7465</td>\n",
       "                        <td id=\"T_ed510_row4_col5\" class=\"data row4 col5\" >0.5577</td>\n",
       "                        <td id=\"T_ed510_row4_col6\" class=\"data row4 col6\" >0.5577</td>\n",
       "            </tr>\n",
       "            <tr>\n",
       "                        <th id=\"T_ed510_level0_row5\" class=\"row_heading level0 row5\" >Mean</th>\n",
       "                        <td id=\"T_ed510_row5_col0\" class=\"data row5 col0\" >0.7818</td>\n",
       "                        <td id=\"T_ed510_row5_col1\" class=\"data row5 col1\" >0.8514</td>\n",
       "                        <td id=\"T_ed510_row5_col2\" class=\"data row5 col2\" >0.7432</td>\n",
       "                        <td id=\"T_ed510_row5_col3\" class=\"data row5 col3\" >0.7463</td>\n",
       "                        <td id=\"T_ed510_row5_col4\" class=\"data row5 col4\" >0.7448</td>\n",
       "                        <td id=\"T_ed510_row5_col5\" class=\"data row5 col5\" >0.5542</td>\n",
       "                        <td id=\"T_ed510_row5_col6\" class=\"data row5 col6\" >0.5542</td>\n",
       "            </tr>\n",
       "            <tr>\n",
       "                        <th id=\"T_ed510_level0_row6\" class=\"row_heading level0 row6\" >SD</th>\n",
       "                        <td id=\"T_ed510_row6_col0\" class=\"data row6 col0\" >0.0025</td>\n",
       "                        <td id=\"T_ed510_row6_col1\" class=\"data row6 col1\" >0.0022</td>\n",
       "                        <td id=\"T_ed510_row6_col2\" class=\"data row6 col2\" >0.0029</td>\n",
       "                        <td id=\"T_ed510_row6_col3\" class=\"data row6 col3\" >0.0034</td>\n",
       "                        <td id=\"T_ed510_row6_col4\" class=\"data row6 col4\" >0.0028</td>\n",
       "                        <td id=\"T_ed510_row6_col5\" class=\"data row6 col5\" >0.0050</td>\n",
       "                        <td id=\"T_ed510_row6_col6\" class=\"data row6 col6\" >0.0050</td>\n",
       "            </tr>\n",
       "    </tbody></table>"
      ],
      "text/plain": [
       "<pandas.io.formats.style.Styler at 0x7f1bf4b0d610>"
      ]
     },
     "metadata": {},
     "output_type": "display_data"
    }
   ],
   "source": [
    "calibrated_blended = calibrate_model(blender_soft)"
   ]
  },
  {
   "cell_type": "code",
   "execution_count": 42,
   "id": "juvenile-installation",
   "metadata": {
    "execution": {
     "iopub.execute_input": "2021-04-28T12:46:52.026167Z",
     "iopub.status.busy": "2021-04-28T12:46:52.025496Z",
     "iopub.status.idle": "2021-04-28T12:46:55.249718Z",
     "shell.execute_reply": "2021-04-28T12:46:55.250183Z"
    },
    "papermill": {
     "duration": 3.364418,
     "end_time": "2021-04-28T12:46:55.250363",
     "exception": false,
     "start_time": "2021-04-28T12:46:51.885945",
     "status": "completed"
    },
    "tags": []
   },
   "outputs": [
    {
     "data": {
      "text/html": [
       "<div>\n",
       "<style scoped>\n",
       "    .dataframe tbody tr th:only-of-type {\n",
       "        vertical-align: middle;\n",
       "    }\n",
       "\n",
       "    .dataframe tbody tr th {\n",
       "        vertical-align: top;\n",
       "    }\n",
       "\n",
       "    .dataframe thead th {\n",
       "        text-align: right;\n",
       "    }\n",
       "</style>\n",
       "<table border=\"1\" class=\"dataframe\">\n",
       "  <thead>\n",
       "    <tr style=\"text-align: right;\">\n",
       "      <th></th>\n",
       "      <th>Age</th>\n",
       "      <th>SibSp</th>\n",
       "      <th>Fare</th>\n",
       "      <th>Name</th>\n",
       "      <th>Ticket</th>\n",
       "      <th>Sex</th>\n",
       "      <th>Pclass</th>\n",
       "      <th>Embarked</th>\n",
       "      <th>Cabin_A</th>\n",
       "      <th>Cabin_B</th>\n",
       "      <th>Cabin_C</th>\n",
       "      <th>Cabin_D</th>\n",
       "      <th>Cabin_E</th>\n",
       "      <th>Cabin_F</th>\n",
       "      <th>Cabin_G</th>\n",
       "      <th>Cabin_T</th>\n",
       "      <th>Cabin_X</th>\n",
       "      <th>Label</th>\n",
       "      <th>Score</th>\n",
       "    </tr>\n",
       "  </thead>\n",
       "  <tbody>\n",
       "    <tr>\n",
       "      <th>100000</th>\n",
       "      <td>-0.937422</td>\n",
       "      <td>-0.539572</td>\n",
       "      <td>0.949786</td>\n",
       "      <td>10830</td>\n",
       "      <td>49</td>\n",
       "      <td>1</td>\n",
       "      <td>2</td>\n",
       "      <td>2</td>\n",
       "      <td>0</td>\n",
       "      <td>0</td>\n",
       "      <td>0</td>\n",
       "      <td>0</td>\n",
       "      <td>0</td>\n",
       "      <td>0</td>\n",
       "      <td>0</td>\n",
       "      <td>0</td>\n",
       "      <td>1</td>\n",
       "      <td>0.0</td>\n",
       "      <td>0.8790</td>\n",
       "    </tr>\n",
       "    <tr>\n",
       "      <th>100001</th>\n",
       "      <td>1.123570</td>\n",
       "      <td>-0.539572</td>\n",
       "      <td>-1.273379</td>\n",
       "      <td>17134</td>\n",
       "      <td>49</td>\n",
       "      <td>0</td>\n",
       "      <td>2</td>\n",
       "      <td>2</td>\n",
       "      <td>0</td>\n",
       "      <td>0</td>\n",
       "      <td>0</td>\n",
       "      <td>0</td>\n",
       "      <td>0</td>\n",
       "      <td>0</td>\n",
       "      <td>0</td>\n",
       "      <td>0</td>\n",
       "      <td>1</td>\n",
       "      <td>1.0</td>\n",
       "      <td>0.5172</td>\n",
       "    </tr>\n",
       "    <tr>\n",
       "      <th>100002</th>\n",
       "      <td>-0.937422</td>\n",
       "      <td>-0.539572</td>\n",
       "      <td>0.481059</td>\n",
       "      <td>9978</td>\n",
       "      <td>49</td>\n",
       "      <td>0</td>\n",
       "      <td>0</td>\n",
       "      <td>0</td>\n",
       "      <td>0</td>\n",
       "      <td>1</td>\n",
       "      <td>0</td>\n",
       "      <td>0</td>\n",
       "      <td>0</td>\n",
       "      <td>0</td>\n",
       "      <td>0</td>\n",
       "      <td>0</td>\n",
       "      <td>0</td>\n",
       "      <td>1.0</td>\n",
       "      <td>0.8624</td>\n",
       "    </tr>\n",
       "    <tr>\n",
       "      <th>100003</th>\n",
       "      <td>-0.573717</td>\n",
       "      <td>-0.539572</td>\n",
       "      <td>-0.563310</td>\n",
       "      <td>13303</td>\n",
       "      <td>49</td>\n",
       "      <td>1</td>\n",
       "      <td>1</td>\n",
       "      <td>2</td>\n",
       "      <td>0</td>\n",
       "      <td>0</td>\n",
       "      <td>0</td>\n",
       "      <td>0</td>\n",
       "      <td>0</td>\n",
       "      <td>0</td>\n",
       "      <td>0</td>\n",
       "      <td>0</td>\n",
       "      <td>1</td>\n",
       "      <td>0.0</td>\n",
       "      <td>0.8092</td>\n",
       "    </tr>\n",
       "    <tr>\n",
       "      <th>100004</th>\n",
       "      <td>-1.058657</td>\n",
       "      <td>-0.539572</td>\n",
       "      <td>0.125497</td>\n",
       "      <td>4406</td>\n",
       "      <td>49</td>\n",
       "      <td>0</td>\n",
       "      <td>0</td>\n",
       "      <td>0</td>\n",
       "      <td>0</td>\n",
       "      <td>1</td>\n",
       "      <td>0</td>\n",
       "      <td>0</td>\n",
       "      <td>0</td>\n",
       "      <td>0</td>\n",
       "      <td>0</td>\n",
       "      <td>0</td>\n",
       "      <td>0</td>\n",
       "      <td>1.0</td>\n",
       "      <td>0.8384</td>\n",
       "    </tr>\n",
       "  </tbody>\n",
       "</table>\n",
       "</div>"
      ],
      "text/plain": [
       "             Age     SibSp      Fare   Name  Ticket  Sex  Pclass  Embarked  \\\n",
       "100000 -0.937422 -0.539572  0.949786  10830      49    1       2         2   \n",
       "100001  1.123570 -0.539572 -1.273379  17134      49    0       2         2   \n",
       "100002 -0.937422 -0.539572  0.481059   9978      49    0       0         0   \n",
       "100003 -0.573717 -0.539572 -0.563310  13303      49    1       1         2   \n",
       "100004 -1.058657 -0.539572  0.125497   4406      49    0       0         0   \n",
       "\n",
       "        Cabin_A  Cabin_B  Cabin_C  Cabin_D  Cabin_E  Cabin_F  Cabin_G  \\\n",
       "100000        0        0        0        0        0        0        0   \n",
       "100001        0        0        0        0        0        0        0   \n",
       "100002        0        1        0        0        0        0        0   \n",
       "100003        0        0        0        0        0        0        0   \n",
       "100004        0        1        0        0        0        0        0   \n",
       "\n",
       "        Cabin_T  Cabin_X Label   Score  \n",
       "100000        0        1   0.0  0.8790  \n",
       "100001        0        1   1.0  0.5172  \n",
       "100002        0        0   1.0  0.8624  \n",
       "100003        0        1   0.0  0.8092  \n",
       "100004        0        0   1.0  0.8384  "
      ]
     },
     "execution_count": 42,
     "metadata": {},
     "output_type": "execute_result"
    }
   ],
   "source": [
    "predictions = predict_model(calibrated_blended, data = X_test)\n",
    "predictions.head()"
   ]
  },
  {
   "cell_type": "code",
   "execution_count": 43,
   "id": "latter-feedback",
   "metadata": {
    "execution": {
     "iopub.execute_input": "2021-04-28T12:46:55.509490Z",
     "iopub.status.busy": "2021-04-28T12:46:55.508551Z",
     "iopub.status.idle": "2021-04-28T12:46:55.512342Z",
     "shell.execute_reply": "2021-04-28T12:46:55.513438Z"
    },
    "papermill": {
     "duration": 0.137415,
     "end_time": "2021-04-28T12:46:55.513641",
     "exception": false,
     "start_time": "2021-04-28T12:46:55.376226",
     "status": "completed"
    },
    "tags": []
   },
   "outputs": [
    {
     "data": {
      "text/plain": [
       "100000    0.0\n",
       "100001    1.0\n",
       "100002    1.0\n",
       "100003    0.0\n",
       "100004    1.0\n",
       "         ... \n",
       "199995    1.0\n",
       "199996    0.0\n",
       "199997    0.0\n",
       "199998    1.0\n",
       "199999    1.0\n",
       "Name: Label, Length: 100000, dtype: object"
      ]
     },
     "execution_count": 43,
     "metadata": {},
     "output_type": "execute_result"
    }
   ],
   "source": [
    "predictions['Label']"
   ]
  },
  {
   "cell_type": "code",
   "execution_count": 44,
   "id": "serious-sixth",
   "metadata": {
    "execution": {
     "iopub.execute_input": "2021-04-28T12:46:55.770067Z",
     "iopub.status.busy": "2021-04-28T12:46:55.769345Z",
     "iopub.status.idle": "2021-04-28T12:46:55.772177Z",
     "shell.execute_reply": "2021-04-28T12:46:55.771512Z"
    },
    "papermill": {
     "duration": 0.133598,
     "end_time": "2021-04-28T12:46:55.772326",
     "exception": false,
     "start_time": "2021-04-28T12:46:55.638728",
     "status": "completed"
    },
    "tags": []
   },
   "outputs": [],
   "source": [
    "# submission = pd.DataFrame(\n",
    "#     {\n",
    "#         'PassengerId': test_df[\"PassengerId\"], \n",
    "#         'Survived': predictions['Label'],\n",
    "#     })"
   ]
  },
  {
   "cell_type": "code",
   "execution_count": 45,
   "id": "comparable-fancy",
   "metadata": {
    "execution": {
     "iopub.execute_input": "2021-04-28T12:46:56.036064Z",
     "iopub.status.busy": "2021-04-28T12:46:56.035364Z",
     "iopub.status.idle": "2021-04-28T12:46:56.039007Z",
     "shell.execute_reply": "2021-04-28T12:46:56.039591Z"
    },
    "papermill": {
     "duration": 0.14063,
     "end_time": "2021-04-28T12:46:56.039784",
     "exception": false,
     "start_time": "2021-04-28T12:46:55.899154",
     "status": "completed"
    },
    "tags": []
   },
   "outputs": [
    {
     "name": "stdout",
     "output_type": "stream",
     "text": [
      "       PassengerId  Survived\n",
      "0           100000         1\n",
      "1           100001         1\n",
      "2           100002         1\n",
      "3           100003         1\n",
      "4           100004         1\n",
      "...            ...       ...\n",
      "99995       199995         1\n",
      "99996       199996         1\n",
      "99997       199997         1\n",
      "99998       199998         1\n",
      "99999       199999         1\n",
      "\n",
      "[100000 rows x 2 columns]\n"
     ]
    }
   ],
   "source": [
    "print(submission)"
   ]
  },
  {
   "cell_type": "code",
   "execution_count": 46,
   "id": "excess-defeat",
   "metadata": {
    "execution": {
     "iopub.execute_input": "2021-04-28T12:46:56.302140Z",
     "iopub.status.busy": "2021-04-28T12:46:56.301424Z",
     "iopub.status.idle": "2021-04-28T12:46:58.837434Z",
     "shell.execute_reply": "2021-04-28T12:46:58.838247Z"
    },
    "papermill": {
     "duration": 2.670304,
     "end_time": "2021-04-28T12:46:58.838476",
     "exception": false,
     "start_time": "2021-04-28T12:46:56.168172",
     "status": "completed"
    },
    "tags": []
   },
   "outputs": [
    {
     "name": "stdout",
     "output_type": "stream",
     "text": [
      "100000    0\n",
      "100001    1\n",
      "100002    1\n",
      "100003    0\n",
      "100004    1\n",
      "         ..\n",
      "199995    1\n",
      "199996    0\n",
      "199997    0\n",
      "199998    1\n",
      "199999    1\n",
      "Name: Label, Length: 100000, dtype: int64\n"
     ]
    }
   ],
   "source": [
    "#predictions['Label']=predictions['Label'].replace(float(0.0),int(0)).astype(np.int64)\n",
    "#temp_predictions['Label']=predictions['Label'].map(lambda x: int(0) if x==(np.float(0.0)) else np.int(1))\n",
    "#temp_predictions=pd.DataFrame(map(np.int,predictions['Label']))\n",
    "temp_predictions=predictions['Label'].apply(pd.to_numeric).astype(int)\n",
    "\n",
    "print(temp_predictions)"
   ]
  },
  {
   "cell_type": "code",
   "execution_count": 47,
   "id": "weighted-genealogy",
   "metadata": {
    "execution": {
     "iopub.execute_input": "2021-04-28T12:46:59.107158Z",
     "iopub.status.busy": "2021-04-28T12:46:59.106457Z",
     "iopub.status.idle": "2021-04-28T12:46:59.111004Z",
     "shell.execute_reply": "2021-04-28T12:46:59.109717Z"
    },
    "papermill": {
     "duration": 0.141812,
     "end_time": "2021-04-28T12:46:59.111171",
     "exception": false,
     "start_time": "2021-04-28T12:46:58.969359",
     "status": "completed"
    },
    "tags": []
   },
   "outputs": [
    {
     "name": "stdout",
     "output_type": "stream",
     "text": [
      "0        0\n",
      "1        1\n",
      "2        1\n",
      "3        0\n",
      "4        1\n",
      "        ..\n",
      "99995    1\n",
      "99996    0\n",
      "99997    0\n",
      "99998    1\n",
      "99999    1\n",
      "Name: Label, Length: 100000, dtype: int64\n"
     ]
    }
   ],
   "source": [
    "temp=temp_predictions.reset_index(drop=True)\n",
    "#\n",
    "\n",
    "print(temp)\n"
   ]
  },
  {
   "cell_type": "code",
   "execution_count": 48,
   "id": "british-simple",
   "metadata": {
    "execution": {
     "iopub.execute_input": "2021-04-28T12:46:59.376928Z",
     "iopub.status.busy": "2021-04-28T12:46:59.376221Z",
     "iopub.status.idle": "2021-04-28T12:46:59.385975Z",
     "shell.execute_reply": "2021-04-28T12:46:59.384689Z"
    },
    "papermill": {
     "duration": 0.145476,
     "end_time": "2021-04-28T12:46:59.386137",
     "exception": false,
     "start_time": "2021-04-28T12:46:59.240661",
     "status": "completed"
    },
    "tags": []
   },
   "outputs": [
    {
     "name": "stdout",
     "output_type": "stream",
     "text": [
      "       PassengerId  Survived\n",
      "0           100000         0\n",
      "1           100001         1\n",
      "2           100002         1\n",
      "3           100003         0\n",
      "4           100004         1\n",
      "...            ...       ...\n",
      "99995       199995         1\n",
      "99996       199996         0\n",
      "99997       199997         0\n",
      "99998       199998         1\n",
      "99999       199999         1\n",
      "\n",
      "[100000 rows x 2 columns]\n"
     ]
    }
   ],
   "source": [
    "submission['Survived'] = temp\n",
    "print(submission)"
   ]
  },
  {
   "cell_type": "code",
   "execution_count": 49,
   "id": "nonprofit-advertising",
   "metadata": {
    "execution": {
     "iopub.execute_input": "2021-04-28T12:46:59.651605Z",
     "iopub.status.busy": "2021-04-28T12:46:59.650935Z",
     "iopub.status.idle": "2021-04-28T12:46:59.844892Z",
     "shell.execute_reply": "2021-04-28T12:46:59.844122Z"
    },
    "papermill": {
     "duration": 0.328527,
     "end_time": "2021-04-28T12:46:59.845051",
     "exception": false,
     "start_time": "2021-04-28T12:46:59.516524",
     "status": "completed"
    },
    "tags": []
   },
   "outputs": [],
   "source": [
    "#submission['Survived'].astype(int)\n",
    "submission.to_csv(f'pycaret_blend_submission_final.csv',index=False)"
   ]
  },
  {
   "cell_type": "code",
   "execution_count": null,
   "id": "several-produce",
   "metadata": {
    "papermill": {
     "duration": 0.132202,
     "end_time": "2021-04-28T12:47:00.106843",
     "exception": false,
     "start_time": "2021-04-28T12:46:59.974641",
     "status": "completed"
    },
    "tags": []
   },
   "outputs": [],
   "source": []
  },
  {
   "cell_type": "markdown",
   "id": "surrounded-toolbox",
   "metadata": {
    "papermill": {
     "duration": 0.128814,
     "end_time": "2021-04-28T12:47:00.365861",
     "exception": false,
     "start_time": "2021-04-28T12:47:00.237047",
     "status": "completed"
    },
    "tags": []
   },
   "source": [
    "## Hard voting\n"
   ]
  },
  {
   "cell_type": "code",
   "execution_count": 50,
   "id": "complex-louis",
   "metadata": {
    "execution": {
     "iopub.execute_input": "2021-04-28T12:47:00.626693Z",
     "iopub.status.busy": "2021-04-28T12:47:00.625662Z",
     "iopub.status.idle": "2021-04-28T12:47:00.628942Z",
     "shell.execute_reply": "2021-04-28T12:47:00.628308Z"
    },
    "papermill": {
     "duration": 0.135081,
     "end_time": "2021-04-28T12:47:00.629088",
     "exception": false,
     "start_time": "2021-04-28T12:47:00.494007",
     "status": "completed"
    },
    "tags": []
   },
   "outputs": [],
   "source": [
    "# train_oof=np.zeros((100000,))\n",
    "# train_oof=np.where()\n"
   ]
  },
  {
   "cell_type": "markdown",
   "id": "animated-pixel",
   "metadata": {
    "papermill": {
     "duration": 0.127747,
     "end_time": "2021-04-28T12:47:00.884639",
     "exception": false,
     "start_time": "2021-04-28T12:47:00.756892",
     "status": "completed"
    },
    "tags": []
   },
   "source": [
    "## Soft Voting "
   ]
  },
  {
   "cell_type": "code",
   "execution_count": 51,
   "id": "english-hunter",
   "metadata": {
    "execution": {
     "iopub.execute_input": "2021-04-28T12:47:01.203359Z",
     "iopub.status.busy": "2021-04-28T12:47:01.202640Z",
     "iopub.status.idle": "2021-04-28T12:47:01.206151Z",
     "shell.execute_reply": "2021-04-28T12:47:01.205645Z"
    },
    "papermill": {
     "duration": 0.137772,
     "end_time": "2021-04-28T12:47:01.206301",
     "exception": false,
     "start_time": "2021-04-28T12:47:01.068529",
     "status": "completed"
    },
    "tags": []
   },
   "outputs": [],
   "source": [
    "# def create_submission(model, test, test_passenger_id, model_name):\n",
    "#     y_pred_test = model.predict_proba(test)[:, 1]\n",
    "#     submission = pd.DataFrame(\n",
    "#         {\n",
    "#             'PassengerId': test_passenger_id, \n",
    "#             'Survived': (y_pred_test >= 0.5).astype(int),\n",
    "#         }\n",
    "#     )\n",
    "#     submission.to_csv(f\"submission_{model_name}.csv\", index=False)\n",
    "    \n",
    "#     return y_pred_test"
   ]
  },
  {
   "cell_type": "code",
   "execution_count": 52,
   "id": "desirable-lingerie",
   "metadata": {
    "execution": {
     "iopub.execute_input": "2021-04-28T12:47:01.468201Z",
     "iopub.status.busy": "2021-04-28T12:47:01.467340Z",
     "iopub.status.idle": "2021-04-28T12:47:01.470344Z",
     "shell.execute_reply": "2021-04-28T12:47:01.469685Z"
    },
    "papermill": {
     "duration": 0.135933,
     "end_time": "2021-04-28T12:47:01.470479",
     "exception": false,
     "start_time": "2021-04-28T12:47:01.334546",
     "status": "completed"
    },
    "tags": []
   },
   "outputs": [],
   "source": [
    "# test_pred_lightgbm = create_submission(\n",
    "#     lightgbm, X_test, test_df[\"PassengerId\"], \"lightgbm\"\n",
    "# )\n",
    "# # test_pred_ada = create_submission(\n",
    "# #     ada, X_test, test_df[\"PassengerId\"], \"ada\"\n",
    "# # )\n",
    "# test_pred_gbc = create_submission(\n",
    "#      gbc, X_test, test_df[\"PassengerId\"], \"gbc\"\n",
    "# )\n",
    "# test_pred_catboost = create_submission(\n",
    "#     catboost, X_test, test_df[\"PassengerId\"], \"catboost\"\n",
    "# )"
   ]
  },
  {
   "cell_type": "code",
   "execution_count": null,
   "id": "piano-chuck",
   "metadata": {
    "papermill": {
     "duration": 0.130078,
     "end_time": "2021-04-28T12:47:01.729574",
     "exception": false,
     "start_time": "2021-04-28T12:47:01.599496",
     "status": "completed"
    },
    "tags": []
   },
   "outputs": [],
   "source": []
  },
  {
   "cell_type": "code",
   "execution_count": 53,
   "id": "golden-honolulu",
   "metadata": {
    "execution": {
     "iopub.execute_input": "2021-04-28T12:47:01.996414Z",
     "iopub.status.busy": "2021-04-28T12:47:01.995433Z",
     "iopub.status.idle": "2021-04-28T12:47:01.998698Z",
     "shell.execute_reply": "2021-04-28T12:47:01.998145Z"
    },
    "papermill": {
     "duration": 0.139939,
     "end_time": "2021-04-28T12:47:01.998843",
     "exception": false,
     "start_time": "2021-04-28T12:47:01.858904",
     "status": "completed"
    },
    "tags": []
   },
   "outputs": [],
   "source": [
    "# test_pred_merged = (\n",
    "\n",
    "#     test_pred_lightgbm + \n",
    "#     test_pred_catboost+\n",
    "# #     test_pred_ada +\n",
    "#      test_pred_gbc\n",
    "# )\n",
    "\n",
    "# test_pred_merged = np.round(test_pred_merged / 3)\n"
   ]
  },
  {
   "cell_type": "code",
   "execution_count": 54,
   "id": "invalid-focus",
   "metadata": {
    "execution": {
     "iopub.execute_input": "2021-04-28T12:47:02.264693Z",
     "iopub.status.busy": "2021-04-28T12:47:02.263697Z",
     "iopub.status.idle": "2021-04-28T12:47:02.267036Z",
     "shell.execute_reply": "2021-04-28T12:47:02.266356Z"
    },
    "papermill": {
     "duration": 0.136801,
     "end_time": "2021-04-28T12:47:02.267182",
     "exception": false,
     "start_time": "2021-04-28T12:47:02.130381",
     "status": "completed"
    },
    "tags": []
   },
   "outputs": [],
   "source": [
    "# submission = pd.DataFrame(\n",
    "#     {\n",
    "#         'PassengerId': test_df[\"PassengerId\"], \n",
    "#         'Survived': test_pred_merged.astype(int),\n",
    "#     })\n",
    "    \n",
    "\n",
    "# submission.to_csv(f\"submission_merged.csv\", index=False)"
   ]
  },
  {
   "cell_type": "code",
   "execution_count": null,
   "id": "unavailable-devon",
   "metadata": {
    "papermill": {
     "duration": 0.127841,
     "end_time": "2021-04-28T12:47:02.523504",
     "exception": false,
     "start_time": "2021-04-28T12:47:02.395663",
     "status": "completed"
    },
    "tags": []
   },
   "outputs": [],
   "source": []
  },
  {
   "cell_type": "code",
   "execution_count": null,
   "id": "structured-plane",
   "metadata": {
    "papermill": {
     "duration": 0.128469,
     "end_time": "2021-04-28T12:47:02.780258",
     "exception": false,
     "start_time": "2021-04-28T12:47:02.651789",
     "status": "completed"
    },
    "tags": []
   },
   "outputs": [],
   "source": []
  },
  {
   "cell_type": "code",
   "execution_count": null,
   "id": "tough-nashville",
   "metadata": {
    "papermill": {
     "duration": 0.129917,
     "end_time": "2021-04-28T12:47:03.039685",
     "exception": false,
     "start_time": "2021-04-28T12:47:02.909768",
     "status": "completed"
    },
    "tags": []
   },
   "outputs": [],
   "source": []
  }
 ],
 "metadata": {
  "kernelspec": {
   "display_name": "Python 3",
   "language": "python",
   "name": "python3"
  },
  "language_info": {
   "codemirror_mode": {
    "name": "ipython",
    "version": 3
   },
   "file_extension": ".py",
   "mimetype": "text/x-python",
   "name": "python",
   "nbconvert_exporter": "python",
   "pygments_lexer": "ipython3",
   "version": "3.7.9"
  },
  "papermill": {
   "default_parameters": {},
   "duration": 877.812132,
   "end_time": "2021-04-28T12:47:04.587113",
   "environment_variables": {},
   "exception": null,
   "input_path": "__notebook__.ipynb",
   "output_path": "__notebook__.ipynb",
   "parameters": {},
   "start_time": "2021-04-28T12:32:26.774981",
   "version": "2.3.2"
  },
  "widgets": {
   "application/vnd.jupyter.widget-state+json": {
    "state": {
     "02bda0a0c9584fd08e268bf89be26ac9": {
      "model_module": "@jupyter-widgets/controls",
      "model_module_version": "1.5.0",
      "model_name": "ProgressStyleModel",
      "state": {
       "_model_module": "@jupyter-widgets/controls",
       "_model_module_version": "1.5.0",
       "_model_name": "ProgressStyleModel",
       "_view_count": null,
       "_view_module": "@jupyter-widgets/base",
       "_view_module_version": "1.2.0",
       "_view_name": "StyleView",
       "bar_color": null,
       "description_width": ""
      }
     },
     "14361119826d4577a9912f6dcf77784d": {
      "model_module": "@jupyter-widgets/controls",
      "model_module_version": "1.5.0",
      "model_name": "ProgressStyleModel",
      "state": {
       "_model_module": "@jupyter-widgets/controls",
       "_model_module_version": "1.5.0",
       "_model_name": "ProgressStyleModel",
       "_view_count": null,
       "_view_module": "@jupyter-widgets/base",
       "_view_module_version": "1.2.0",
       "_view_name": "StyleView",
       "bar_color": null,
       "description_width": ""
      }
     },
     "2071ce06bc204cf2b9d37afa019acbcb": {
      "model_module": "@jupyter-widgets/controls",
      "model_module_version": "1.5.0",
      "model_name": "ProgressStyleModel",
      "state": {
       "_model_module": "@jupyter-widgets/controls",
       "_model_module_version": "1.5.0",
       "_model_name": "ProgressStyleModel",
       "_view_count": null,
       "_view_module": "@jupyter-widgets/base",
       "_view_module_version": "1.2.0",
       "_view_name": "StyleView",
       "bar_color": null,
       "description_width": ""
      }
     },
     "247e6fa160f84f999b9a2368e0a2d438": {
      "model_module": "@jupyter-widgets/controls",
      "model_module_version": "1.5.0",
      "model_name": "IntProgressModel",
      "state": {
       "_dom_classes": [],
       "_model_module": "@jupyter-widgets/controls",
       "_model_module_version": "1.5.0",
       "_model_name": "IntProgressModel",
       "_view_count": null,
       "_view_module": "@jupyter-widgets/controls",
       "_view_module_version": "1.5.0",
       "_view_name": "ProgressView",
       "bar_style": "",
       "description": "Processing: ",
       "description_tooltip": null,
       "layout": "IPY_MODEL_589986c5e66548b1a77d70ddc877cb07",
       "max": 6,
       "min": 0,
       "orientation": "horizontal",
       "style": "IPY_MODEL_28b60a68ed424993a7e65fce6e532733",
       "value": 6
      }
     },
     "28b60a68ed424993a7e65fce6e532733": {
      "model_module": "@jupyter-widgets/controls",
      "model_module_version": "1.5.0",
      "model_name": "ProgressStyleModel",
      "state": {
       "_model_module": "@jupyter-widgets/controls",
       "_model_module_version": "1.5.0",
       "_model_name": "ProgressStyleModel",
       "_view_count": null,
       "_view_module": "@jupyter-widgets/base",
       "_view_module_version": "1.2.0",
       "_view_name": "StyleView",
       "bar_color": null,
       "description_width": ""
      }
     },
     "3ca81dab160a4845b4fec72d3a3ec00a": {
      "model_module": "@jupyter-widgets/controls",
      "model_module_version": "1.5.0",
      "model_name": "ProgressStyleModel",
      "state": {
       "_model_module": "@jupyter-widgets/controls",
       "_model_module_version": "1.5.0",
       "_model_name": "ProgressStyleModel",
       "_view_count": null,
       "_view_module": "@jupyter-widgets/base",
       "_view_module_version": "1.2.0",
       "_view_name": "StyleView",
       "bar_color": null,
       "description_width": ""
      }
     },
     "3e84bf9673b84956a582499814d1db40": {
      "model_module": "@jupyter-widgets/base",
      "model_module_version": "1.2.0",
      "model_name": "LayoutModel",
      "state": {
       "_model_module": "@jupyter-widgets/base",
       "_model_module_version": "1.2.0",
       "_model_name": "LayoutModel",
       "_view_count": null,
       "_view_module": "@jupyter-widgets/base",
       "_view_module_version": "1.2.0",
       "_view_name": "LayoutView",
       "align_content": null,
       "align_items": null,
       "align_self": null,
       "border": null,
       "bottom": null,
       "display": null,
       "flex": null,
       "flex_flow": null,
       "grid_area": null,
       "grid_auto_columns": null,
       "grid_auto_flow": null,
       "grid_auto_rows": null,
       "grid_column": null,
       "grid_gap": null,
       "grid_row": null,
       "grid_template_areas": null,
       "grid_template_columns": null,
       "grid_template_rows": null,
       "height": null,
       "justify_content": null,
       "justify_items": null,
       "left": null,
       "margin": null,
       "max_height": null,
       "max_width": null,
       "min_height": null,
       "min_width": null,
       "object_fit": null,
       "object_position": null,
       "order": null,
       "overflow": null,
       "overflow_x": null,
       "overflow_y": null,
       "padding": null,
       "right": null,
       "top": null,
       "visibility": null,
       "width": null
      }
     },
     "589986c5e66548b1a77d70ddc877cb07": {
      "model_module": "@jupyter-widgets/base",
      "model_module_version": "1.2.0",
      "model_name": "LayoutModel",
      "state": {
       "_model_module": "@jupyter-widgets/base",
       "_model_module_version": "1.2.0",
       "_model_name": "LayoutModel",
       "_view_count": null,
       "_view_module": "@jupyter-widgets/base",
       "_view_module_version": "1.2.0",
       "_view_name": "LayoutView",
       "align_content": null,
       "align_items": null,
       "align_self": null,
       "border": null,
       "bottom": null,
       "display": null,
       "flex": null,
       "flex_flow": null,
       "grid_area": null,
       "grid_auto_columns": null,
       "grid_auto_flow": null,
       "grid_auto_rows": null,
       "grid_column": null,
       "grid_gap": null,
       "grid_row": null,
       "grid_template_areas": null,
       "grid_template_columns": null,
       "grid_template_rows": null,
       "height": null,
       "justify_content": null,
       "justify_items": null,
       "left": null,
       "margin": null,
       "max_height": null,
       "max_width": null,
       "min_height": null,
       "min_width": null,
       "object_fit": null,
       "object_position": null,
       "order": null,
       "overflow": null,
       "overflow_x": null,
       "overflow_y": null,
       "padding": null,
       "right": null,
       "top": null,
       "visibility": null,
       "width": null
      }
     },
     "6a942eaad08445569d21ad371394538a": {
      "model_module": "@jupyter-widgets/controls",
      "model_module_version": "1.5.0",
      "model_name": "IntProgressModel",
      "state": {
       "_dom_classes": [],
       "_model_module": "@jupyter-widgets/controls",
       "_model_module_version": "1.5.0",
       "_model_name": "IntProgressModel",
       "_view_count": null,
       "_view_module": "@jupyter-widgets/controls",
       "_view_module_version": "1.5.0",
       "_view_name": "ProgressView",
       "bar_style": "",
       "description": "Processing: ",
       "description_tooltip": null,
       "layout": "IPY_MODEL_fbeb70837cfc4bb7ae84621189341782",
       "max": 6,
       "min": 0,
       "orientation": "horizontal",
       "style": "IPY_MODEL_02bda0a0c9584fd08e268bf89be26ac9",
       "value": 6
      }
     },
     "73fcdfb5ca114b988cafd9a51cd36f82": {
      "model_module": "@jupyter-widgets/controls",
      "model_module_version": "1.5.0",
      "model_name": "ProgressStyleModel",
      "state": {
       "_model_module": "@jupyter-widgets/controls",
       "_model_module_version": "1.5.0",
       "_model_name": "ProgressStyleModel",
       "_view_count": null,
       "_view_module": "@jupyter-widgets/base",
       "_view_module_version": "1.2.0",
       "_view_name": "StyleView",
       "bar_color": null,
       "description_width": ""
      }
     },
     "75bc2317bcb84b04a5bd5622ee12387d": {
      "model_module": "@jupyter-widgets/controls",
      "model_module_version": "1.5.0",
      "model_name": "IntProgressModel",
      "state": {
       "_dom_classes": [],
       "_model_module": "@jupyter-widgets/controls",
       "_model_module_version": "1.5.0",
       "_model_name": "IntProgressModel",
       "_view_count": null,
       "_view_module": "@jupyter-widgets/controls",
       "_view_module_version": "1.5.0",
       "_view_name": "ProgressView",
       "bar_style": "",
       "description": "Processing: ",
       "description_tooltip": null,
       "layout": "IPY_MODEL_ad5f6f87493d4b1d8abf88f4b96aff6d",
       "max": 4,
       "min": 0,
       "orientation": "horizontal",
       "style": "IPY_MODEL_3ca81dab160a4845b4fec72d3a3ec00a",
       "value": 4
      }
     },
     "ad5f6f87493d4b1d8abf88f4b96aff6d": {
      "model_module": "@jupyter-widgets/base",
      "model_module_version": "1.2.0",
      "model_name": "LayoutModel",
      "state": {
       "_model_module": "@jupyter-widgets/base",
       "_model_module_version": "1.2.0",
       "_model_name": "LayoutModel",
       "_view_count": null,
       "_view_module": "@jupyter-widgets/base",
       "_view_module_version": "1.2.0",
       "_view_name": "LayoutView",
       "align_content": null,
       "align_items": null,
       "align_self": null,
       "border": null,
       "bottom": null,
       "display": null,
       "flex": null,
       "flex_flow": null,
       "grid_area": null,
       "grid_auto_columns": null,
       "grid_auto_flow": null,
       "grid_auto_rows": null,
       "grid_column": null,
       "grid_gap": null,
       "grid_row": null,
       "grid_template_areas": null,
       "grid_template_columns": null,
       "grid_template_rows": null,
       "height": null,
       "justify_content": null,
       "justify_items": null,
       "left": null,
       "margin": null,
       "max_height": null,
       "max_width": null,
       "min_height": null,
       "min_width": null,
       "object_fit": null,
       "object_position": null,
       "order": null,
       "overflow": null,
       "overflow_x": null,
       "overflow_y": null,
       "padding": null,
       "right": null,
       "top": null,
       "visibility": null,
       "width": null
      }
     },
     "dd5041d11b1f42fb9fe2dec74bc51f00": {
      "model_module": "@jupyter-widgets/base",
      "model_module_version": "1.2.0",
      "model_name": "LayoutModel",
      "state": {
       "_model_module": "@jupyter-widgets/base",
       "_model_module_version": "1.2.0",
       "_model_name": "LayoutModel",
       "_view_count": null,
       "_view_module": "@jupyter-widgets/base",
       "_view_module_version": "1.2.0",
       "_view_name": "LayoutView",
       "align_content": null,
       "align_items": null,
       "align_self": null,
       "border": null,
       "bottom": null,
       "display": null,
       "flex": null,
       "flex_flow": null,
       "grid_area": null,
       "grid_auto_columns": null,
       "grid_auto_flow": null,
       "grid_auto_rows": null,
       "grid_column": null,
       "grid_gap": null,
       "grid_row": null,
       "grid_template_areas": null,
       "grid_template_columns": null,
       "grid_template_rows": null,
       "height": null,
       "justify_content": null,
       "justify_items": null,
       "left": null,
       "margin": null,
       "max_height": null,
       "max_width": null,
       "min_height": null,
       "min_width": null,
       "object_fit": null,
       "object_position": null,
       "order": null,
       "overflow": null,
       "overflow_x": null,
       "overflow_y": null,
       "padding": null,
       "right": null,
       "top": null,
       "visibility": null,
       "width": null
      }
     },
     "df5c89990c764e0b909f9ed1113703fe": {
      "model_module": "@jupyter-widgets/base",
      "model_module_version": "1.2.0",
      "model_name": "LayoutModel",
      "state": {
       "_model_module": "@jupyter-widgets/base",
       "_model_module_version": "1.2.0",
       "_model_name": "LayoutModel",
       "_view_count": null,
       "_view_module": "@jupyter-widgets/base",
       "_view_module_version": "1.2.0",
       "_view_name": "LayoutView",
       "align_content": null,
       "align_items": null,
       "align_self": null,
       "border": null,
       "bottom": null,
       "display": null,
       "flex": null,
       "flex_flow": null,
       "grid_area": null,
       "grid_auto_columns": null,
       "grid_auto_flow": null,
       "grid_auto_rows": null,
       "grid_column": null,
       "grid_gap": null,
       "grid_row": null,
       "grid_template_areas": null,
       "grid_template_columns": null,
       "grid_template_rows": null,
       "height": null,
       "justify_content": null,
       "justify_items": null,
       "left": null,
       "margin": null,
       "max_height": null,
       "max_width": null,
       "min_height": null,
       "min_width": null,
       "object_fit": null,
       "object_position": null,
       "order": null,
       "overflow": null,
       "overflow_x": null,
       "overflow_y": null,
       "padding": null,
       "right": null,
       "top": null,
       "visibility": null,
       "width": null
      }
     },
     "e6175695f63644ea83c3f6a67964904e": {
      "model_module": "@jupyter-widgets/controls",
      "model_module_version": "1.5.0",
      "model_name": "IntProgressModel",
      "state": {
       "_dom_classes": [],
       "_model_module": "@jupyter-widgets/controls",
       "_model_module_version": "1.5.0",
       "_model_name": "IntProgressModel",
       "_view_count": null,
       "_view_module": "@jupyter-widgets/controls",
       "_view_module_version": "1.5.0",
       "_view_name": "ProgressView",
       "bar_style": "",
       "description": "Processing: ",
       "description_tooltip": null,
       "layout": "IPY_MODEL_3e84bf9673b84956a582499814d1db40",
       "max": 6,
       "min": 0,
       "orientation": "horizontal",
       "style": "IPY_MODEL_73fcdfb5ca114b988cafd9a51cd36f82",
       "value": 6
      }
     },
     "f37b740e38824e8e8f56e2c0ada1985c": {
      "model_module": "@jupyter-widgets/controls",
      "model_module_version": "1.5.0",
      "model_name": "IntProgressModel",
      "state": {
       "_dom_classes": [],
       "_model_module": "@jupyter-widgets/controls",
       "_model_module_version": "1.5.0",
       "_model_name": "IntProgressModel",
       "_view_count": null,
       "_view_module": "@jupyter-widgets/controls",
       "_view_module_version": "1.5.0",
       "_view_name": "ProgressView",
       "bar_style": "",
       "description": "Processing: ",
       "description_tooltip": null,
       "layout": "IPY_MODEL_df5c89990c764e0b909f9ed1113703fe",
       "max": 6,
       "min": 0,
       "orientation": "horizontal",
       "style": "IPY_MODEL_14361119826d4577a9912f6dcf77784d",
       "value": 6
      }
     },
     "f4bce6312d90446180f68f33af69ef85": {
      "model_module": "@jupyter-widgets/controls",
      "model_module_version": "1.5.0",
      "model_name": "IntProgressModel",
      "state": {
       "_dom_classes": [],
       "_model_module": "@jupyter-widgets/controls",
       "_model_module_version": "1.5.0",
       "_model_name": "IntProgressModel",
       "_view_count": null,
       "_view_module": "@jupyter-widgets/controls",
       "_view_module_version": "1.5.0",
       "_view_name": "ProgressView",
       "bar_style": "",
       "description": "Processing: ",
       "description_tooltip": null,
       "layout": "IPY_MODEL_dd5041d11b1f42fb9fe2dec74bc51f00",
       "max": 3,
       "min": 0,
       "orientation": "horizontal",
       "style": "IPY_MODEL_2071ce06bc204cf2b9d37afa019acbcb",
       "value": 3
      }
     },
     "fbeb70837cfc4bb7ae84621189341782": {
      "model_module": "@jupyter-widgets/base",
      "model_module_version": "1.2.0",
      "model_name": "LayoutModel",
      "state": {
       "_model_module": "@jupyter-widgets/base",
       "_model_module_version": "1.2.0",
       "_model_name": "LayoutModel",
       "_view_count": null,
       "_view_module": "@jupyter-widgets/base",
       "_view_module_version": "1.2.0",
       "_view_name": "LayoutView",
       "align_content": null,
       "align_items": null,
       "align_self": null,
       "border": null,
       "bottom": null,
       "display": null,
       "flex": null,
       "flex_flow": null,
       "grid_area": null,
       "grid_auto_columns": null,
       "grid_auto_flow": null,
       "grid_auto_rows": null,
       "grid_column": null,
       "grid_gap": null,
       "grid_row": null,
       "grid_template_areas": null,
       "grid_template_columns": null,
       "grid_template_rows": null,
       "height": null,
       "justify_content": null,
       "justify_items": null,
       "left": null,
       "margin": null,
       "max_height": null,
       "max_width": null,
       "min_height": null,
       "min_width": null,
       "object_fit": null,
       "object_position": null,
       "order": null,
       "overflow": null,
       "overflow_x": null,
       "overflow_y": null,
       "padding": null,
       "right": null,
       "top": null,
       "visibility": null,
       "width": null
      }
     }
    },
    "version_major": 2,
    "version_minor": 0
   }
  }
 },
 "nbformat": 4,
 "nbformat_minor": 5
}
